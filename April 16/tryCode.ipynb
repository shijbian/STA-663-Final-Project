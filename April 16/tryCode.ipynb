{
 "metadata": {
  "name": "",
  "signature": "sha256:48853481a08e410003a70d15a266f779df3f1c11d6215545858a65bd8e4b843e"
 },
 "nbformat": 3,
 "nbformat_minor": 0,
 "worksheets": [
  {
   "cells": [
    {
     "cell_type": "code",
     "collapsed": false,
     "input": [
      "from numpy import *\n",
      "\n",
      "class cluster_node:\n",
      "    def __init__(self,vec,left=None,right=None,distance=0.0,id=None,count=1):\n",
      "        self.left=left\n",
      "        self.right=right\n",
      "        self.vec=vec\n",
      "        self.id=id\n",
      "        self.distance=distance\n",
      "        self.count=count #only used for weighted average \n",
      "\n",
      "def L2dist(v1,v2):\n",
      "    return sqrt(sum((v1-v2)**2))\n",
      "\n",
      "def hcluster(features,distance=L2dist):\n",
      "    #cluster the rows of the \"features\" matrix\n",
      "    distances={}\n",
      "    currentclustid=-1\n",
      "\n",
      "    # clusters are initially just the individual rows\n",
      "    clust=[cluster_node(array(features[i]),id=i) for i in range(len(features))]\n",
      "\n",
      "    while len(clust)>1:\n",
      "        lowestpair=(0,1)\n",
      "        closest=distance(clust[0].vec,clust[1].vec)\n",
      "\n",
      "        # loop through every pair looking for the smallest distance\n",
      "        for i in range(len(clust)):\n",
      "            for j in range(i+1,len(clust)):\n",
      "                # distances is the cache of distance calculations\n",
      "                if (clust[i].id,clust[j].id) not in distances: \n",
      "                    distances[(clust[i].id,clust[j].id)]=distance(clust[i].vec,clust[j].vec)\n",
      "\n",
      "                d=distances[(clust[i].id,clust[j].id)]\n",
      "\n",
      "                if d < closest:\n",
      "                    closest=d\n",
      "                    lowestpair=(i,j)\n",
      "\n",
      "        # calculate the average of the two clusters\n",
      "        mergevec=[(clust[lowestpair[0]].vec[i]+clust[lowestpair[1]].vec[i])/2.0 \\\n",
      "            for i in range(len(clust[0].vec))]\n",
      "\n",
      "        # create the new cluster\n",
      "        newcluster=cluster_node(array(mergevec),left=clust[lowestpair[0]],\n",
      "                             right=clust[lowestpair[1]],\n",
      "                             distance=closest,id=currentclustid)\n",
      "\n",
      "        # cluster ids that weren't in the original set are negative\n",
      "        currentclustid-=1\n",
      "        del clust[lowestpair[1]]\n",
      "        del clust[lowestpair[0]]\n",
      "        clust.append(newcluster)\n",
      "\n",
      "    return clust[0]\n"
     ],
     "language": "python",
     "metadata": {},
     "outputs": [],
     "prompt_number": 7
    },
    {
     "cell_type": "code",
     "collapsed": false,
     "input": [
      "def extract_clusters(clust,dist):\n",
      "    # extract list of sub-tree clusters from hcluster tree with distance < dist\n",
      "    clusters = {}\n",
      "    if clust.distance < dist:\n",
      "        # we have found a cluster subtree\n",
      "        return [clust]\n",
      "    else:\n",
      "        # check the right and left branches\n",
      "        cl = []\n",
      "        cr = []\n",
      "        if clust.left!=None: \n",
      "            cl = extract_clusters(clust.left,dist=dist)\n",
      "        if clust.right!=None: \n",
      "            cr = extract_clusters(clust.right,dist=dist)\n",
      "        return cl+cr"
     ],
     "language": "python",
     "metadata": {},
     "outputs": [],
     "prompt_number": 8
    },
    {
     "cell_type": "code",
     "collapsed": false,
     "input": [
      "def get_cluster_elements(clust):\n",
      "    # return ids for elements in a cluster sub-tree\n",
      "    if clust.id>0:\n",
      "        # positive id means that this is a leaf\n",
      "        return [clust.id]\n",
      "    else:\n",
      "        # check the right and left branches\n",
      "        cl = []\n",
      "        cr = []\n",
      "        if clust.left!=None: \n",
      "            cl = get_cluster_elements(clust.left)\n",
      "        if clust.right!=None: \n",
      "            cr = get_cluster_elements(clust.right)\n",
      "        return cl+cr"
     ],
     "language": "python",
     "metadata": {},
     "outputs": [],
     "prompt_number": 9
    },
    {
     "cell_type": "code",
     "collapsed": false,
     "input": [
      "import os\n",
      "from PIL import Image\n",
      "from numpy import *\n",
      "#import hcluster\n",
      "\n",
      "\n",
      "#create a list of images\n",
      "imlist = []\n",
      "for filename in os.listdir('./'):\n",
      "    if os.path.splitext(filename)[1] == '.jpg':\n",
      "        imlist.append(filename)\n",
      "n = len(imlist)\n",
      "\n",
      "#extract feature vector for each image\n",
      "features = zeros((n,3))\n",
      "for i in range(n):\n",
      "    im = array(Image.open(imlist[i]))\n",
      "    R = mean(im[:,:,0].flatten())\n",
      "    G = mean(im[:,:,1].flatten())\n",
      "    B = mean(im[:,:,2].flatten())\n",
      "    features[i] = array([R,G,B])\n",
      "\n",
      "#tree = hcluster.hcluster(features)\n",
      "print features."
     ],
     "language": "python",
     "metadata": {},
     "outputs": [
      {
       "output_type": "stream",
       "stream": "stdout",
       "text": [
        "0\n"
       ]
      }
     ],
     "prompt_number": 16
    },
    {
     "cell_type": "code",
     "collapsed": false,
     "input": [
      "n=3\n",
      "features = zeros((n,3))\n",
      "features.shape"
     ],
     "language": "python",
     "metadata": {},
     "outputs": [
      {
       "metadata": {},
       "output_type": "pyout",
       "prompt_number": 18,
       "text": [
        "(3, 3)"
       ]
      }
     ],
     "prompt_number": 18
    },
    {
     "cell_type": "code",
     "collapsed": false,
     "input": [
      "hcluster(3,1)"
     ],
     "language": "python",
     "metadata": {},
     "outputs": [
      {
       "ename": "TypeError",
       "evalue": "object of type 'int' has no len()",
       "output_type": "pyerr",
       "traceback": [
        "\u001b[0;31m---------------------------------------------------------------------------\u001b[0m\n\u001b[0;31mTypeError\u001b[0m                                 Traceback (most recent call last)",
        "\u001b[0;32m<ipython-input-19-07a1bf649c48>\u001b[0m in \u001b[0;36m<module>\u001b[0;34m()\u001b[0m\n\u001b[0;32m----> 1\u001b[0;31m \u001b[0mhcluster\u001b[0m\u001b[0;34m(\u001b[0m\u001b[0;36m3\u001b[0m\u001b[0;34m,\u001b[0m\u001b[0;36m1\u001b[0m\u001b[0;34m)\u001b[0m\u001b[0;34m\u001b[0m\u001b[0m\n\u001b[0m",
        "\u001b[0;32m<ipython-input-7-e6c670b7f781>\u001b[0m in \u001b[0;36mhcluster\u001b[0;34m(features, distance)\u001b[0m\n\u001b[1;32m     19\u001b[0m \u001b[0;34m\u001b[0m\u001b[0m\n\u001b[1;32m     20\u001b[0m     \u001b[0;31m# clusters are initially just the individual rows\u001b[0m\u001b[0;34m\u001b[0m\u001b[0;34m\u001b[0m\u001b[0m\n\u001b[0;32m---> 21\u001b[0;31m     \u001b[0mclust\u001b[0m\u001b[0;34m=\u001b[0m\u001b[0;34m[\u001b[0m\u001b[0mcluster_node\u001b[0m\u001b[0;34m(\u001b[0m\u001b[0marray\u001b[0m\u001b[0;34m(\u001b[0m\u001b[0mfeatures\u001b[0m\u001b[0;34m[\u001b[0m\u001b[0mi\u001b[0m\u001b[0;34m]\u001b[0m\u001b[0;34m)\u001b[0m\u001b[0;34m,\u001b[0m\u001b[0mid\u001b[0m\u001b[0;34m=\u001b[0m\u001b[0mi\u001b[0m\u001b[0;34m)\u001b[0m \u001b[0;32mfor\u001b[0m \u001b[0mi\u001b[0m \u001b[0;32min\u001b[0m \u001b[0mrange\u001b[0m\u001b[0;34m(\u001b[0m\u001b[0mlen\u001b[0m\u001b[0;34m(\u001b[0m\u001b[0mfeatures\u001b[0m\u001b[0;34m)\u001b[0m\u001b[0;34m)\u001b[0m\u001b[0;34m]\u001b[0m\u001b[0;34m\u001b[0m\u001b[0m\n\u001b[0m\u001b[1;32m     22\u001b[0m \u001b[0;34m\u001b[0m\u001b[0m\n\u001b[1;32m     23\u001b[0m     \u001b[0;32mwhile\u001b[0m \u001b[0mlen\u001b[0m\u001b[0;34m(\u001b[0m\u001b[0mclust\u001b[0m\u001b[0;34m)\u001b[0m\u001b[0;34m>\u001b[0m\u001b[0;36m1\u001b[0m\u001b[0;34m:\u001b[0m\u001b[0;34m\u001b[0m\u001b[0m\n",
        "\u001b[0;31mTypeError\u001b[0m: object of type 'int' has no len()"
       ]
      }
     ],
     "prompt_number": 19
    },
    {
     "cell_type": "code",
     "collapsed": false,
     "input": [],
     "language": "python",
     "metadata": {},
     "outputs": []
    }
   ],
   "metadata": {}
  }
 ]
}