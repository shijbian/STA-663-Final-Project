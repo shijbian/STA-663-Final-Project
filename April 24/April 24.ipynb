{
 "metadata": {
  "name": "",
  "signature": "sha256:34cdfe80dccc27eba7b7b7f5ac570034fd9e43aba3fbba00963df77018575785"
 },
 "nbformat": 3,
 "nbformat_minor": 0,
 "worksheets": [
  {
   "cells": [
    {
     "cell_type": "markdown",
     "metadata": {},
     "source": [
      "Bayesian Hierarchical Clustering \n",
      "============="
     ]
    },
    {
     "cell_type": "markdown",
     "metadata": {},
     "source": [
      "### Abstract\n"
     ]
    },
    {
     "cell_type": "markdown",
     "metadata": {},
     "source": [
      "### Outline  \n",
      "\n",
      "+ #### Background  \n",
      "\n",
      "+ #### Traditional Clustering Methods  \n",
      "\n",
      "+ #### Algorithm\n",
      "\n",
      "+ #### Case Study\n"
     ]
    },
    {
     "cell_type": "markdown",
     "metadata": {},
     "source": [
      "### Background\n",
      "\n",
      "State the research paper you are using. Describe the concept of the algorithm and why it is interesting and/or useful. If appropriate, describe the mathematical basis of the algorithm. Some potential topics for the backgorund include:\n",
      "\n",
      "- What problem does it address? \n",
      "- What are known and possible applications of the algorithm? \n",
      "- What are its advantages and disadvantages relative to other algorithms?\n",
      "- How will you use it in your research?\n",
      "\n"
     ]
    },
    {
     "cell_type": "markdown",
     "metadata": {},
     "source": [
      "### Traditional Clustering Methods  "
     ]
    },
    {
     "cell_type": "markdown",
     "metadata": {},
     "source": [
      "### Basic Algorithm\n",
      "\n",
      "\n",
      "**input** data $\\mathcal{D} = {x^{(1)}, x^{(2)}, \\ldots, x^{(n)}}$, model $p(x|\\theta)$, prior $p(\\theta|\\beta)$\n",
      "\n",
      "**initialize: ** number of clusters $\\mathcal{c}=\\mathcal{n}$ for $i = 1, \\ldots, n$\n",
      "\n",
      "**while** $\\mathcal{c}>1$ **do**:\n",
      "\n",
      "+ Find the pair $\\mathcal{D}_i$ and $\\mathcal{D}_j$ with the highest probability of the merged hypothesis:\n",
      " $$\\mathcal{r}_k = \\frac{\\pi_k p(\\mathcal{D}_k|\\mathcal{H}_1^k)}{p(\\mathcal{D}_k|\\mathcal{T}_k)}$$\n",
      "+ Merge $\\mathcal{D}_k \\leftarrow \\mathcal{D}_i \\cup \\mathcal{D}_j$, $\\mathcal{T}_k \\leftarrow (\\mathcal{T}_i, \\mathcal{T}_j)$\n",
      "+ Delete $\\mathcal{D}_i$ and $\\mathcal{D}_j$, $c \\leftarrow c-1$\n",
      "\n",
      "**end while**\n",
      "\n",
      "**output: ** Bayesian mixture model where each tree node is a mixture component\n",
      "The tree can be cut at points where $\\mathcal{r}_k<0.5$"
     ]
    },
    {
     "cell_type": "markdown",
     "metadata": {},
     "source": [
      "### Case Study I: Gaussion Distribution with Unknown Mean and Precision\n",
      "\n",
      "Assume each observation $x^{(i)}$ consists of $d$ variables, i.e.$x^{(i)}=(x_1^{(i)},\\ldots,x_d^{(i)})$, we need make the assumptions below to accomodate the algorithm:\n",
      "\n",
      "+ the dataset is normalized, i.e. it has mean sero and a unit variance;\n",
      "+ for each observation $x^{(i)}$,its variables ${x_j^{(i)}}_{j=1}^d$ are independnt and generated from different Gaussian distributions.\n",
      "+ the realizations of each variable j, ${x_j^{(i)}}_{j=1}^{n_k}$ in cluster $\\mathcal{D}_k$ are independent and identically distributed and drawn from Gaussian distribution with unknown mean $\\mu_j$ and precision $\\sigma_j^2$, and the prior on $(\\mu_j,\\sigma_j^{-2})$ is a normal-gamma distribution with hyperparameter $\\mu_0,\\sigma_0,\\beta_0,\\kappa$."
     ]
    },
    {
     "cell_type": "code",
     "collapsed": false,
     "input": [
      "%matplotlib inline\n",
      "import scipy.stats as stats\n",
      "from IPython.core.pylabtools import figsize\n",
      "import numpy as np\n",
      "figsize(12.5, 4)\n",
      "\n",
      "import matplotlib.pyplot as plt\n",
      "from mpl_toolkits.mplot3d import Axes3D\n",
      "\n",
      "%matplotlib inline\n",
      "import scipy.stats as stats\n",
      "from IPython.core.pylabtools import figsize\n",
      "import numpy as np\n",
      "figsize(12.5, 4)\n",
      "\n",
      "import matplotlib.pyplot as plt\n",
      "from mpl_toolkits.mplot3d import Axes3D\n",
      "\n",
      "import itertools\n",
      "\n",
      "import numpy as np\n",
      "from scipy import linalg\n",
      "import matplotlib.pyplot as plt\n",
      "import matplotlib as mpl\n",
      "\n",
      "from sklearn import mixture\n",
      "\n",
      "import operator"
     ],
     "language": "python",
     "metadata": {},
     "outputs": [],
     "prompt_number": 6
    },
    {
     "cell_type": "markdown",
     "metadata": {},
     "source": [
      "### Revised Algorithm \n",
      "\n",
      "+ **Step 1: Data Simulation:** \n",
      "simulate n data from two normal distribution: N(0, 1) and N(20, 1). This two cluster are distinguishable from each other. The default setup is 50% from the cluster 0 and 50% from the cluster 1;\n",
      "\n",
      "+ **Step 2: Initialization:** \n",
      "Initialize the data by extracting one pair of the data from each of the 2 clusters.\n",
      "\n",
      "+ **Step 3: Actual Algorithm:** \n",
      "\n",
      "\n",
      "\n"
     ]
    },
    {
     "cell_type": "markdown",
     "metadata": {},
     "source": [
      "#### Simulate data:"
     ]
    },
    {
     "cell_type": "code",
     "collapsed": false,
     "input": [
      "mean = (1,20)\n",
      "cov = [[1,0],[0,1]]\n",
      "n=5\n",
      "dat = np.random.multivariate_normal(mean,cov,n)\n",
      "\n",
      "print dat.shape\n"
     ],
     "language": "python",
     "metadata": {},
     "outputs": [
      {
       "output_type": "stream",
       "stream": "stdout",
       "text": [
        "(5, 2)\n"
       ]
      }
     ],
     "prompt_number": 9
    },
    {
     "cell_type": "code",
     "collapsed": false,
     "input": [
      "# reshape the dataset to be a 20*1 \n",
      "data = dat.reshape((n*2, 1))"
     ],
     "language": "python",
     "metadata": {},
     "outputs": [],
     "prompt_number": 10
    },
    {
     "cell_type": "code",
     "collapsed": false,
     "input": [
      "plt.hist(data, bins=20, color=\"k\", histtype=\"stepfilled\", alpha=0.8)\n",
      "plt.title(\"Histogram of the dataset\")\n",
      "plt.ylim([0, None])\n",
      "print data[:10], \"...\""
     ],
     "language": "python",
     "metadata": {},
     "outputs": [
      {
       "output_type": "stream",
       "stream": "stdout",
       "text": [
        "[[ -0.10683091]\n",
        " [ 19.06107295]\n",
        " [ -0.02865793]\n",
        " [ 18.18334093]\n",
        " [  1.09003402]\n",
        " [ 22.63534709]\n",
        " [ -0.53042183]\n",
        " [ 19.04011995]\n",
        " [  0.43943773]\n",
        " [ 18.47642257]] ...\n"
       ]
      },
      {
       "metadata": {},
       "output_type": "display_data",
       "png": "[encoded data removed]",
       "text": [
        "<matplotlib.figure.Figure at 0x7f437bdf3650>"
       ]
      }
     ],
     "prompt_number": 11
    },
    {
     "cell_type": "code",
     "collapsed": false,
     "input": [
      "import pymc as pm\n",
      "\n",
      "p = pm.Uniform(\"p\", 0, 1)\n",
      "\n",
      "assignment = pm.Categorical(\"assignment\", [p, 1 - p], size=data.shape[0])\n",
      "print \"prior assignment, with p = %.2f:\" % p.value\n",
      "print assignment.value[:10], \"...\"\n"
     ],
     "language": "python",
     "metadata": {},
     "outputs": [
      {
       "output_type": "stream",
       "stream": "stdout",
       "text": [
        "prior assignment, with p = 0.37:\n",
        "[1 0 1 0 1 1 0 1 1 0] ...\n"
       ]
      }
     ],
     "prompt_number": 14
    },
    {
     "cell_type": "code",
     "collapsed": false,
     "input": [
      "print assignment.value"
     ],
     "language": "python",
     "metadata": {},
     "outputs": [
      {
       "output_type": "stream",
       "stream": "stdout",
       "text": [
        "[1 0 1 0 1 1 0 1 1 0]\n"
       ]
      }
     ],
     "prompt_number": 15
    },
    {
     "cell_type": "code",
     "collapsed": false,
     "input": [
      "import pandas as pd\n",
      "n=5\n",
      "value = np.array([assignment.value])\n",
      "value = value.reshape((n*2,1)).reshape(-1)\n",
      "df = pd.DataFrame({'data': data.reshape(-1),\n",
      "                   'Assignment': value}, index=range(0,n*2))\n",
      "df['Assignment'] = df['Assignment'].astype(object)\n",
      "grouped = df.groupby(\"Assignment\")\n",
      "# mean for the two assigned groups respectively \n",
      "grouped.mean()"
     ],
     "language": "python",
     "metadata": {},
     "outputs": [
      {
       "html": [
        "<div style=\"max-height:1000px;max-width:1500px;overflow:auto;\">\n",
        "<table border=\"1\" class=\"dataframe\">\n",
        "  <thead>\n",
        "    <tr style=\"text-align: right;\">\n",
        "      <th></th>\n",
        "      <th>data</th>\n",
        "    </tr>\n",
        "    <tr>\n",
        "      <th>Assignment</th>\n",
        "      <th></th>\n",
        "    </tr>\n",
        "  </thead>\n",
        "  <tbody>\n",
        "    <tr>\n",
        "      <th>0</th>\n",
        "      <td> 13.797604</td>\n",
        "    </tr>\n",
        "    <tr>\n",
        "      <th>1</th>\n",
        "      <td>  7.178242</td>\n",
        "    </tr>\n",
        "  </tbody>\n",
        "</table>\n",
        "</div>"
       ],
       "metadata": {},
       "output_type": "pyout",
       "prompt_number": 16,
       "text": [
        "                 data\n",
        "Assignment           \n",
        "0           13.797604\n",
        "1            7.178242"
       ]
      }
     ],
     "prompt_number": 16
    },
    {
     "cell_type": "code",
     "collapsed": false,
     "input": [
      "# this is the data frame of the sampled n*2 data from 2 different normal distribution\n",
      "df"
     ],
     "language": "python",
     "metadata": {},
     "outputs": [
      {
       "html": [
        "<div style=\"max-height:1000px;max-width:1500px;overflow:auto;\">\n",
        "<table border=\"1\" class=\"dataframe\">\n",
        "  <thead>\n",
        "    <tr style=\"text-align: right;\">\n",
        "      <th></th>\n",
        "      <th>Assignment</th>\n",
        "      <th>data</th>\n",
        "    </tr>\n",
        "  </thead>\n",
        "  <tbody>\n",
        "    <tr>\n",
        "      <th>0</th>\n",
        "      <td> 1</td>\n",
        "      <td> -0.106831</td>\n",
        "    </tr>\n",
        "    <tr>\n",
        "      <th>1</th>\n",
        "      <td> 0</td>\n",
        "      <td> 19.061073</td>\n",
        "    </tr>\n",
        "    <tr>\n",
        "      <th>2</th>\n",
        "      <td> 1</td>\n",
        "      <td> -0.028658</td>\n",
        "    </tr>\n",
        "    <tr>\n",
        "      <th>3</th>\n",
        "      <td> 0</td>\n",
        "      <td> 18.183341</td>\n",
        "    </tr>\n",
        "    <tr>\n",
        "      <th>4</th>\n",
        "      <td> 1</td>\n",
        "      <td>  1.090034</td>\n",
        "    </tr>\n",
        "    <tr>\n",
        "      <th>5</th>\n",
        "      <td> 1</td>\n",
        "      <td> 22.635347</td>\n",
        "    </tr>\n",
        "    <tr>\n",
        "      <th>6</th>\n",
        "      <td> 0</td>\n",
        "      <td> -0.530422</td>\n",
        "    </tr>\n",
        "    <tr>\n",
        "      <th>7</th>\n",
        "      <td> 1</td>\n",
        "      <td> 19.040120</td>\n",
        "    </tr>\n",
        "    <tr>\n",
        "      <th>8</th>\n",
        "      <td> 1</td>\n",
        "      <td>  0.439438</td>\n",
        "    </tr>\n",
        "    <tr>\n",
        "      <th>9</th>\n",
        "      <td> 0</td>\n",
        "      <td> 18.476423</td>\n",
        "    </tr>\n",
        "  </tbody>\n",
        "</table>\n",
        "</div>"
       ],
       "metadata": {},
       "output_type": "pyout",
       "prompt_number": 17,
       "text": [
        "  Assignment       data\n",
        "0          1  -0.106831\n",
        "1          0  19.061073\n",
        "2          1  -0.028658\n",
        "3          0  18.183341\n",
        "4          1   1.090034\n",
        "5          1  22.635347\n",
        "6          0  -0.530422\n",
        "7          1  19.040120\n",
        "8          1   0.439438\n",
        "9          0  18.476423"
       ]
      }
     ],
     "prompt_number": 17
    },
    {
     "cell_type": "code",
     "collapsed": false,
     "input": [
      "# Slice the two data frames\n",
      "# df_0 has the data labeled 0\n",
      "# df_1 has the data labeled 1\n",
      "\n",
      "df_0 = df.loc[df['Assignment'] == 0]\n",
      "df_1 = df.loc[df['Assignment'] == 1]\n"
     ],
     "language": "python",
     "metadata": {},
     "outputs": [],
     "prompt_number": 18
    },
    {
     "cell_type": "code",
     "collapsed": false,
     "input": [
      "# data frame that is assigned 0\n",
      "df_0"
     ],
     "language": "python",
     "metadata": {},
     "outputs": [
      {
       "html": [
        "<div style=\"max-height:1000px;max-width:1500px;overflow:auto;\">\n",
        "<table border=\"1\" class=\"dataframe\">\n",
        "  <thead>\n",
        "    <tr style=\"text-align: right;\">\n",
        "      <th></th>\n",
        "      <th>Assignment</th>\n",
        "      <th>data</th>\n",
        "    </tr>\n",
        "  </thead>\n",
        "  <tbody>\n",
        "    <tr>\n",
        "      <th>1</th>\n",
        "      <td> 0</td>\n",
        "      <td> 19.061073</td>\n",
        "    </tr>\n",
        "    <tr>\n",
        "      <th>3</th>\n",
        "      <td> 0</td>\n",
        "      <td> 18.183341</td>\n",
        "    </tr>\n",
        "    <tr>\n",
        "      <th>6</th>\n",
        "      <td> 0</td>\n",
        "      <td> -0.530422</td>\n",
        "    </tr>\n",
        "    <tr>\n",
        "      <th>9</th>\n",
        "      <td> 0</td>\n",
        "      <td> 18.476423</td>\n",
        "    </tr>\n",
        "  </tbody>\n",
        "</table>\n",
        "</div>"
       ],
       "metadata": {},
       "output_type": "pyout",
       "prompt_number": 19,
       "text": [
        "  Assignment       data\n",
        "1          0  19.061073\n",
        "3          0  18.183341\n",
        "6          0  -0.530422\n",
        "9          0  18.476423"
       ]
      }
     ],
     "prompt_number": 19
    },
    {
     "cell_type": "code",
     "collapsed": false,
     "input": [
      "# data frame that is assigned 1\n",
      "df_1"
     ],
     "language": "python",
     "metadata": {},
     "outputs": [
      {
       "html": [
        "<div style=\"max-height:1000px;max-width:1500px;overflow:auto;\">\n",
        "<table border=\"1\" class=\"dataframe\">\n",
        "  <thead>\n",
        "    <tr style=\"text-align: right;\">\n",
        "      <th></th>\n",
        "      <th>Assignment</th>\n",
        "      <th>data</th>\n",
        "    </tr>\n",
        "  </thead>\n",
        "  <tbody>\n",
        "    <tr>\n",
        "      <th>0</th>\n",
        "      <td> 1</td>\n",
        "      <td> -0.106831</td>\n",
        "    </tr>\n",
        "    <tr>\n",
        "      <th>2</th>\n",
        "      <td> 1</td>\n",
        "      <td> -0.028658</td>\n",
        "    </tr>\n",
        "    <tr>\n",
        "      <th>4</th>\n",
        "      <td> 1</td>\n",
        "      <td>  1.090034</td>\n",
        "    </tr>\n",
        "    <tr>\n",
        "      <th>5</th>\n",
        "      <td> 1</td>\n",
        "      <td> 22.635347</td>\n",
        "    </tr>\n",
        "    <tr>\n",
        "      <th>7</th>\n",
        "      <td> 1</td>\n",
        "      <td> 19.040120</td>\n",
        "    </tr>\n",
        "    <tr>\n",
        "      <th>8</th>\n",
        "      <td> 1</td>\n",
        "      <td>  0.439438</td>\n",
        "    </tr>\n",
        "  </tbody>\n",
        "</table>\n",
        "</div>"
       ],
       "metadata": {},
       "output_type": "pyout",
       "prompt_number": 20,
       "text": [
        "  Assignment       data\n",
        "0          1  -0.106831\n",
        "2          1  -0.028658\n",
        "4          1   1.090034\n",
        "5          1  22.635347\n",
        "7          1  19.040120\n",
        "8          1   0.439438"
       ]
      }
     ],
     "prompt_number": 20
    },
    {
     "cell_type": "code",
     "collapsed": false,
     "input": [
      "# rows_0_v: random select two data from df_0\n",
      "\n",
      "# rows_0: the random 2 index assigned as 0\n",
      "rows_0 = np.random.choice(df_0.index.values, 2, replace = False)\n",
      "\n",
      "# sampled_df_0: the corresponding rows on the two index\n",
      "sampled_df_0 = df.ix[rows_0]\n",
      "\n",
      "# rows_0_v: extract the index only\n",
      "rows_0_v = rows_0.reshape(-1)"
     ],
     "language": "python",
     "metadata": {},
     "outputs": [],
     "prompt_number": 21
    },
    {
     "cell_type": "code",
     "collapsed": false,
     "input": [
      "##### Do the same thing as above for index 0\n",
      "# rows_1_v: random select two data from df_1\n",
      "rows_1 = np.random.choice(df_1.index.values, 2, replace = False)\n",
      "sampled_df_1 = df.ix[rows_1]\n",
      "rows_1_v = rows_1.reshape(-1)\n"
     ],
     "language": "python",
     "metadata": {},
     "outputs": [],
     "prompt_number": 22
    },
    {
     "cell_type": "code",
     "collapsed": false,
     "input": [
      "sampled_df_0"
     ],
     "language": "python",
     "metadata": {},
     "outputs": [
      {
       "html": [
        "<div style=\"max-height:1000px;max-width:1500px;overflow:auto;\">\n",
        "<table border=\"1\" class=\"dataframe\">\n",
        "  <thead>\n",
        "    <tr style=\"text-align: right;\">\n",
        "      <th></th>\n",
        "      <th>Assignment</th>\n",
        "      <th>data</th>\n",
        "    </tr>\n",
        "  </thead>\n",
        "  <tbody>\n",
        "    <tr>\n",
        "      <th>9</th>\n",
        "      <td> 0</td>\n",
        "      <td> 18.476423</td>\n",
        "    </tr>\n",
        "    <tr>\n",
        "      <th>6</th>\n",
        "      <td> 0</td>\n",
        "      <td> -0.530422</td>\n",
        "    </tr>\n",
        "  </tbody>\n",
        "</table>\n",
        "</div>"
       ],
       "metadata": {},
       "output_type": "pyout",
       "prompt_number": 23,
       "text": [
        "  Assignment       data\n",
        "9          0  18.476423\n",
        "6          0  -0.530422"
       ]
      }
     ],
     "prompt_number": 23
    },
    {
     "cell_type": "code",
     "collapsed": false,
     "input": [
      "sampled_df_1"
     ],
     "language": "python",
     "metadata": {},
     "outputs": [
      {
       "html": [
        "<div style=\"max-height:1000px;max-width:1500px;overflow:auto;\">\n",
        "<table border=\"1\" class=\"dataframe\">\n",
        "  <thead>\n",
        "    <tr style=\"text-align: right;\">\n",
        "      <th></th>\n",
        "      <th>Assignment</th>\n",
        "      <th>data</th>\n",
        "    </tr>\n",
        "  </thead>\n",
        "  <tbody>\n",
        "    <tr>\n",
        "      <th>5</th>\n",
        "      <td> 1</td>\n",
        "      <td> 22.635347</td>\n",
        "    </tr>\n",
        "    <tr>\n",
        "      <th>8</th>\n",
        "      <td> 1</td>\n",
        "      <td>  0.439438</td>\n",
        "    </tr>\n",
        "  </tbody>\n",
        "</table>\n",
        "</div>"
       ],
       "metadata": {},
       "output_type": "pyout",
       "prompt_number": 24,
       "text": [
        "  Assignment       data\n",
        "5          1  22.635347\n",
        "8          1   0.439438"
       ]
      }
     ],
     "prompt_number": 24
    },
    {
     "cell_type": "markdown",
     "metadata": {},
     "source": [
      "Given that our model is a DPM we can\n",
      "compute\n",
      "\u2013 \ud835\udc43 \ud835\udc37\ud835\udc58 \ud835\udc3b1\n",
      "\ud835\udc58\n",
      "- data at tree \ud835\udc47\ud835\udc58 was generated from\n",
      "the same cluster.\n",
      "\u2013 \ud835\udc43 \ud835\udc37\ud835\udc58 \ud835\udc3b1\n",
      "\ud835\udc58 = \u222b \ud835\udc5d \ud835\udc37\ud835\udc58 \ud835\udf03 \ud835\udc5d \ud835\udf03 \ud835\udefd \ud835\udc51\ud835\udf03\n",
      "\u2013 Easy to compute if the model has conjugacy\n",
      "\n",
      "\n",
      "\ud835\udc43 \ud835\udc37\ud835\udc58 \ud835\udc3b2\n",
      "\ud835\udc58\n",
      "- \ud835\udc37\ud835\udc58was generated from two or\n",
      "more components defining partitions\n",
      "consistent with trees \ud835\udc47\ud835\udc56 \ud835\udc4e\ud835\udc5b\ud835\udc51 \ud835\udc47\ud835\udc57\n",
      "\u2013 \ud835\udc43 \ud835\udc37\ud835\udc58 \ud835\udc3b2\n",
      "\ud835\udc58 = \ud835\udc43 \ud835\udc37\ud835\udc56 \ud835\udc47\ud835\udc56 \ud835\udc43 \ud835\udc37\ud835\udc57 \ud835\udc47\ud835\udc57)\n",
      "\u2013 \ud835\udc43 \ud835\udc37\ud835\udc58 \ud835\udc47\ud835\udc58 = \ud835\udf0b\ud835\udc58\ud835\udc5d \ud835\udc37\ud835\udc58 \ud835\udc3b\ud835\udc58\n",
      "1 + 1 \u2212 \ud835\udf0b\ud835\udc58 \ud835\udc43 \ud835\udc37\ud835\udc58 \ud835\udc3b2\n",
      "\ud835\udc58\n",
      "\u2022 \ud835\udf0b\ud835\udc58 = \ud835\udc5d(\ud835\udc3b\ud835\udc58\n",
      "1\n",
      ")"
     ]
    },
    {
     "cell_type": "code",
     "collapsed": false,
     "input": [
      "# code the probability of the initial 2 points\n",
      "from scipy.stats import norm\n",
      "\n",
      "x_value = 1.20387 + 1.20387\n",
      "mu_0 = 1\n",
      "sigma_0 = 2\n",
      "n = 2\n",
      "\n",
      "def D_k (x_value, mu_0, sigma_0, n):\n",
      "    post_mu = (mu_0*1.0/np.power(sigma_0,2) + x_value*1.0/np.power(sigma_0,2))/(1.0/np.power(sigma_0,2)+n*1.0/np.power(sigma_0,2))\n",
      "    post_var = 1.0/(1.0/power(sigma_0,2) + n*1.0/power(sigma_0,2))\n",
      "    post_sigma = np.power(post_var,0.5)\n",
      "    return norm.pdf(x_value, loc = 3, scale = 5)\n",
      "\n",
      "print D_k(x_value, mu_0, sigma_0, n)\n",
      "init_index = np.append(rows_0_v, rows_1_v)\n",
      "print init_index"
     ],
     "language": "python",
     "metadata": {},
     "outputs": [
      {
       "output_type": "stream",
       "stream": "stdout",
       "text": [
        "0.0792306639672\n",
        "[9 6 5 8]\n"
       ]
      }
     ],
     "prompt_number": 25
    },
    {
     "cell_type": "code",
     "collapsed": false,
     "input": [
      "# store the index that has been taken\n",
      "init_index = np.append(rows_0_v, rows_1_v)\n",
      "\n",
      "# store the list of values the cluster 0 should take\n",
      "clust0_v = np.append([df.ix[init_index[0],1]], [df.ix[init_index[1],1]])\n",
      "print clust0_v\n",
      "# store the list of values the cluster 1 should take\n",
      "clust1_v = np.append([df.ix[init_index[2],1]], [df.ix[init_index[3],1]])\n",
      "print clust1_v"
     ],
     "language": "python",
     "metadata": {},
     "outputs": [
      {
       "output_type": "stream",
       "stream": "stdout",
       "text": [
        "[ 18.47642257  -0.53042183]\n",
        "[ 22.63534709   0.43943773]\n"
       ]
      }
     ],
     "prompt_number": 26
    },
    {
     "cell_type": "code",
     "collapsed": false,
     "input": [
      "i = 9\n",
      "tempx_clust0_v = np.append([clust0_v], [df.ix[i,1]])\n",
      "print tempx_clust0_v.size\n",
      "alterlike = D_k (sum(tempx_clust0_v),  mu_0 = 1, sigma_0 = 1, n = 1)\n",
      "print alterlike"
     ],
     "language": "python",
     "metadata": {},
     "outputs": [
      {
       "output_type": "stream",
       "stream": "stdout",
       "text": [
        "3\n",
        "1.5823197761e-11\n"
       ]
      }
     ],
     "prompt_number": 27
    },
    {
     "cell_type": "markdown",
     "metadata": {},
     "source": [
      "![alt text](https://raw.githubusercontent.com/shijbian/STA-663-Final-Project/master/April%2023/nodeGraph.png)\n"
     ]
    },
    {
     "cell_type": "markdown",
     "metadata": {},
     "source": [
      "### Marginal Likelihood for the Alternative Hypothesis\n",
      "\n",
      "**Likelihood for Null Hypothesis:** data at tree $\\mathcal{D}_k$ is generated from the same cluster\n",
      "\n",
      "&nbsp;&nbsp;&nbsp;&nbsp;&nbsp;&nbsp; $P(\\mathcal{D}_k|H_1^k)= \\int P(\\mathcal{D}_k|\\theta) P(\\theta|\\beta) \\mathcal{d}\\theta$\n",
      "\n",
      "**Likelihood for Alternative Hypothesis:** data at tree $\\mathcal{D}_k$ is generated from the same cluster\n",
      "\n",
      "&nbsp;&nbsp;&nbsp;&nbsp;&nbsp;&nbsp; $P(\\mathcal{D}_k|H_2^k)=P(\\mathcal{D}_i|T_i)P(\\mathcal{D}_j|T_j)$  \n",
      "\n",
      "**Marginal Probability of the Data in Tree $T_k$:**\n",
      "\n",
      "&nbsp;&nbsp;&nbsp;&nbsp;&nbsp;&nbsp; $P(\\mathcal{D}_k|T_k)=\\pi_kP(\\mathcal{D}_k|H^k_1)+(1-\\pi_k)P(\\mathcal{D}_k|H^k_2)$  \n",
      "\n",
      "&nbsp;&nbsp;&nbsp;&nbsp;&nbsp;&nbsp; $\\pi_k = P(H^k_1)$"
     ]
    },
    {
     "cell_type": "markdown",
     "metadata": {},
     "source": [
      "### Self-design Algorithm\n",
      "\n",
      "+ **Select two pairs of points. Each of them are located separately in the two clusters.**\n",
      "\n",
      "+ **Define the function D_k**\n",
      "\n",
      "+ **Define the function hcluster:**\n",
      "    \n",
      "&nbsp;&nbsp;&nbsp;&nbsp;&nbsp;&nbsp; t_clust_0: initialized $T_i$  \n",
      "&nbsp;&nbsp;&nbsp;&nbsp;&nbsp;&nbsp; t_clust_1: initialized $T_j$  \n",
      "\n"
     ]
    },
    {
     "cell_type": "code",
     "collapsed": false,
     "input": [
      "# parameters: data -> data frame\n",
      "#             n -> the total number of points \n",
      "#             pi_0: probability of choosign cluster 0\n",
      "#             pi_1: probability of choosign cluster 1\n",
      "#             init_index: 4 initial chosen index\n",
      "#             clust0_v -> x value for cluster 0\n",
      "#             clust1_v -> x value for cluster 1\n",
      "\n",
      "def hcluster(data, n, pi_0, pi_1, init_index_0, init_index_1, clust0_v, clust1_v):\n",
      "    closed = 0.0\n",
      "    # initialize the t_node for clust 0: 2 initial selected values\n",
      "    t_clust_0 = D_k (sum(clust0_v),  mu_0 = 1, sigma_0=1, n = tempx_clust0_v.size)\n",
      "    \n",
      "    # initialize the t_node for clust 1: 2 initial selected values\n",
      "    t_clust_1 = D_k (sum(clust1_v),  mu_0 = 10, sigma_0=1, n = tempx_clust0_v.size)\n",
      "    \n",
      "    # go through all the points\n",
      "    for i in range(n):\n",
      "            \n",
      "        closest_lik = 0.0\n",
      "            \n",
      "        clust_0 = dict()\n",
      "\n",
      "        clust_1 = dict()\n",
      "            \n",
      "        # traverse all the points and pick the one that makes the likelihood to be bigger than \n",
      "        # another\n",
      "        for i in range(n):\n",
      "        \n",
      "            closest_lik = 0.0\n",
      "            \n",
      "            clust_0 = dict()\n",
      "\n",
      "            clust_1 = dict()\n",
      "            \n",
      "            # traverse of the left array\n",
      "            # i must not exist in the already exist init_index\n",
      "            if (i not in init_index == TRUE):\n",
      "                # temp add the x value to the existing picked x\n",
      "                tempx_clust0_v = np.append([clust0_v], [df.ix[i,1]])\n",
      "                tempx_clust1_v = np.append([clust1_v], [df.ix[i,1]])\n",
      "                    \n",
      "                # likeli for alternative under clust 0\n",
      "                lik_alt_0 = pi_0 * D_k (sum(tempx_clust0_v),  mu_0 = 1, sigma_0=1, n = tempx_clust0_v.size)\n",
      "                    \n",
      "                    # likeli for alternative under clust 1\n",
      "                lik_alt_1 = D_k (sum(tempx_clust1_v),  mu_0 = 10, sigma_0=1, n = tempx_clust1_v.size)\n",
      "\n",
      "                    # likeli for null under clust 0\n",
      "                lik_null_1 = (1-pi_0) * t_clust_0 * lik_alt_1\n",
      "                    \n",
      "                if lik_alt_0 > lik_null_1:\n",
      "                    post = lik_alt_0 + lik_alt_1\n",
      "                    clust_0.update({j:post})\n",
      "                else:\n",
      "                    post = lik_alt_0 + lik_alt_1\n",
      "                    clust_1.update({j:post})\n",
      "                    \n",
      "                # select the max likelihood from the two lists\n",
      "                maxLik_0 = max(clust_0.iterkeys(), key=lambda k: stats[k])\n",
      "                maxLik_1 = max(clust_1.iterkeys(), key=lambda k: stats[k])\n",
      "                if (maxLik_0>maxLik_1):\n",
      "                    # updated tode number\n",
      "                    t_clust_0 = clust_0[maxLik_0]\n",
      "                    # add the x-value \n",
      "                    clust0_v.append(maxLik_0)\n",
      "                else:\n",
      "                    t_clust_1 = clust_1[maxLik_1]\n",
      "                    clust1_v.append(maxLik_1)\n",
      "\n",
      "\n"
     ],
     "language": "python",
     "metadata": {},
     "outputs": [],
     "prompt_number": 28
    },
    {
     "cell_type": "markdown",
     "metadata": {},
     "source": [
      "The limit of this algorithm\n"
     ]
    },
    {
     "cell_type": "code",
     "collapsed": false,
     "input": [
      "indexList = np.append(rows_0_v, rows_1_v)\n",
      "3 not in indexList"
     ],
     "language": "python",
     "metadata": {},
     "outputs": [
      {
       "metadata": {},
       "output_type": "pyout",
       "prompt_number": 166,
       "text": [
        "True"
       ]
      }
     ],
     "prompt_number": 166
    },
    {
     "cell_type": "code",
     "collapsed": false,
     "input": [
      "def tryF (df, val1, val2):\n",
      "    return df.iat[val1, val2]\n",
      "\n",
      "print tryF(df, 0,1)"
     ],
     "language": "python",
     "metadata": {},
     "outputs": [],
     "prompt_number": 11
    },
    {
     "cell_type": "code",
     "collapsed": false,
     "input": [],
     "language": "python",
     "metadata": {},
     "outputs": []
    },
    {
     "cell_type": "code",
     "collapsed": false,
     "input": [
      "clust=dict()"
     ],
     "language": "python",
     "metadata": {},
     "outputs": [],
     "prompt_number": 2
    },
    {
     "cell_type": "code",
     "collapsed": false,
     "input": [
      " clust.update({3:4})"
     ],
     "language": "python",
     "metadata": {},
     "outputs": [],
     "prompt_number": 3
    },
    {
     "cell_type": "code",
     "collapsed": false,
     "input": [
      "clust.update({'xyy':4})"
     ],
     "language": "python",
     "metadata": {},
     "outputs": [],
     "prompt_number": 4
    },
    {
     "cell_type": "code",
     "collapsed": false,
     "input": [
      "print clust"
     ],
     "language": "python",
     "metadata": {},
     "outputs": [
      {
       "output_type": "stream",
       "stream": "stdout",
       "text": [
        "{'xyy': 4, 3: 4}\n"
       ]
      }
     ],
     "prompt_number": 5
    },
    {
     "cell_type": "code",
     "collapsed": false,
     "input": [
      "import operator\n",
      "stats = {'a':1000, 'b':3000, 'c': 100}\n",
      "ss = max(stats.iterkeys(), key=lambda k: stats[k])\n",
      "\n"
     ],
     "language": "python",
     "metadata": {},
     "outputs": [],
     "prompt_number": 3
    },
    {
     "cell_type": "code",
     "collapsed": false,
     "input": [
      "stats[ss]"
     ],
     "language": "python",
     "metadata": {},
     "outputs": [
      {
       "metadata": {},
       "output_type": "pyout",
       "prompt_number": 5,
       "text": [
        "3000"
       ]
      }
     ],
     "prompt_number": 5
    },
    {
     "cell_type": "code",
     "collapsed": false,
     "input": [],
     "language": "python",
     "metadata": {},
     "outputs": []
    }
   ],
   "metadata": {}
  }
 ]
}