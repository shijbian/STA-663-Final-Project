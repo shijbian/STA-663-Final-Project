{
 "metadata": {
  "name": "",
  "signature": "sha256:146163a9128c1a01b5dcd94d4ba806ee5b095cc053ca60a400087a2d5518b49c"
 },
 "nbformat": 3,
 "nbformat_minor": 0,
 "worksheets": [
  {
   "cells": [
    {
     "cell_type": "markdown",
     "metadata": {},
     "source": [
      "Bayesian Hierarchical Clustering \n",
      "=============\n",
      "\n",
      "#### STA 663 Computational Statistics in Python Final Project\n",
      "\n",
      "#### Shijia Bian\n",
      "\n"
     ]
    },
    {
     "cell_type": "markdown",
     "metadata": {},
     "source": [
      "### Abstract\n"
     ]
    },
    {
     "cell_type": "markdown",
     "metadata": {},
     "source": [
      "### Outline  \n",
      "\n",
      "+ #### Background  \n",
      "\n",
      "+ #### Traditional Hierarchical Clustering  \n",
      "\n",
      "+ #### BHC Algorithm Debrief\n",
      "\n",
      "+ #### Case Study\n",
      "\n",
      "+ #### Limitation of Implemented Algorithm\n",
      "\n",
      "+ #### Comparison to Traditional Clustering Methods\n",
      "\n",
      "+ #### Further Improvement and Pseudo Code\n",
      "\n",
      "+ #### Conclusion \n"
     ]
    },
    {
     "cell_type": "markdown",
     "metadata": {},
     "source": [
      "### Background\n",
      "\n",
      "This paper is to introduce the new Agglomerative Hierarchical Clustering Algorithm from the perspective of Bayesian. \n",
      "\n",
      "Agglomerative Hierarchical Algorithm is an important method in unsupervised learning: a useful technique for visualizing and discovering groups in a data set by analyzing the data to be a nested tree dendrogram with nodes. Both the traditional hierarchical model and the Bayesian Hierarchical Clustering(BHC) are Agglomerative Hierarchical trees. Agglomerative Hierarchical tree are grown from the bottom to up. The clusters that are most similar to each other will fused to be a branches. The branches will become a new clusters that will continue to be fused with other most similar clusters. The steps will continue till all the clusters are merged to become a single tree. Similar to the traditional hierarchical clustering methods, this new method starts each data point in its own cluster and iteratively merges pair of clusters. The BHC has advantages overcomming many issues that cannot be handled properly through traditional Agglomerative Hierarchical Algorithm methods. The BHC applies hypothesis testing to decide which data should be merged together or not. Different from the traditional hierarchical model, the BHC will return the probability that two nodes can be merged together. \n",
      "\n",
      "The BHC has more advantages over the traditional algorithm. The traditional Agglomerative Hierarchical Algorithm has limitations. There is no certain rubric to decide the number of clusters to choose: there are generally only four types of linkages to choose from according to similarity measures: complete, single, average and centroid. The \u201cgood\u201d or \u201cbad\u201d model can just be decided by intuition. Over-fitting issues are always involved, and there is no proper way to evaluate the degree of over-fitting. Instead, the BHC builds up a probabilistic model by computing marginal probability: the probability that the data merging together. This probabilistic model can be easily applied when evaluate the over-fitting and compute the predictive model. The Bayesian hypothesis testing can be also used to decide to the depth of the dendrogram. The paper provides an example of comparing the BHC and the classical distance-based hierarchical clustering method. BHC does not strongly rely on the assumption. It can also provide good hierarchical structure at high level. \n",
      "\n",
      "In this final project, we will look deep into both the traditional hierarchical model and BHC by providing examples."
     ]
    },
    {
     "cell_type": "markdown",
     "metadata": {},
     "source": [
      "### Traditional Hierarchical Clustering  \n",
      "\n",
      "#### Algorithm\n",
      "\n",
      "+ Start with n observations. Consider each of the observation is a cluster, therefore, we have n clusters. Apply a measure, commonly Euclidean distance, of all the $\\binom{n}{2}=n(n-1)/2$ to measure pairwise dissimilarities.\n",
      "\n",
      "+ For $i = 1, \\dots, n$  \n",
      "  + (a) Examine all pairs, and fuse the pair that has the most similarity among the i clusters. The measurements for the cluster similarity is commonly four types of Linkage.\n",
      "  + Iterate on conputing the inter-cluster similarity among the $i-1$ remaining clusters. \n",
      "  \n",
      "#### Four Main Types of Linkage\n",
      "+ Complete: maximal intercluster dissimilarity;\n",
      "+ Single: minimal intercluster dissimilarity;\n",
      "+ Average: mean intercluster dissimilarity;\n",
      "+ Centroid: dissimilarity between the centroid for cluster A and the centroid for cluster B."
     ]
    },
    {
     "cell_type": "code",
     "collapsed": false,
     "input": [
      "import numpy as np\n",
      "import numpy as np\n",
      "import matplotlib.pyplot as plt\n",
      "from scipy.spatial.distance import pdist, squareform\n",
      "from scipy.cluster.hierarchy import linkage, dendrogram\n"
     ],
     "language": "python",
     "metadata": {},
     "outputs": [],
     "prompt_number": 4
    },
    {
     "cell_type": "code",
     "collapsed": false,
     "input": [
      "data_array = np.array([[0,   0  ],\n",
      "              [1,   0  ],\n",
      "              [0,   1  ],\n",
      "              [1,   1  ], \n",
      "              [0.5, 0  ],\n",
      "              [0,   0.5],\n",
      "              [0.5, 0.5],\n",
      "              [2,   2  ],\n",
      "              [2,   3  ],\n",
      "              [3,   2  ],\n",
      "              [3,   3  ]])\n",
      "data_dist = pdist(data_array) # computing the distance\n",
      "data_link = linkage(data_dist) # computing the linkage\n",
      "dendrogram(data_link,labels=data.dtype.names)\n",
      "plt.xlabel('Samples')\n",
      "plt.ylabel('Distance')\n",
      "plt.suptitle('Samples clustering', fontweight='bold', fontsize=14);"
     ],
     "language": "python",
     "metadata": {},
     "outputs": [
      {
       "metadata": {},
       "output_type": "display_data",
       "png": "[encoded data removed]",
       "text": [
        "<matplotlib.figure.Figure at 0x7f499c036d10>"
       ]
      }
     ],
     "prompt_number": 6
    },
    {
     "cell_type": "markdown",
     "metadata": {},
     "source": [
      "### BHC Algorithm Debrief\n",
      "\n",
      "#### Diagram\n",
      "![alt text](https://raw.githubusercontent.com/shijbian/STA-663-Final-Project/master/April%2023/nodeGraph.png)\n",
      "\n",
      "#### Notation  \n",
      "\n",
      "&nbsp;&nbsp;&nbsp;&nbsp;&nbsp;&nbsp; $\\mathcal{D} = \\{\\bf{x}^{(1)}, \\ldots, \\bf{x}^{(n)} \\}$: entire data set.\n",
      "\n",
      "&nbsp;&nbsp;&nbsp;&nbsp;&nbsp;&nbsp; $T_i$: subtree $i$.  \n",
      "\n",
      "&nbsp;&nbsp;&nbsp;&nbsp;&nbsp;&nbsp; $\\mathcal{D}_i$: data set in subtree $i$.\n",
      "\n",
      "&nbsp;&nbsp;&nbsp;&nbsp;&nbsp;&nbsp; $T_i \\cup T_j \\Rightarrow T_k \\rightarrow \\mathcal{D}_i \\cup \\mathcal{D}_j$: tree $T_i$ and tree $T_j$ merge to become a new tree $T_k$. \n",
      "\n",
      "#### Hypothesis Testing\n",
      "\n",
      "&nbsp;&nbsp;&nbsp;&nbsp;&nbsp;&nbsp; **Null Hypothesis $\\mathcal{H}_1^k$**: all data in $\\mathcal{D}_k$ are i.i.d generated from the same probabilistic model $P(\\bf{x}|\\theta)$.  \n",
      "\n",
      "&nbsp;&nbsp;&nbsp;&nbsp;&nbsp;&nbsp; **Alternative Hypothesis $\\mathcal{H}_2^k$**: data in $\\mathcal{D}_k$ are from two or more clusters.\n",
      "\n",
      "#### Marginal Likelihood for the Hypothesis\n",
      "\n",
      "&nbsp;&nbsp;&nbsp;&nbsp;&nbsp;&nbsp; **Likelihood for Null Hypothesis:** data at tree $\\mathcal{D}_k$ is generated from the same cluster\n",
      "\n",
      "&nbsp;&nbsp;&nbsp;&nbsp;&nbsp;&nbsp;&nbsp;&nbsp;&nbsp;&nbsp;&nbsp;&nbsp;  $P(\\mathcal{D}_k|H_1^k)= \\int P(\\mathcal{D}_k|\\theta) P(\\theta|\\beta) \\mathcal{d}\\theta$\n",
      "\n",
      "&nbsp;&nbsp;&nbsp;&nbsp;&nbsp;&nbsp; **Likelihood for Alternative Hypothesis:** data at tree $\\mathcal{D}_k$ is generated from different cluster\n",
      "\n",
      "&nbsp;&nbsp;&nbsp;&nbsp;&nbsp;&nbsp;&nbsp;&nbsp;&nbsp;&nbsp;&nbsp;&nbsp;  $P(\\mathcal{D}_k|H_2^k)=P(\\mathcal{D}_i|T_i)P(\\mathcal{D}_j|T_j)$  \n",
      "\n",
      "&nbsp;&nbsp;&nbsp;&nbsp;&nbsp;&nbsp;  **Marginal Probability of the Data in Tree $T_k$:**\n",
      "\n",
      "&nbsp;&nbsp;&nbsp;&nbsp;&nbsp;&nbsp;&nbsp;&nbsp;&nbsp;&nbsp;&nbsp;&nbsp;  $P(\\mathcal{D}_k|T_k)=\\pi_kP(\\mathcal{D}_k|H^k_1)+(1-\\pi_k)P(\\mathcal{D}_k|H^k_2)$  \n",
      "\n",
      "&nbsp;&nbsp;&nbsp;&nbsp;&nbsp;&nbsp;&nbsp;&nbsp;&nbsp;&nbsp;&nbsp;&nbsp;  $\\pi_k = P(H^k_1)$\n",
      "\n",
      "#### Posterial Likelihood for the Hypothesis\n",
      "\n",
      "&nbsp;&nbsp;&nbsp;&nbsp;&nbsp;&nbsp; **$r_k=\\frac{\\pi_kp(\\mathcal{D}_k)|\\mathcal{H}_1^k}{\\pi_kP(\\mathcal{D}_k|H^k_1)+(1-\\pi_k)P(\\mathcal{D}_k|H^k_2)}$**\n",
      "\n",
      "#### Pseudocode for General Implementation\n",
      "\n",
      "&nbsp;&nbsp;&nbsp;&nbsp;&nbsp;&nbsp; **input** data $\\mathcal{D} = {x^{(1)}, x^{(2)}, \\ldots, x^{(n)}}$, model $p(x|\\theta)$, prior $p(\\theta|\\beta)$\n",
      "\n",
      "&nbsp;&nbsp;&nbsp;&nbsp;&nbsp;&nbsp; **initialize: ** number of clusters $\\mathcal{c}=\\mathcal{n}$ for $i = 1, \\ldots, n$\n",
      "\n",
      "&nbsp;&nbsp;&nbsp;&nbsp;&nbsp;&nbsp; **while** $\\mathcal{c}>1$ **do**:\n",
      "\n",
      "&nbsp;&nbsp;&nbsp;&nbsp;&nbsp;&nbsp;&nbsp;&nbsp;&nbsp;&nbsp;&nbsp;&nbsp;  Find the pair $\\mathcal{D}_i$ and $\\mathcal{D}_j$ with the highest probability of the merged hypothesis:\n",
      " $$\\mathcal{r}_k = \\frac{\\pi_k p(\\mathcal{D}_k|\\mathcal{H}_1^k)}{p(\\mathcal{D}_k|\\mathcal{T}_k)}$$\n",
      "&nbsp;&nbsp;&nbsp;&nbsp;&nbsp;&nbsp;&nbsp;&nbsp;&nbsp;&nbsp;&nbsp;&nbsp; Merge $\\mathcal{D}_k \\leftarrow \\mathcal{D}_i \\cup \\mathcal{D}_j$, $\\mathcal{T}_k \\leftarrow (\\mathcal{T}_i, \\mathcal{T}_j)$  \n",
      "&nbsp;&nbsp;&nbsp;&nbsp;&nbsp;&nbsp;&nbsp;&nbsp;&nbsp;&nbsp;&nbsp;&nbsp; Delete $\\mathcal{D}_i$ and $\\mathcal{D}_j$, $c \\leftarrow c-1$\n",
      "\n",
      "&nbsp;&nbsp;&nbsp;&nbsp;&nbsp;&nbsp; **end while**\n",
      "\n",
      "&nbsp;&nbsp;&nbsp;&nbsp;&nbsp;&nbsp; **output: ** Bayesian mixture model where each tree node is a mixture component  \n",
      "&nbsp;&nbsp;&nbsp;&nbsp;&nbsp;&nbsp; The tree can be cut at points where $\\mathcal{r}_k<0.5$"
     ]
    },
    {
     "cell_type": "markdown",
     "metadata": {},
     "source": [
      "### Case Study I: Gaussion Distribution with Unknown Mean and Known Precision\n",
      "\n",
      "In this case study, assume that the data are from two normal distributions with unknown mean and known variance.  \n",
      "\n",
      "$$X_1 \\sim \\mathcal{N}(\\mu_1,1) \\text{ and } X_2 \\sim \\mathcal{N}(\\mu_2,1)$$\n",
      "\n",
      "The prior for $\\mu_1$ and $\\mu_2$ is:  \n",
      "\n",
      "$$\\mu_1,\\mu_2 \\sim N(1,1)$$\n",
      "\n",
      "This setup can accomodate the algorithm from the perspectives below:\n",
      "\n",
      "+ the dataset can be normalized through the formula for the standard normal, i.e. it has mean zero and a unit variance;\n",
      "+ each observation $x^{(i)}$ is independnt and generated from different Gaussian distributions.\n",
      "+ the realizations of each variable j, ${x_j^{(i)}}_{j=1}^{n_k}$ in cluster $\\mathcal{D}_k$ are independent and identically distributed and drawn from Gaussian distribution with unknown mean $\\mu_j$ and precision $\\sigma_j^2$, and the prior on $(\\mu_j,\\sigma_j^{-2})$ is a normal-gamma distribution with hyperparameter $\\mu_0,\\sigma_0,\\beta_0,\\kappa$."
     ]
    },
    {
     "cell_type": "markdown",
     "metadata": {},
     "source": [
      "\n",
      "\n",
      "$$P(\\mathcal{D}|H_1)= \\int f(x|\\mu)f(\\mu) \\mathcal{d}\\mu = \\int_{-\\infty}^{\\infty} \\bigg[\\frac{1}{\\sigma_0 \\sqrt{2\\pi}}exp(-\\frac{(\\mu-\\mu_0)^2}{2\\sigma_0^2})\\bigg]\\bigg[(\\frac{1}{\\sigma \\sqrt{s\\pi}})^n exp(-\\frac{n(\\bar{x}-\\mu)^2}{2\\sigma^2})   \\bigg]\\mathcal{d}\\mu$$\n",
      "\n",
      "\n",
      "$$P(\\mathcal{D}|H_2)= \\int f(x|\\mu)f(\\mu) \\mathcal{d}\\mu = \\int_{-\\infty}^{\\infty} \\bigg[\\frac{1}{\\sigma_0 \\sqrt{2\\pi}}exp(-\\frac{(\\mu-\\mu_0)^2}{2\\sigma_0^2})\\bigg]\\bigg[(\\frac{1}{\\sigma \\sqrt{s\\pi}})^n exp(-\\frac{n(\\bar{x}-\\mu)^2}{2\\sigma^2})   \\bigg]\\mathcal{d}\\mu$$\n"
     ]
    },
    {
     "cell_type": "code",
     "collapsed": false,
     "input": [
      "%matplotlib inline\n",
      "import scipy.stats as stats\n",
      "from IPython.core.pylabtools import figsize\n",
      "import numpy as np\n",
      "figsize(12.5, 4)\n",
      "\n",
      "import matplotlib.pyplot as plt\n",
      "from mpl_toolkits.mplot3d import Axes3D\n",
      "\n",
      "%matplotlib inline\n",
      "import scipy.stats as stats\n",
      "from IPython.core.pylabtools import figsize\n",
      "import numpy as np\n",
      "figsize(12.5, 4)\n",
      "\n",
      "import matplotlib.pyplot as plt\n",
      "from mpl_toolkits.mplot3d import Axes3D\n",
      "\n",
      "import itertools\n",
      "\n",
      "import numpy as np\n",
      "from scipy import linalg\n",
      "import matplotlib.pyplot as plt\n",
      "import matplotlib as mpl\n",
      "\n",
      "from sklearn import mixture\n",
      "\n",
      "import operator"
     ],
     "language": "python",
     "metadata": {},
     "outputs": [],
     "prompt_number": 7
    },
    {
     "cell_type": "markdown",
     "metadata": {},
     "source": [
      "### Revised Algorithm \n",
      "\n",
      "+ **Step 1: Data Simulation:** \n",
      "simulate n data from two normal distribution: N(0, 1) and N(20, 1). This two cluster are distinguishable from each other. The default setup is 50% from the cluster 0 and 50% from the cluster 1;\n",
      "\n",
      "+ **Step 2: Initialization:** \n",
      "Initialize the data by extracting one pair of the data from each of the 2 clusters.\n",
      "\n",
      "+ **Step 3: Actual Algorithm:** \n",
      "\n",
      "\n",
      "\n"
     ]
    },
    {
     "cell_type": "markdown",
     "metadata": {},
     "source": [
      "#### Step 1: Data Simulation\n",
      "\n",
      "Data are simulated from two normal distribution:\n",
      "\n",
      "$$X_1 \\sim \\mathcal{N}(\\mu_1,1) \\text{ and } X_2 \\sim \\mathcal{N}(\\mu_2,1)$$"
     ]
    },
    {
     "cell_type": "code",
     "collapsed": false,
     "input": [
      "mean = (1,20)\n",
      "cov = [[1,0],[0,1]]\n",
      "n=10\n",
      "dat = np.random.multivariate_normal(mean,cov,n)\n",
      "print dat"
     ],
     "language": "python",
     "metadata": {},
     "outputs": [
      {
       "output_type": "stream",
       "stream": "stdout",
       "text": [
        "[[  1.08900549  20.3000876 ]\n",
        " [ -1.13736359  19.73584035]\n",
        " [  0.34011556  19.55822641]\n",
        " [  0.55839395  20.84715001]\n",
        " [  0.85321536  20.20841327]\n",
        " [ -0.96640355  19.63983669]\n",
        " [  0.04807908  20.66498021]\n",
        " [  1.69187374  18.81410058]\n",
        " [  0.41574296  18.19094442]\n",
        " [  1.41420155  19.92084   ]]\n"
       ]
      }
     ],
     "prompt_number": 8
    },
    {
     "cell_type": "code",
     "collapsed": false,
     "input": [
      "# reshape the dataset to be a 20*1 \n",
      "data = dat.reshape((n*2, 1))"
     ],
     "language": "python",
     "metadata": {},
     "outputs": [],
     "prompt_number": 9
    },
    {
     "cell_type": "markdown",
     "metadata": {},
     "source": [
      "We can visualize the plots as below:"
     ]
    },
    {
     "cell_type": "code",
     "collapsed": false,
     "input": [
      "plt.hist(data, bins=20, color=\"k\", histtype=\"stepfilled\", alpha=0.8)\n",
      "plt.title(\"Histogram of the dataset\")\n",
      "plt.ylim([0, None])\n",
      "print data[:10], \"...\""
     ],
     "language": "python",
     "metadata": {},
     "outputs": [
      {
       "output_type": "stream",
       "stream": "stdout",
       "text": [
        "[[  1.08900549]\n",
        " [ 20.3000876 ]\n",
        " [ -1.13736359]\n",
        " [ 19.73584035]\n",
        " [  0.34011556]\n",
        " [ 19.55822641]\n",
        " [  0.55839395]\n",
        " [ 20.84715001]\n",
        " [  0.85321536]\n",
        " [ 20.20841327]] ...\n"
       ]
      },
      {
       "metadata": {},
       "output_type": "display_data",
       "png": "[encoded data removed]",
       "text": [
        "<matplotlib.figure.Figure at 0x7f499c740e10>"
       ]
      }
     ],
     "prompt_number": 10
    },
    {
     "cell_type": "code",
     "collapsed": false,
     "input": [
      "import pandas as pd\n",
      "\n",
      "df = pd.DataFrame({'data': data.reshape(-1)})\n",
      "df"
     ],
     "language": "python",
     "metadata": {},
     "outputs": [
      {
       "html": [
        "<div style=\"max-height:1000px;max-width:1500px;overflow:auto;\">\n",
        "<table border=\"1\" class=\"dataframe\">\n",
        "  <thead>\n",
        "    <tr style=\"text-align: right;\">\n",
        "      <th></th>\n",
        "      <th>data</th>\n",
        "    </tr>\n",
        "  </thead>\n",
        "  <tbody>\n",
        "    <tr>\n",
        "      <th>0 </th>\n",
        "      <td>  1.089005</td>\n",
        "    </tr>\n",
        "    <tr>\n",
        "      <th>1 </th>\n",
        "      <td> 20.300088</td>\n",
        "    </tr>\n",
        "    <tr>\n",
        "      <th>2 </th>\n",
        "      <td> -1.137364</td>\n",
        "    </tr>\n",
        "    <tr>\n",
        "      <th>3 </th>\n",
        "      <td> 19.735840</td>\n",
        "    </tr>\n",
        "    <tr>\n",
        "      <th>4 </th>\n",
        "      <td>  0.340116</td>\n",
        "    </tr>\n",
        "    <tr>\n",
        "      <th>5 </th>\n",
        "      <td> 19.558226</td>\n",
        "    </tr>\n",
        "    <tr>\n",
        "      <th>6 </th>\n",
        "      <td>  0.558394</td>\n",
        "    </tr>\n",
        "    <tr>\n",
        "      <th>7 </th>\n",
        "      <td> 20.847150</td>\n",
        "    </tr>\n",
        "    <tr>\n",
        "      <th>8 </th>\n",
        "      <td>  0.853215</td>\n",
        "    </tr>\n",
        "    <tr>\n",
        "      <th>9 </th>\n",
        "      <td> 20.208413</td>\n",
        "    </tr>\n",
        "    <tr>\n",
        "      <th>10</th>\n",
        "      <td> -0.966404</td>\n",
        "    </tr>\n",
        "    <tr>\n",
        "      <th>11</th>\n",
        "      <td> 19.639837</td>\n",
        "    </tr>\n",
        "    <tr>\n",
        "      <th>12</th>\n",
        "      <td>  0.048079</td>\n",
        "    </tr>\n",
        "    <tr>\n",
        "      <th>13</th>\n",
        "      <td> 20.664980</td>\n",
        "    </tr>\n",
        "    <tr>\n",
        "      <th>14</th>\n",
        "      <td>  1.691874</td>\n",
        "    </tr>\n",
        "    <tr>\n",
        "      <th>15</th>\n",
        "      <td> 18.814101</td>\n",
        "    </tr>\n",
        "    <tr>\n",
        "      <th>16</th>\n",
        "      <td>  0.415743</td>\n",
        "    </tr>\n",
        "    <tr>\n",
        "      <th>17</th>\n",
        "      <td> 18.190944</td>\n",
        "    </tr>\n",
        "    <tr>\n",
        "      <th>18</th>\n",
        "      <td>  1.414202</td>\n",
        "    </tr>\n",
        "    <tr>\n",
        "      <th>19</th>\n",
        "      <td> 19.920840</td>\n",
        "    </tr>\n",
        "  </tbody>\n",
        "</table>\n",
        "</div>"
       ],
       "metadata": {},
       "output_type": "pyout",
       "prompt_number": 11,
       "text": [
        "         data\n",
        "0    1.089005\n",
        "1   20.300088\n",
        "2   -1.137364\n",
        "3   19.735840\n",
        "4    0.340116\n",
        "5   19.558226\n",
        "6    0.558394\n",
        "7   20.847150\n",
        "8    0.853215\n",
        "9   20.208413\n",
        "10  -0.966404\n",
        "11  19.639837\n",
        "12   0.048079\n",
        "13  20.664980\n",
        "14   1.691874\n",
        "15  18.814101\n",
        "16   0.415743\n",
        "17  18.190944\n",
        "18   1.414202\n",
        "19  19.920840"
       ]
      }
     ],
     "prompt_number": 11
    },
    {
     "cell_type": "markdown",
     "metadata": {},
     "source": [
      "Given that our model is a DPM we can\n",
      "compute\n",
      "\u2013 \ud835\udc43 \ud835\udc37\ud835\udc58 \ud835\udc3b1\n",
      "\ud835\udc58\n",
      "- data at tree \ud835\udc47\ud835\udc58 was generated from\n",
      "the same cluster.\n",
      "\u2013 \ud835\udc43 \ud835\udc37\ud835\udc58 \ud835\udc3b1\n",
      "\ud835\udc58 = \u222b \ud835\udc5d \ud835\udc37\ud835\udc58 \ud835\udf03 \ud835\udc5d \ud835\udf03 \ud835\udefd \ud835\udc51\ud835\udf03\n",
      "\u2013 Easy to compute if the model has conjugacy\n",
      "\n",
      "\n",
      "\ud835\udc43 \ud835\udc37\ud835\udc58 \ud835\udc3b2\n",
      "\ud835\udc58\n",
      "- \ud835\udc37\ud835\udc58was generated from two or\n",
      "more components defining partitions\n",
      "consistent with trees \ud835\udc47\ud835\udc56 \ud835\udc4e\ud835\udc5b\ud835\udc51 \ud835\udc47\ud835\udc57\n",
      "\u2013 \ud835\udc43 \ud835\udc37\ud835\udc58 \ud835\udc3b2\n",
      "\ud835\udc58 = \ud835\udc43 \ud835\udc37\ud835\udc56 \ud835\udc47\ud835\udc56 \ud835\udc43 \ud835\udc37\ud835\udc57 \ud835\udc47\ud835\udc57)\n",
      "\u2013 \ud835\udc43 \ud835\udc37\ud835\udc58 \ud835\udc47\ud835\udc58 = \ud835\udf0b\ud835\udc58\ud835\udc5d \ud835\udc37\ud835\udc58 \ud835\udc3b\ud835\udc58\n",
      "1 + 1 \u2212 \ud835\udf0b\ud835\udc58 \ud835\udc43 \ud835\udc37\ud835\udc58 \ud835\udc3b2\n",
      "\ud835\udc58\n",
      "\u2022 \ud835\udf0b\ud835\udc58 = \ud835\udc5d(\ud835\udc3b\ud835\udc58\n",
      "1\n",
      ")"
     ]
    },
    {
     "cell_type": "markdown",
     "metadata": {},
     "source": [
      "![alt text](https://raw.githubusercontent.com/shijbian/STA-663-Final-Project/master/April%2023/nodeGraph.png)\n"
     ]
    },
    {
     "cell_type": "markdown",
     "metadata": {},
     "source": [
      "### Self-design Algorithm\n",
      "\n",
      "+ **Select two pairs of points. Each of them are located separately in the two clusters.**\n",
      "\n",
      "+ **Define the function D_k**\n",
      "\n",
      "+ **Define the function hcluster:**\n",
      "    \n",
      "&nbsp;&nbsp;&nbsp;&nbsp;&nbsp;&nbsp; t_clust_0: initialized $T_i$  \n",
      "&nbsp;&nbsp;&nbsp;&nbsp;&nbsp;&nbsp; t_clust_1: initialized $T_j$  \n",
      "\n"
     ]
    },
    {
     "cell_type": "markdown",
     "metadata": {},
     "source": [
      "This function will take into the parameters below:  \n",
      "\n",
      "+ data: the entire data set;\n",
      "+ n: the number of data;\n",
      "+ pi_0: the probability of locating in the first cluster\n",
      "+ pi_1: the probability of locating in the second cluster\n",
      "+ init_index_0: the index of data that are initialized in the first cluster\n",
      "+ init_index_1: the index of data that are initialized in the second cluster\n",
      "+ clust0_v: data that are initialized in the first cluster\n",
      "+ clust1_v: data that are initialized in the second cluster"
     ]
    },
    {
     "cell_type": "markdown",
     "metadata": {},
     "source": [
      "Implement the integration:\n",
      "\n",
      "$$P(\\mathcal{D}|H_1)= \\int f(x|\\mu)f(\\mu) \\mathcal{d}\\mu = \\int_{-\\infty}^{\\infty} \\bigg[\\frac{1}{\\sigma_0 \\sqrt{2\\pi}}exp(-\\frac{(\\mu-\\mu_0)^2}{2\\sigma_0^2})\\bigg]\\bigg[(\\frac{1}{\\sigma \\sqrt{s\\pi}})^n exp(-\\frac{n(\\bar{x}-\\mu)^2}{2\\sigma^2})   \\bigg]\\mathcal{d}\\mu$$"
     ]
    },
    {
     "cell_type": "code",
     "collapsed": false,
     "input": [
      "from scipy.integrate import quad\n",
      "\n",
      "def mu_int(sigma_null, mu_null, sigma, N, X):\n",
      "    k1 = 1.0 / (sigma_null * math.sqrt(2*math.pi))\n",
      "    s1 = -1.0 / (2 * sigma_null * sigma_null)\n",
      "    \n",
      "    k2 = 1.0 / (sigma * math.sqrt(2*math.pi))\n",
      "    s2 = -1.0 / (2 * sigma * sigma)\n",
      "    \n",
      "    x_bar = X*1.0/N\n",
      "    \n",
      "    def f(mu):\n",
      "        return (k1 * math.exp(s1 * (mu - mu_null)*(mu - mu_null)))*(k2 * math.exp(s2 * N*(mu - x_bar)*(mu - x_bar)))\n",
      "    return f\n",
      "\n",
      "#quad(mu_int(10, 10, 10, 10, 105), -inf, inf)\n"
     ],
     "language": "python",
     "metadata": {},
     "outputs": [],
     "prompt_number": 13
    },
    {
     "cell_type": "code",
     "collapsed": false,
     "input": [
      "data[2]"
     ],
     "language": "python",
     "metadata": {},
     "outputs": [
      {
       "metadata": {},
       "output_type": "pyout",
       "prompt_number": 14,
       "text": [
        "array([-1.13736359])"
       ]
      }
     ],
     "prompt_number": 14
    },
    {
     "cell_type": "code",
     "collapsed": false,
     "input": [
      "# initialize the first two pairs of points\n",
      "init_index_0 = np.array([1,3])\n",
      "init_index_1 = np.array([2,4])\n",
      "\n",
      "clust0_v = np.array([data[1], data[3]])\n",
      "clust1_v = np.array([data[2], data[4]])\n",
      "\n",
      "clust0_v\n"
     ],
     "language": "python",
     "metadata": {},
     "outputs": [
      {
       "metadata": {},
       "output_type": "pyout",
       "prompt_number": 15,
       "text": [
        "array([[ 20.3000876 ],\n",
        "       [ 19.73584035]])"
       ]
      }
     ],
     "prompt_number": 15
    },
    {
     "cell_type": "code",
     "collapsed": false,
     "input": [
      "sigma_null = 1\n",
      "mu_null = 1\n",
      "sigma = 1\n",
      "N0 = clust0_v.size\n",
      "sum0 = sum(clust0_v)\n",
      "\n",
      "quad(mu_int(sigma_null, mu_null, sigma, N0, sum0), -inf, inf)"
     ],
     "language": "python",
     "metadata": {},
     "outputs": [
      {
       "metadata": {},
       "output_type": "pyout",
       "prompt_number": 16,
       "text": [
        "(2.2611280220088254e-53, 4.204221017087991e-53)"
       ]
      }
     ],
     "prompt_number": 16
    },
    {
     "cell_type": "code",
     "collapsed": false,
     "input": [
      "import operator\n",
      "\n",
      "# initialize the first two pairs of points\n",
      "#init_index_0 = np.array([1,3])\n",
      "#init_index_1 = np.array([2,4])\n",
      "\n",
      "#clust0_v = np.array([data[1], data[3]])\n",
      "#clust1_v = np.array([data[2], data[4]])\n",
      "\n",
      "init_index_0 = np.array([1])\n",
      "init_index_1 = np.array([2])\n",
      "\n",
      "clust0_v = np.array([data[1]])\n",
      "clust1_v = np.array([data[2]])\n",
      "\n",
      "def hcluster(df, mu_0, mu_1, sigma, mu_null, sigma_null, pi, init_index_0, init_index_1, clust0_v, clust1_v):\n",
      "    closed = 0.0\n",
      "    # initialize the T_i for clust 0: 2 initial selected values\n",
      "    N0 = clust0_v.size\n",
      "    sumclust0 = sum(clust0_v)\n",
      "    t_clust_0 = quad(mu_int(sigma_null, mu_null, sigma, N0, sumclust0), -inf, inf)[1]\n",
      "    \n",
      "    # initialize the T_j for clust 1: 2 initial selected values\n",
      "    N1 = clust1_v.size\n",
      "    sumclust1 = sum(clust1_v)\n",
      "    t_clust_1 = quad(mu_int(sigma_null, mu_null, sigma, N1, sumclust1), -inf, inf)[1]\n",
      "    \n",
      "    n = df.shape[0]\n",
      "    # go through all the points\n",
      "    c = 10\n",
      "    while c > 0:\n",
      "        for j in range(n):\n",
      "\n",
      "            closest_lik = 0.0\n",
      "            clust_0 = dict()\n",
      "            clust_1 = dict()\n",
      "            for i in range(n):            \n",
      "                # traverse of the left array\n",
      "                # i must not exist in the already exist init_index\n",
      "                if (i not in init_index_0 and i not in init_index_1):\n",
      "                    tempx_clust0_v = np.append([clust0_v], [df.ix[i,0]])\n",
      "                    tempx_clust1_v = np.append([clust1_v], [df.ix[i,0]])\n",
      "                \n",
      "                    # likeli for null under clust 0\n",
      "                    X0 = sum(tempx_clust0_v)\n",
      "                    N0 = tempx_clust0_v.size\n",
      "                    lik_alt_0 = pi*quad(mu_int(sigma_null, mu_null, sigma, N0, X0), -inf, inf)[0]\n",
      "                \n",
      "                    # likeli for alternative under clust 0\n",
      "                    X1 = sum(tempx_clust0_v[:N0-1])\n",
      "                    N1 = tempx_clust1_v.size\n",
      "                    X2 = sum(tempx_clust1_v)\n",
      "                    D_i = quad(mu_int(sigma_null, mu_null, sigma, N0-1, X1), -inf, inf)[0]\n",
      "                    D_j = quad(mu_int(sigma_null, mu_null, sigma, N1, X2), -inf, inf)[0]\n",
      "                    lik_alt_1 = (1 - pi)*D_i*D_j\n",
      "                    # the ratio under the 1st cluster\n",
      "                    r_0 = lik_alt_0/(lik_alt_0+lik_alt_1)\n",
      "                \n",
      "                    # likeli for null under cluster 1\n",
      "                    X0_1 = sum(tempx_clust1_v)\n",
      "                    N0_1 = tempx_clust1_v.size\n",
      "                    lik_alt_0_1 = pi*quad(mu_int(sigma_null, mu_null, sigma, N0_1, X0_1), -inf, inf)[0]\n",
      "           \n",
      "                    # likeli for alternative under cluster 0\n",
      "                    X1_1 = sum(tempx_clust1_v[:N0_1-1])\n",
      "                    N1_1 = tempx_clust0_v.size\n",
      "                    X2_1 = sum(tempx_clust0_v)\n",
      "                    D_i_1 = quad(mu_int(sigma_null, mu_null, sigma, N0_1-1, X1_1), -inf, inf)[0]\n",
      "                    D_j_1 = quad(mu_int(sigma_null, mu_null, sigma, N1_1, X2_1), -inf, inf)[0]\n",
      "                    lik_alt_1_1 = (1-pi) * D_i_1 * D_j_1\n",
      "                    # the ratio under the 2nd cluster \n",
      "                    r_0_1 = lik_alt_0_1/(lik_alt_0_1+lik_alt_1_1)\n",
      "                \n",
      "                    if r_0 < r_0_1:\n",
      "                        post = lik_alt_0\n",
      "                        clust_0.update({i:post})\n",
      "                    else:\n",
      "                        post1 = lik_alt_0_1\n",
      "                        clust_1.update({i:post1})\n",
      "      \n",
      "\n",
      "\n",
      "            # select the max likelihood from the two lists\n",
      "            if (bool(clust_0) == True):\n",
      "                key_0,maxLik_0 = max(clust_0.iteritems(), key=lambda x:x[1])\n",
      "                clust0_v = np.append(clust0_v,df.ix[key_0,0])\n",
      "                init_index_0 = np.append(init_index_0,key_0)\n",
      "            if (bool(clust_1) == True):\n",
      "                key_1,maxLik_1 = max(clust_1.iteritems(), key=lambda x:x[1])\n",
      "                clust1_v = np.append(clust1_v,df.ix[key_1,0])\n",
      "                init_index_1 = np.append(init_index_1,key_1)\n",
      "\n",
      "            #clust0_v = np.append(clust0_v,df.ix[key_0,0])\n",
      "            #clust1_v = np.append(clust1_v,df.ix[key_1,0])\n",
      "        \n",
      "            #init_index_0 = np.append(init_index_0,key_0)\n",
      "            #init_index_1 = np.append(init_index_1,key_1)\n",
      "            c = c-1\n",
      "            print init_index_0, init_index_1\n",
      "\n",
      "hcluster(df, mu_0 = 1, mu_1 = 20, sigma = 1, mu_null=10, sigma_null=1, pi=0.5, init_index_0 = init_index_0, init_index_1 = init_index_1, clust0_v = clust0_v, clust1_v = clust1_v)"
     ],
     "language": "python",
     "metadata": {},
     "outputs": [
      {
       "output_type": "stream",
       "stream": "stdout",
       "text": [
        "[ 1 17] [ 2 14]\n",
        "[ 1 17 15] [ 2 14 18]\n",
        "[ 1 17 15  5]"
       ]
      },
      {
       "output_type": "stream",
       "stream": "stdout",
       "text": [
        " [ 2 14 18  0]\n",
        "[ 1 17 15  5 11] [ 2 14 18  0  8]\n",
        "[ 1 17 15  5 11  3] [ 2 14 18  0  8  6]\n",
        "[ 1 17 15  5 11  3 19]"
       ]
      },
      {
       "output_type": "stream",
       "stream": "stdout",
       "text": [
        " [ 2 14 18  0  8  6 16]\n",
        "[ 1 17 15  5 11  3 19  9] [ 2 14 18  0  8  6 16  4]\n",
        "[ 1 17 15  5 11  3 19  9 13] [ 2 14 18  0  8  6 16  4 12]\n",
        "[ 1 17 15  5 11  3 19  9 13  7] [ 2 14 18  0  8  6 16  4 12 10]\n",
        "[ 1 17 15  5 11  3 19  9 13  7] [ 2 14 18  0  8  6 16  4 12 10]\n",
        "[ 1 17 15  5 11  3 19  9 13  7] [ 2 14 18  0  8  6 16  4 12 10]\n",
        "[ 1 17 15  5 11  3 19  9 13  7] [ 2 14 18  0  8  6 16  4 12 10]\n",
        "[ 1 17 15  5 11  3 19  9 13  7] [ 2 14 18  0  8  6 16  4 12 10]\n",
        "[ 1 17 15  5 11  3 19  9 13  7] [ 2 14 18  0  8  6 16  4 12 10]\n",
        "[ 1 17 15  5 11  3 19  9 13  7] [ 2 14 18  0  8  6 16  4 12 10]\n",
        "[ 1 17 15  5 11  3 19  9 13  7] [ 2 14 18  0  8  6 16  4 12 10]\n",
        "[ 1 17 15  5 11  3 19  9 13  7] [ 2 14 18  0  8  6 16  4 12 10]\n",
        "[ 1 17 15  5 11  3 19  9 13  7] [ 2 14 18  0  8  6 16  4 12 10]\n",
        "[ 1 17 15  5 11  3 19  9 13  7] [ 2 14 18  0  8  6 16  4 12 10]\n",
        "[ 1 17 15  5 11  3 19  9 13  7] [ 2 14 18  0  8  6 16  4 12 10]\n"
       ]
      }
     ],
     "prompt_number": 17
    },
    {
     "cell_type": "code",
     "collapsed": false,
     "input": [
      "data_dist = pdist(df) # computing the distance\n",
      "data_link = linkage(data_dist) # computing the linkage\n",
      "dendrogram(data_link,labels=data.dtype.names)\n",
      "plt.xlabel('Samples')\n",
      "plt.ylabel('Distance')\n",
      "plt.suptitle('Samples clustering', fontweight='bold', fontsize=14);"
     ],
     "language": "python",
     "metadata": {},
     "outputs": [
      {
       "metadata": {},
       "output_type": "display_data",
       "png": "[encoded data removed]",
       "text": [
        "<matplotlib.figure.Figure at 0x7f499c0a8b90>"
       ]
      }
     ],
     "prompt_number": 18
    },
    {
     "cell_type": "code",
     "collapsed": false,
     "input": [],
     "language": "python",
     "metadata": {},
     "outputs": []
    }
   ],
   "metadata": {}
  }
 ]
}