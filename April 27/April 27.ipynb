{
 "metadata": {
  "name": "",
  "signature": "sha256:277763ee4235fb9b908fa35b9d0beda174d1cc5d6c3e9799af03d1163b4be7b0"
 },
 "nbformat": 3,
 "nbformat_minor": 0,
 "worksheets": [
  {
   "cells": [
    {
     "cell_type": "markdown",
     "metadata": {},
     "source": [
      "Bayesian Hierarchical Clustering \n",
      "=============\n",
      "\n",
      "#### STA 663 Computational Statistics in Python Final Project\n",
      "\n",
      "#### Shijia Bian\n",
      "\n"
     ]
    },
    {
     "cell_type": "markdown",
     "metadata": {},
     "source": [
      "### Abstract\n"
     ]
    },
    {
     "cell_type": "markdown",
     "metadata": {},
     "source": [
      "### Outline  \n",
      "\n",
      "+ #### Background  \n",
      "\n",
      "+ #### Traditional Hierarchical Clustering  \n",
      "\n",
      "+ #### Algorithm Debrief\n",
      "\n",
      "+ #### Case Study\n",
      "\n",
      "+ #### Limitation of Implemented Algorithm\n",
      "\n",
      "+ #### Comparison to Traditional Clustering Methods\n",
      "\n",
      "+ #### Further Improvement and Pseudo Code\n",
      "\n",
      "+ #### Conclusion \n"
     ]
    },
    {
     "cell_type": "markdown",
     "metadata": {},
     "source": [
      "### Background\n",
      "\n",
      "State the research paper you are using. Describe the concept of the algorithm and why it is interesting and/or useful. If appropriate, describe the mathematical basis of the algorithm. Some potential topics for the backgorund include:\n",
      "\n",
      "- What problem does it address? \n",
      "- What are known and possible applications of the algorithm? \n",
      "- What are its advantages and disadvantages relative to other algorithms?\n",
      "- How will you use it in your research?\n",
      "\n"
     ]
    },
    {
     "cell_type": "markdown",
     "metadata": {},
     "source": [
      "### Traditional Hierarchical Clustering  \n",
      "\n"
     ]
    },
    {
     "cell_type": "markdown",
     "metadata": {},
     "source": [
      "### Algorithm Debrief\n",
      "\n",
      "#### Diagram\n",
      "![alt text](https://raw.githubusercontent.com/shijbian/STA-663-Final-Project/master/April%2023/nodeGraph.png)\n",
      "\n",
      "#### Notation  \n",
      "\n",
      "&nbsp;&nbsp;&nbsp;&nbsp;&nbsp;&nbsp; $\\mathcal{D} = \\{\\bf{x}^{(1)}, \\ldots, \\bf{x}^{(n)} \\}$: entire data set.\n",
      "\n",
      "&nbsp;&nbsp;&nbsp;&nbsp;&nbsp;&nbsp; $T_i$: subtree $i$.  \n",
      "\n",
      "&nbsp;&nbsp;&nbsp;&nbsp;&nbsp;&nbsp; $\\mathcal{D}_i$: data set in subtree $i$.\n",
      "\n",
      "&nbsp;&nbsp;&nbsp;&nbsp;&nbsp;&nbsp; $T_i \\cup T_j \\Rightarrow T_k \\rightarrow \\mathcal{D}_i \\cup \\mathcal{D}_j$: tree $T_i$ and tree $T_j$ merge to become a new tree $T_k$. \n",
      "\n",
      "#### Hypothesis Testing\n",
      "\n",
      "&nbsp;&nbsp;&nbsp;&nbsp;&nbsp;&nbsp; **Null Hypothesis $\\mathcal{H}_1^k$**: all data in $\\mathcal{D}_k$ are i.i.d generated from the same probabilistic model $P(\\bf{x}|\\theta)$.  \n",
      "\n",
      "&nbsp;&nbsp;&nbsp;&nbsp;&nbsp;&nbsp; **Alternative Hypothesis $\\mathcal{H}_2^k$**: data in $\\mathcal{D}_k$ are from two or more clusters.\n",
      "\n",
      "#### Marginal Likelihood for the Hypothesis\n",
      "\n",
      "&nbsp;&nbsp;&nbsp;&nbsp;&nbsp;&nbsp; **Likelihood for Null Hypothesis:** data at tree $\\mathcal{D}_k$ is generated from the same cluster\n",
      "\n",
      "&nbsp;&nbsp;&nbsp;&nbsp;&nbsp;&nbsp;&nbsp;&nbsp;&nbsp;&nbsp;&nbsp;&nbsp;  $P(\\mathcal{D}_k|H_1^k)= \\int P(\\mathcal{D}_k|\\theta) P(\\theta|\\beta) \\mathcal{d}\\theta$\n",
      "\n",
      "&nbsp;&nbsp;&nbsp;&nbsp;&nbsp;&nbsp; **Likelihood for Alternative Hypothesis:** data at tree $\\mathcal{D}_k$ is generated from different cluster\n",
      "\n",
      "&nbsp;&nbsp;&nbsp;&nbsp;&nbsp;&nbsp;&nbsp;&nbsp;&nbsp;&nbsp;&nbsp;&nbsp;  $P(\\mathcal{D}_k|H_2^k)=P(\\mathcal{D}_i|T_i)P(\\mathcal{D}_j|T_j)$  \n",
      "\n",
      "&nbsp;&nbsp;&nbsp;&nbsp;&nbsp;&nbsp;  **Marginal Probability of the Data in Tree $T_k$:**\n",
      "\n",
      "&nbsp;&nbsp;&nbsp;&nbsp;&nbsp;&nbsp;&nbsp;&nbsp;&nbsp;&nbsp;&nbsp;&nbsp;  $P(\\mathcal{D}_k|T_k)=\\pi_kP(\\mathcal{D}_k|H^k_1)+(1-\\pi_k)P(\\mathcal{D}_k|H^k_2)$  \n",
      "\n",
      "&nbsp;&nbsp;&nbsp;&nbsp;&nbsp;&nbsp;&nbsp;&nbsp;&nbsp;&nbsp;&nbsp;&nbsp;  $\\pi_k = P(H^k_1)$\n",
      "\n",
      "#### Posterial Likelihood for the Hypothesis\n",
      "\n",
      "&nbsp;&nbsp;&nbsp;&nbsp;&nbsp;&nbsp; **$r_k=\\frac{\\pi_kp(\\mathcal{D}_k)|\\mathcal{H}_1^k}{\\pi_kP(\\mathcal{D}_k|H^k_1)+(1-\\pi_k)P(\\mathcal{D}_k|H^k_2)}$**\n",
      "\n",
      "#### Pseudocode for General Implementation\n",
      "\n",
      "&nbsp;&nbsp;&nbsp;&nbsp;&nbsp;&nbsp; **input** data $\\mathcal{D} = {x^{(1)}, x^{(2)}, \\ldots, x^{(n)}}$, model $p(x|\\theta)$, prior $p(\\theta|\\beta)$\n",
      "\n",
      "&nbsp;&nbsp;&nbsp;&nbsp;&nbsp;&nbsp; **initialize: ** number of clusters $\\mathcal{c}=\\mathcal{n}$ for $i = 1, \\ldots, n$\n",
      "\n",
      "&nbsp;&nbsp;&nbsp;&nbsp;&nbsp;&nbsp; **while** $\\mathcal{c}>1$ **do**:\n",
      "\n",
      "&nbsp;&nbsp;&nbsp;&nbsp;&nbsp;&nbsp;&nbsp;&nbsp;&nbsp;&nbsp;&nbsp;&nbsp;  Find the pair $\\mathcal{D}_i$ and $\\mathcal{D}_j$ with the highest probability of the merged hypothesis:\n",
      " $$\\mathcal{r}_k = \\frac{\\pi_k p(\\mathcal{D}_k|\\mathcal{H}_1^k)}{p(\\mathcal{D}_k|\\mathcal{T}_k)}$$\n",
      "&nbsp;&nbsp;&nbsp;&nbsp;&nbsp;&nbsp;&nbsp;&nbsp;&nbsp;&nbsp;&nbsp;&nbsp; Merge $\\mathcal{D}_k \\leftarrow \\mathcal{D}_i \\cup \\mathcal{D}_j$, $\\mathcal{T}_k \\leftarrow (\\mathcal{T}_i, \\mathcal{T}_j)$  \n",
      "&nbsp;&nbsp;&nbsp;&nbsp;&nbsp;&nbsp;&nbsp;&nbsp;&nbsp;&nbsp;&nbsp;&nbsp; Delete $\\mathcal{D}_i$ and $\\mathcal{D}_j$, $c \\leftarrow c-1$\n",
      "\n",
      "&nbsp;&nbsp;&nbsp;&nbsp;&nbsp;&nbsp; **end while**\n",
      "\n",
      "&nbsp;&nbsp;&nbsp;&nbsp;&nbsp;&nbsp; **output: ** Bayesian mixture model where each tree node is a mixture component  \n",
      "&nbsp;&nbsp;&nbsp;&nbsp;&nbsp;&nbsp; The tree can be cut at points where $\\mathcal{r}_k<0.5$"
     ]
    },
    {
     "cell_type": "markdown",
     "metadata": {},
     "source": [
      "### Case Study I: Gaussion Distribution with Unknown Mean and Known Precision\n",
      "\n",
      "In this case study, assume that the data are from two normal distributions with unknown mean and known variance.  \n",
      "\n",
      "$$X_1 \\sim \\mathcal{N}(\\mu_1,1) \\text{ and } X_2 \\sim \\mathcal{N}(\\mu_2,1)$$\n",
      "\n",
      "The prior for $\\mu_1$ and $\\mu_2$ is:  \n",
      "\n",
      "$$\\mu_1,\\mu_2 \\sim N(1,1)$$\n",
      "\n",
      "This setup can accomodate the algorithm from the perspectives below:\n",
      "\n",
      "+ the dataset can be normalized through the formula for the standard normal, i.e. it has mean zero and a unit variance;\n",
      "+ each observation $x^{(i)}$ is independnt and generated from different Gaussian distributions.\n",
      "+ the realizations of each variable j, ${x_j^{(i)}}_{j=1}^{n_k}$ in cluster $\\mathcal{D}_k$ are independent and identically distributed and drawn from Gaussian distribution with unknown mean $\\mu_j$ and precision $\\sigma_j^2$, and the prior on $(\\mu_j,\\sigma_j^{-2})$ is a normal-gamma distribution with hyperparameter $\\mu_0,\\sigma_0,\\beta_0,\\kappa$."
     ]
    },
    {
     "cell_type": "markdown",
     "metadata": {},
     "source": [
      "\n",
      "\n",
      "$$P(\\mathcal{D}|H_1)= \\int f(x|\\mu)f(\\mu) \\mathcal{d}\\mu = \\int_{-\\infty}^{\\infty} \\bigg[\\frac{1}{\\sigma_0 \\sqrt{2\\pi}}exp(-\\frac{(\\mu-\\mu_0)^2}{2\\sigma_0^2})\\bigg]\\bigg[(\\frac{1}{\\sigma \\sqrt{s\\pi}})^n exp(-\\frac{n(\\bar{x}-\\mu)^2}{2\\sigma^2})   \\bigg]\\mathcal{d}\\mu$$\n",
      "\n",
      "\n",
      "$$P(\\mathcal{D}|H_2)= \\int f(x|\\mu)f(\\mu) \\mathcal{d}\\mu = \\int_{-\\infty}^{\\infty} \\bigg[\\frac{1}{\\sigma_0 \\sqrt{2\\pi}}exp(-\\frac{(\\mu-\\mu_0)^2}{2\\sigma_0^2})\\bigg]\\bigg[(\\frac{1}{\\sigma \\sqrt{s\\pi}})^n exp(-\\frac{n(\\bar{x}-\\mu)^2}{2\\sigma^2})   \\bigg]\\mathcal{d}\\mu$$\n"
     ]
    },
    {
     "cell_type": "code",
     "collapsed": false,
     "input": [
      "%matplotlib inline\n",
      "import scipy.stats as stats\n",
      "from IPython.core.pylabtools import figsize\n",
      "import numpy as np\n",
      "figsize(12.5, 4)\n",
      "\n",
      "import matplotlib.pyplot as plt\n",
      "from mpl_toolkits.mplot3d import Axes3D\n",
      "\n",
      "%matplotlib inline\n",
      "import scipy.stats as stats\n",
      "from IPython.core.pylabtools import figsize\n",
      "import numpy as np\n",
      "figsize(12.5, 4)\n",
      "\n",
      "import matplotlib.pyplot as plt\n",
      "from mpl_toolkits.mplot3d import Axes3D\n",
      "\n",
      "import itertools\n",
      "\n",
      "import numpy as np\n",
      "from scipy import linalg\n",
      "import matplotlib.pyplot as plt\n",
      "import matplotlib as mpl\n",
      "\n",
      "from sklearn import mixture\n",
      "\n",
      "import operator"
     ],
     "language": "python",
     "metadata": {},
     "outputs": [],
     "prompt_number": 22
    },
    {
     "cell_type": "markdown",
     "metadata": {},
     "source": [
      "### Revised Algorithm \n",
      "\n",
      "+ **Step 1: Data Simulation:** \n",
      "simulate n data from two normal distribution: N(0, 1) and N(20, 1). This two cluster are distinguishable from each other. The default setup is 50% from the cluster 0 and 50% from the cluster 1;\n",
      "\n",
      "+ **Step 2: Initialization:** \n",
      "Initialize the data by extracting one pair of the data from each of the 2 clusters.\n",
      "\n",
      "+ **Step 3: Actual Algorithm:** \n",
      "\n",
      "\n",
      "\n"
     ]
    },
    {
     "cell_type": "markdown",
     "metadata": {},
     "source": [
      "#### Step 1: Data Simulation\n",
      "\n",
      "Data are simulated from two normal distribution:\n",
      "\n",
      "$$X_1 \\sim \\mathcal{N}(\\mu_1,1) \\text{ and } X_2 \\sim \\mathcal{N}(\\mu_2,1)$$"
     ]
    },
    {
     "cell_type": "code",
     "collapsed": false,
     "input": [
      "mean = (1,20)\n",
      "cov = [[1,0],[0,1]]\n",
      "n=5\n",
      "dat = np.random.multivariate_normal(mean,cov,n)\n",
      "print dat"
     ],
     "language": "python",
     "metadata": {},
     "outputs": [
      {
       "output_type": "stream",
       "stream": "stdout",
       "text": [
        "[[ -0.15460693  19.23746373]\n",
        " [ -0.03921904  19.00630007]\n",
        " [  0.09106161  18.74863048]\n",
        " [  0.5693539   19.36249306]\n",
        " [  1.85932439  20.0854929 ]]\n"
       ]
      }
     ],
     "prompt_number": 23
    },
    {
     "cell_type": "code",
     "collapsed": false,
     "input": [
      "# reshape the dataset to be a 20*1 \n",
      "data = dat.reshape((n*2, 1))"
     ],
     "language": "python",
     "metadata": {},
     "outputs": [],
     "prompt_number": 24
    },
    {
     "cell_type": "markdown",
     "metadata": {},
     "source": [
      "We can visualize the plots as below:"
     ]
    },
    {
     "cell_type": "code",
     "collapsed": false,
     "input": [
      "plt.hist(data, bins=20, color=\"k\", histtype=\"stepfilled\", alpha=0.8)\n",
      "plt.title(\"Histogram of the dataset\")\n",
      "plt.ylim([0, None])\n",
      "print data[:10], \"...\""
     ],
     "language": "python",
     "metadata": {},
     "outputs": [
      {
       "output_type": "stream",
       "stream": "stdout",
       "text": [
        "[[ -0.15460693]\n",
        " [ 19.23746373]\n",
        " [ -0.03921904]\n",
        " [ 19.00630007]\n",
        " [  0.09106161]\n",
        " [ 18.74863048]\n",
        " [  0.5693539 ]\n",
        " [ 19.36249306]\n",
        " [  1.85932439]\n",
        " [ 20.0854929 ]] ...\n"
       ]
      },
      {
       "metadata": {},
       "output_type": "display_data",
       "png": "[encoded data removed]",
       "text": [
        "<matplotlib.figure.Figure at 0x7f6e75109f10>"
       ]
      }
     ],
     "prompt_number": 25
    },
    {
     "cell_type": "code",
     "collapsed": false,
     "input": [
      "import pandas as pd\n",
      "\n",
      "df = pd.DataFrame({'data': data.reshape(-1)})\n",
      "df"
     ],
     "language": "python",
     "metadata": {},
     "outputs": [
      {
       "html": [
        "<div style=\"max-height:1000px;max-width:1500px;overflow:auto;\">\n",
        "<table border=\"1\" class=\"dataframe\">\n",
        "  <thead>\n",
        "    <tr style=\"text-align: right;\">\n",
        "      <th></th>\n",
        "      <th>data</th>\n",
        "    </tr>\n",
        "  </thead>\n",
        "  <tbody>\n",
        "    <tr>\n",
        "      <th>0</th>\n",
        "      <td> -0.154607</td>\n",
        "    </tr>\n",
        "    <tr>\n",
        "      <th>1</th>\n",
        "      <td> 19.237464</td>\n",
        "    </tr>\n",
        "    <tr>\n",
        "      <th>2</th>\n",
        "      <td> -0.039219</td>\n",
        "    </tr>\n",
        "    <tr>\n",
        "      <th>3</th>\n",
        "      <td> 19.006300</td>\n",
        "    </tr>\n",
        "    <tr>\n",
        "      <th>4</th>\n",
        "      <td>  0.091062</td>\n",
        "    </tr>\n",
        "    <tr>\n",
        "      <th>5</th>\n",
        "      <td> 18.748630</td>\n",
        "    </tr>\n",
        "    <tr>\n",
        "      <th>6</th>\n",
        "      <td>  0.569354</td>\n",
        "    </tr>\n",
        "    <tr>\n",
        "      <th>7</th>\n",
        "      <td> 19.362493</td>\n",
        "    </tr>\n",
        "    <tr>\n",
        "      <th>8</th>\n",
        "      <td>  1.859324</td>\n",
        "    </tr>\n",
        "    <tr>\n",
        "      <th>9</th>\n",
        "      <td> 20.085493</td>\n",
        "    </tr>\n",
        "  </tbody>\n",
        "</table>\n",
        "</div>"
       ],
       "metadata": {},
       "output_type": "pyout",
       "prompt_number": 26,
       "text": [
        "        data\n",
        "0  -0.154607\n",
        "1  19.237464\n",
        "2  -0.039219\n",
        "3  19.006300\n",
        "4   0.091062\n",
        "5  18.748630\n",
        "6   0.569354\n",
        "7  19.362493\n",
        "8   1.859324\n",
        "9  20.085493"
       ]
      }
     ],
     "prompt_number": 26
    },
    {
     "cell_type": "markdown",
     "metadata": {},
     "source": [
      "Given that our model is a DPM we can\n",
      "compute\n",
      "\u2013 \ud835\udc43 \ud835\udc37\ud835\udc58 \ud835\udc3b1\n",
      "\ud835\udc58\n",
      "- data at tree \ud835\udc47\ud835\udc58 was generated from\n",
      "the same cluster.\n",
      "\u2013 \ud835\udc43 \ud835\udc37\ud835\udc58 \ud835\udc3b1\n",
      "\ud835\udc58 = \u222b \ud835\udc5d \ud835\udc37\ud835\udc58 \ud835\udf03 \ud835\udc5d \ud835\udf03 \ud835\udefd \ud835\udc51\ud835\udf03\n",
      "\u2013 Easy to compute if the model has conjugacy\n",
      "\n",
      "\n",
      "\ud835\udc43 \ud835\udc37\ud835\udc58 \ud835\udc3b2\n",
      "\ud835\udc58\n",
      "- \ud835\udc37\ud835\udc58was generated from two or\n",
      "more components defining partitions\n",
      "consistent with trees \ud835\udc47\ud835\udc56 \ud835\udc4e\ud835\udc5b\ud835\udc51 \ud835\udc47\ud835\udc57\n",
      "\u2013 \ud835\udc43 \ud835\udc37\ud835\udc58 \ud835\udc3b2\n",
      "\ud835\udc58 = \ud835\udc43 \ud835\udc37\ud835\udc56 \ud835\udc47\ud835\udc56 \ud835\udc43 \ud835\udc37\ud835\udc57 \ud835\udc47\ud835\udc57)\n",
      "\u2013 \ud835\udc43 \ud835\udc37\ud835\udc58 \ud835\udc47\ud835\udc58 = \ud835\udf0b\ud835\udc58\ud835\udc5d \ud835\udc37\ud835\udc58 \ud835\udc3b\ud835\udc58\n",
      "1 + 1 \u2212 \ud835\udf0b\ud835\udc58 \ud835\udc43 \ud835\udc37\ud835\udc58 \ud835\udc3b2\n",
      "\ud835\udc58\n",
      "\u2022 \ud835\udf0b\ud835\udc58 = \ud835\udc5d(\ud835\udc3b\ud835\udc58\n",
      "1\n",
      ")"
     ]
    },
    {
     "cell_type": "code",
     "collapsed": false,
     "input": [
      "# store the index that has been taken\n",
      "init_index = np.append(rows_0_v, rows_1_v)\n",
      "\n",
      "# store the list of values the cluster 0 should take\n",
      "clust0_v = np.append([df.ix[init_index[0],1]], [df.ix[init_index[1],1]])\n",
      "print clust0_v\n",
      "# store the list of values the cluster 1 should take\n",
      "clust1_v = np.append([df.ix[init_index[2],1]], [df.ix[init_index[3],1]])\n",
      "print clust1_v"
     ],
     "language": "python",
     "metadata": {},
     "outputs": [
      {
       "ename": "IndexError",
       "evalue": "index out of bounds",
       "output_type": "pyerr",
       "traceback": [
        "\u001b[1;31m---------------------------------------------------------------------------\u001b[0m\n\u001b[1;31mIndexError\u001b[0m                                Traceback (most recent call last)",
        "\u001b[1;32m<ipython-input-133-2cef1b8f3bfa>\u001b[0m in \u001b[0;36m<module>\u001b[1;34m()\u001b[0m\n\u001b[0;32m      3\u001b[0m \u001b[1;33m\u001b[0m\u001b[0m\n\u001b[0;32m      4\u001b[0m \u001b[1;31m# store the list of values the cluster 0 should take\u001b[0m\u001b[1;33m\u001b[0m\u001b[1;33m\u001b[0m\u001b[0m\n\u001b[1;32m----> 5\u001b[1;33m \u001b[0mclust0_v\u001b[0m \u001b[1;33m=\u001b[0m \u001b[0mnp\u001b[0m\u001b[1;33m.\u001b[0m\u001b[0mappend\u001b[0m\u001b[1;33m(\u001b[0m\u001b[1;33m[\u001b[0m\u001b[0mdf\u001b[0m\u001b[1;33m.\u001b[0m\u001b[0mix\u001b[0m\u001b[1;33m[\u001b[0m\u001b[0minit_index\u001b[0m\u001b[1;33m[\u001b[0m\u001b[1;36m0\u001b[0m\u001b[1;33m]\u001b[0m\u001b[1;33m,\u001b[0m\u001b[1;36m1\u001b[0m\u001b[1;33m]\u001b[0m\u001b[1;33m]\u001b[0m\u001b[1;33m,\u001b[0m \u001b[1;33m[\u001b[0m\u001b[0mdf\u001b[0m\u001b[1;33m.\u001b[0m\u001b[0mix\u001b[0m\u001b[1;33m[\u001b[0m\u001b[0minit_index\u001b[0m\u001b[1;33m[\u001b[0m\u001b[1;36m1\u001b[0m\u001b[1;33m]\u001b[0m\u001b[1;33m,\u001b[0m\u001b[1;36m1\u001b[0m\u001b[1;33m]\u001b[0m\u001b[1;33m]\u001b[0m\u001b[1;33m)\u001b[0m\u001b[1;33m\u001b[0m\u001b[0m\n\u001b[0m\u001b[0;32m      6\u001b[0m \u001b[1;32mprint\u001b[0m \u001b[0mclust0_v\u001b[0m\u001b[1;33m\u001b[0m\u001b[0m\n\u001b[0;32m      7\u001b[0m \u001b[1;31m# store the list of values the cluster 1 should take\u001b[0m\u001b[1;33m\u001b[0m\u001b[1;33m\u001b[0m\u001b[0m\n",
        "\u001b[1;32m/home/bitnami/anaconda/lib/python2.7/site-packages/pandas/core/indexing.pyc\u001b[0m in \u001b[0;36m__getitem__\u001b[1;34m(self, key)\u001b[0m\n\u001b[0;32m     67\u001b[0m                 \u001b[1;32mpass\u001b[0m\u001b[1;33m\u001b[0m\u001b[0m\n\u001b[0;32m     68\u001b[0m \u001b[1;33m\u001b[0m\u001b[0m\n\u001b[1;32m---> 69\u001b[1;33m             \u001b[1;32mreturn\u001b[0m \u001b[0mself\u001b[0m\u001b[1;33m.\u001b[0m\u001b[0m_getitem_tuple\u001b[0m\u001b[1;33m(\u001b[0m\u001b[0mkey\u001b[0m\u001b[1;33m)\u001b[0m\u001b[1;33m\u001b[0m\u001b[0m\n\u001b[0m\u001b[0;32m     70\u001b[0m         \u001b[1;32melse\u001b[0m\u001b[1;33m:\u001b[0m\u001b[1;33m\u001b[0m\u001b[0m\n\u001b[0;32m     71\u001b[0m             \u001b[1;32mreturn\u001b[0m \u001b[0mself\u001b[0m\u001b[1;33m.\u001b[0m\u001b[0m_getitem_axis\u001b[0m\u001b[1;33m(\u001b[0m\u001b[0mkey\u001b[0m\u001b[1;33m,\u001b[0m \u001b[0maxis\u001b[0m\u001b[1;33m=\u001b[0m\u001b[1;36m0\u001b[0m\u001b[1;33m)\u001b[0m\u001b[1;33m\u001b[0m\u001b[0m\n",
        "\u001b[1;32m/home/bitnami/anaconda/lib/python2.7/site-packages/pandas/core/indexing.pyc\u001b[0m in \u001b[0;36m_getitem_tuple\u001b[1;34m(self, tup)\u001b[0m\n\u001b[0;32m    653\u001b[0m     \u001b[1;32mdef\u001b[0m \u001b[0m_getitem_tuple\u001b[0m\u001b[1;33m(\u001b[0m\u001b[0mself\u001b[0m\u001b[1;33m,\u001b[0m \u001b[0mtup\u001b[0m\u001b[1;33m)\u001b[0m\u001b[1;33m:\u001b[0m\u001b[1;33m\u001b[0m\u001b[0m\n\u001b[0;32m    654\u001b[0m         \u001b[1;32mtry\u001b[0m\u001b[1;33m:\u001b[0m\u001b[1;33m\u001b[0m\u001b[0m\n\u001b[1;32m--> 655\u001b[1;33m             \u001b[1;32mreturn\u001b[0m \u001b[0mself\u001b[0m\u001b[1;33m.\u001b[0m\u001b[0m_getitem_lowerdim\u001b[0m\u001b[1;33m(\u001b[0m\u001b[0mtup\u001b[0m\u001b[1;33m)\u001b[0m\u001b[1;33m\u001b[0m\u001b[0m\n\u001b[0m\u001b[0;32m    656\u001b[0m         \u001b[1;32mexcept\u001b[0m \u001b[0mIndexingError\u001b[0m\u001b[1;33m:\u001b[0m\u001b[1;33m\u001b[0m\u001b[0m\n\u001b[0;32m    657\u001b[0m             \u001b[1;32mpass\u001b[0m\u001b[1;33m\u001b[0m\u001b[0m\n",
        "\u001b[1;32m/home/bitnami/anaconda/lib/python2.7/site-packages/pandas/core/indexing.pyc\u001b[0m in \u001b[0;36m_getitem_lowerdim\u001b[1;34m(self, tup)\u001b[0m\n\u001b[0;32m    803\u001b[0m \u001b[1;33m\u001b[0m\u001b[0m\n\u001b[0;32m    804\u001b[0m                 \u001b[1;31m# This is an elided recursive call to iloc/loc/etc'\u001b[0m\u001b[1;33m\u001b[0m\u001b[1;33m\u001b[0m\u001b[0m\n\u001b[1;32m--> 805\u001b[1;33m                 \u001b[1;32mreturn\u001b[0m \u001b[0mgetattr\u001b[0m\u001b[1;33m(\u001b[0m\u001b[0msection\u001b[0m\u001b[1;33m,\u001b[0m \u001b[0mself\u001b[0m\u001b[1;33m.\u001b[0m\u001b[0mname\u001b[0m\u001b[1;33m)\u001b[0m\u001b[1;33m[\u001b[0m\u001b[0mnew_key\u001b[0m\u001b[1;33m]\u001b[0m\u001b[1;33m\u001b[0m\u001b[0m\n\u001b[0m\u001b[0;32m    806\u001b[0m \u001b[1;33m\u001b[0m\u001b[0m\n\u001b[0;32m    807\u001b[0m         \u001b[1;32mraise\u001b[0m \u001b[0mIndexingError\u001b[0m\u001b[1;33m(\u001b[0m\u001b[1;34m'not applicable'\u001b[0m\u001b[1;33m)\u001b[0m\u001b[1;33m\u001b[0m\u001b[0m\n",
        "\u001b[1;32m/home/bitnami/anaconda/lib/python2.7/site-packages/pandas/core/indexing.pyc\u001b[0m in \u001b[0;36m__getitem__\u001b[1;34m(self, key)\u001b[0m\n\u001b[0;32m     69\u001b[0m             \u001b[1;32mreturn\u001b[0m \u001b[0mself\u001b[0m\u001b[1;33m.\u001b[0m\u001b[0m_getitem_tuple\u001b[0m\u001b[1;33m(\u001b[0m\u001b[0mkey\u001b[0m\u001b[1;33m)\u001b[0m\u001b[1;33m\u001b[0m\u001b[0m\n\u001b[0;32m     70\u001b[0m         \u001b[1;32melse\u001b[0m\u001b[1;33m:\u001b[0m\u001b[1;33m\u001b[0m\u001b[0m\n\u001b[1;32m---> 71\u001b[1;33m             \u001b[1;32mreturn\u001b[0m \u001b[0mself\u001b[0m\u001b[1;33m.\u001b[0m\u001b[0m_getitem_axis\u001b[0m\u001b[1;33m(\u001b[0m\u001b[0mkey\u001b[0m\u001b[1;33m,\u001b[0m \u001b[0maxis\u001b[0m\u001b[1;33m=\u001b[0m\u001b[1;36m0\u001b[0m\u001b[1;33m)\u001b[0m\u001b[1;33m\u001b[0m\u001b[0m\n\u001b[0m\u001b[0;32m     72\u001b[0m \u001b[1;33m\u001b[0m\u001b[0m\n\u001b[0;32m     73\u001b[0m     \u001b[1;32mdef\u001b[0m \u001b[0m_get_label\u001b[0m\u001b[1;33m(\u001b[0m\u001b[0mself\u001b[0m\u001b[1;33m,\u001b[0m \u001b[0mlabel\u001b[0m\u001b[1;33m,\u001b[0m \u001b[0maxis\u001b[0m\u001b[1;33m=\u001b[0m\u001b[1;36m0\u001b[0m\u001b[1;33m)\u001b[0m\u001b[1;33m:\u001b[0m\u001b[1;33m\u001b[0m\u001b[0m\n",
        "\u001b[1;32m/home/bitnami/anaconda/lib/python2.7/site-packages/pandas/core/indexing.pyc\u001b[0m in \u001b[0;36m_getitem_axis\u001b[1;34m(self, key, axis, validate_iterable)\u001b[0m\n\u001b[0;32m    878\u001b[0m                 \u001b[1;31m# this is the fallback! (for a non-float, non-integer index)\u001b[0m\u001b[1;33m\u001b[0m\u001b[1;33m\u001b[0m\u001b[0m\n\u001b[0;32m    879\u001b[0m                 \u001b[1;32mif\u001b[0m \u001b[1;32mnot\u001b[0m \u001b[0mlabels\u001b[0m\u001b[1;33m.\u001b[0m\u001b[0mis_floating\u001b[0m\u001b[1;33m(\u001b[0m\u001b[1;33m)\u001b[0m \u001b[1;32mand\u001b[0m \u001b[1;32mnot\u001b[0m \u001b[0mlabels\u001b[0m\u001b[1;33m.\u001b[0m\u001b[0mis_integer\u001b[0m\u001b[1;33m(\u001b[0m\u001b[1;33m)\u001b[0m\u001b[1;33m:\u001b[0m\u001b[1;33m\u001b[0m\u001b[0m\n\u001b[1;32m--> 880\u001b[1;33m                     \u001b[1;32mreturn\u001b[0m \u001b[0mself\u001b[0m\u001b[1;33m.\u001b[0m\u001b[0m_get_loc\u001b[0m\u001b[1;33m(\u001b[0m\u001b[0mkey\u001b[0m\u001b[1;33m,\u001b[0m \u001b[0maxis\u001b[0m\u001b[1;33m=\u001b[0m\u001b[0maxis\u001b[0m\u001b[1;33m)\u001b[0m\u001b[1;33m\u001b[0m\u001b[0m\n\u001b[0m\u001b[0;32m    881\u001b[0m \u001b[1;33m\u001b[0m\u001b[0m\n\u001b[0;32m    882\u001b[0m             \u001b[1;32mreturn\u001b[0m \u001b[0mself\u001b[0m\u001b[1;33m.\u001b[0m\u001b[0m_get_label\u001b[0m\u001b[1;33m(\u001b[0m\u001b[0mkey\u001b[0m\u001b[1;33m,\u001b[0m \u001b[0maxis\u001b[0m\u001b[1;33m=\u001b[0m\u001b[0maxis\u001b[0m\u001b[1;33m)\u001b[0m\u001b[1;33m\u001b[0m\u001b[0m\n",
        "\u001b[1;32m/home/bitnami/anaconda/lib/python2.7/site-packages/pandas/core/indexing.pyc\u001b[0m in \u001b[0;36m_get_loc\u001b[1;34m(self, key, axis)\u001b[0m\n\u001b[0;32m     88\u001b[0m \u001b[1;33m\u001b[0m\u001b[0m\n\u001b[0;32m     89\u001b[0m     \u001b[1;32mdef\u001b[0m \u001b[0m_get_loc\u001b[0m\u001b[1;33m(\u001b[0m\u001b[0mself\u001b[0m\u001b[1;33m,\u001b[0m \u001b[0mkey\u001b[0m\u001b[1;33m,\u001b[0m \u001b[0maxis\u001b[0m\u001b[1;33m=\u001b[0m\u001b[1;36m0\u001b[0m\u001b[1;33m)\u001b[0m\u001b[1;33m:\u001b[0m\u001b[1;33m\u001b[0m\u001b[0m\n\u001b[1;32m---> 90\u001b[1;33m         \u001b[1;32mreturn\u001b[0m \u001b[0mself\u001b[0m\u001b[1;33m.\u001b[0m\u001b[0mobj\u001b[0m\u001b[1;33m.\u001b[0m\u001b[0m_ixs\u001b[0m\u001b[1;33m(\u001b[0m\u001b[0mkey\u001b[0m\u001b[1;33m,\u001b[0m \u001b[0maxis\u001b[0m\u001b[1;33m=\u001b[0m\u001b[0maxis\u001b[0m\u001b[1;33m)\u001b[0m\u001b[1;33m\u001b[0m\u001b[0m\n\u001b[0m\u001b[0;32m     91\u001b[0m \u001b[1;33m\u001b[0m\u001b[0m\n\u001b[0;32m     92\u001b[0m     \u001b[1;32mdef\u001b[0m \u001b[0m_slice\u001b[0m\u001b[1;33m(\u001b[0m\u001b[0mself\u001b[0m\u001b[1;33m,\u001b[0m \u001b[0mobj\u001b[0m\u001b[1;33m,\u001b[0m \u001b[0maxis\u001b[0m\u001b[1;33m=\u001b[0m\u001b[1;36m0\u001b[0m\u001b[1;33m,\u001b[0m \u001b[0mtyp\u001b[0m\u001b[1;33m=\u001b[0m\u001b[0mNone\u001b[0m\u001b[1;33m)\u001b[0m\u001b[1;33m:\u001b[0m\u001b[1;33m\u001b[0m\u001b[0m\n",
        "\u001b[1;32m/home/bitnami/anaconda/lib/python2.7/site-packages/pandas/core/series.pyc\u001b[0m in \u001b[0;36m_ixs\u001b[1;34m(self, i, axis)\u001b[0m\n\u001b[0;32m    458\u001b[0m         \"\"\"\n\u001b[0;32m    459\u001b[0m         \u001b[1;32mtry\u001b[0m\u001b[1;33m:\u001b[0m\u001b[1;33m\u001b[0m\u001b[0m\n\u001b[1;32m--> 460\u001b[1;33m             \u001b[1;32mreturn\u001b[0m \u001b[0m_index\u001b[0m\u001b[1;33m.\u001b[0m\u001b[0mget_value_at\u001b[0m\u001b[1;33m(\u001b[0m\u001b[0mself\u001b[0m\u001b[1;33m.\u001b[0m\u001b[0mvalues\u001b[0m\u001b[1;33m,\u001b[0m \u001b[0mi\u001b[0m\u001b[1;33m)\u001b[0m\u001b[1;33m\u001b[0m\u001b[0m\n\u001b[0m\u001b[0;32m    461\u001b[0m         \u001b[1;32mexcept\u001b[0m \u001b[0mIndexError\u001b[0m\u001b[1;33m:\u001b[0m\u001b[1;33m\u001b[0m\u001b[0m\n\u001b[0;32m    462\u001b[0m             \u001b[1;32mraise\u001b[0m\u001b[1;33m\u001b[0m\u001b[0m\n",
        "\u001b[1;32m/home/bitnami/anaconda/lib/python2.7/site-packages/pandas/index.so\u001b[0m in \u001b[0;36mpandas.index.get_value_at (pandas/index.c:2353)\u001b[1;34m()\u001b[0m\n",
        "\u001b[1;32m/home/bitnami/anaconda/lib/python2.7/site-packages/pandas/index.so\u001b[0m in \u001b[0;36mutil.get_value_at (pandas/index.c:14123)\u001b[1;34m()\u001b[0m\n",
        "\u001b[1;31mIndexError\u001b[0m: index out of bounds"
       ]
      }
     ],
     "prompt_number": 133
    },
    {
     "cell_type": "code",
     "collapsed": false,
     "input": [
      "i = 9\n",
      "tempx_clust0_v = np.append([clust0_v], [df.ix[i,1]])\n",
      "print tempx_clust0_v.size\n",
      "alterlike = D_k (sum(tempx_clust0_v),  mu_0 = 1, sigma_0 = 1, n = 1)\n",
      "print alterlike"
     ],
     "language": "python",
     "metadata": {},
     "outputs": [
      {
       "ename": "IndexError",
       "evalue": "index out of bounds",
       "output_type": "pyerr",
       "traceback": [
        "\u001b[1;31m---------------------------------------------------------------------------\u001b[0m\n\u001b[1;31mIndexError\u001b[0m                                Traceback (most recent call last)",
        "\u001b[1;32m<ipython-input-134-ffe6f07e7071>\u001b[0m in \u001b[0;36m<module>\u001b[1;34m()\u001b[0m\n\u001b[0;32m      1\u001b[0m \u001b[0mi\u001b[0m \u001b[1;33m=\u001b[0m \u001b[1;36m9\u001b[0m\u001b[1;33m\u001b[0m\u001b[0m\n\u001b[1;32m----> 2\u001b[1;33m \u001b[0mtempx_clust0_v\u001b[0m \u001b[1;33m=\u001b[0m \u001b[0mnp\u001b[0m\u001b[1;33m.\u001b[0m\u001b[0mappend\u001b[0m\u001b[1;33m(\u001b[0m\u001b[1;33m[\u001b[0m\u001b[0mclust0_v\u001b[0m\u001b[1;33m]\u001b[0m\u001b[1;33m,\u001b[0m \u001b[1;33m[\u001b[0m\u001b[0mdf\u001b[0m\u001b[1;33m.\u001b[0m\u001b[0mix\u001b[0m\u001b[1;33m[\u001b[0m\u001b[0mi\u001b[0m\u001b[1;33m,\u001b[0m\u001b[1;36m1\u001b[0m\u001b[1;33m]\u001b[0m\u001b[1;33m]\u001b[0m\u001b[1;33m)\u001b[0m\u001b[1;33m\u001b[0m\u001b[0m\n\u001b[0m\u001b[0;32m      3\u001b[0m \u001b[1;32mprint\u001b[0m \u001b[0mtempx_clust0_v\u001b[0m\u001b[1;33m.\u001b[0m\u001b[0msize\u001b[0m\u001b[1;33m\u001b[0m\u001b[0m\n\u001b[0;32m      4\u001b[0m \u001b[0malterlike\u001b[0m \u001b[1;33m=\u001b[0m \u001b[0mD_k\u001b[0m \u001b[1;33m(\u001b[0m\u001b[0msum\u001b[0m\u001b[1;33m(\u001b[0m\u001b[0mtempx_clust0_v\u001b[0m\u001b[1;33m)\u001b[0m\u001b[1;33m,\u001b[0m  \u001b[0mmu_0\u001b[0m \u001b[1;33m=\u001b[0m \u001b[1;36m1\u001b[0m\u001b[1;33m,\u001b[0m \u001b[0msigma_0\u001b[0m \u001b[1;33m=\u001b[0m \u001b[1;36m1\u001b[0m\u001b[1;33m,\u001b[0m \u001b[0mn\u001b[0m \u001b[1;33m=\u001b[0m \u001b[1;36m1\u001b[0m\u001b[1;33m)\u001b[0m\u001b[1;33m\u001b[0m\u001b[0m\n\u001b[0;32m      5\u001b[0m \u001b[1;32mprint\u001b[0m \u001b[0malterlike\u001b[0m\u001b[1;33m\u001b[0m\u001b[0m\n",
        "\u001b[1;32m/home/bitnami/anaconda/lib/python2.7/site-packages/pandas/core/indexing.pyc\u001b[0m in \u001b[0;36m__getitem__\u001b[1;34m(self, key)\u001b[0m\n\u001b[0;32m     67\u001b[0m                 \u001b[1;32mpass\u001b[0m\u001b[1;33m\u001b[0m\u001b[0m\n\u001b[0;32m     68\u001b[0m \u001b[1;33m\u001b[0m\u001b[0m\n\u001b[1;32m---> 69\u001b[1;33m             \u001b[1;32mreturn\u001b[0m \u001b[0mself\u001b[0m\u001b[1;33m.\u001b[0m\u001b[0m_getitem_tuple\u001b[0m\u001b[1;33m(\u001b[0m\u001b[0mkey\u001b[0m\u001b[1;33m)\u001b[0m\u001b[1;33m\u001b[0m\u001b[0m\n\u001b[0m\u001b[0;32m     70\u001b[0m         \u001b[1;32melse\u001b[0m\u001b[1;33m:\u001b[0m\u001b[1;33m\u001b[0m\u001b[0m\n\u001b[0;32m     71\u001b[0m             \u001b[1;32mreturn\u001b[0m \u001b[0mself\u001b[0m\u001b[1;33m.\u001b[0m\u001b[0m_getitem_axis\u001b[0m\u001b[1;33m(\u001b[0m\u001b[0mkey\u001b[0m\u001b[1;33m,\u001b[0m \u001b[0maxis\u001b[0m\u001b[1;33m=\u001b[0m\u001b[1;36m0\u001b[0m\u001b[1;33m)\u001b[0m\u001b[1;33m\u001b[0m\u001b[0m\n",
        "\u001b[1;32m/home/bitnami/anaconda/lib/python2.7/site-packages/pandas/core/indexing.pyc\u001b[0m in \u001b[0;36m_getitem_tuple\u001b[1;34m(self, tup)\u001b[0m\n\u001b[0;32m    653\u001b[0m     \u001b[1;32mdef\u001b[0m \u001b[0m_getitem_tuple\u001b[0m\u001b[1;33m(\u001b[0m\u001b[0mself\u001b[0m\u001b[1;33m,\u001b[0m \u001b[0mtup\u001b[0m\u001b[1;33m)\u001b[0m\u001b[1;33m:\u001b[0m\u001b[1;33m\u001b[0m\u001b[0m\n\u001b[0;32m    654\u001b[0m         \u001b[1;32mtry\u001b[0m\u001b[1;33m:\u001b[0m\u001b[1;33m\u001b[0m\u001b[0m\n\u001b[1;32m--> 655\u001b[1;33m             \u001b[1;32mreturn\u001b[0m \u001b[0mself\u001b[0m\u001b[1;33m.\u001b[0m\u001b[0m_getitem_lowerdim\u001b[0m\u001b[1;33m(\u001b[0m\u001b[0mtup\u001b[0m\u001b[1;33m)\u001b[0m\u001b[1;33m\u001b[0m\u001b[0m\n\u001b[0m\u001b[0;32m    656\u001b[0m         \u001b[1;32mexcept\u001b[0m \u001b[0mIndexingError\u001b[0m\u001b[1;33m:\u001b[0m\u001b[1;33m\u001b[0m\u001b[0m\n\u001b[0;32m    657\u001b[0m             \u001b[1;32mpass\u001b[0m\u001b[1;33m\u001b[0m\u001b[0m\n",
        "\u001b[1;32m/home/bitnami/anaconda/lib/python2.7/site-packages/pandas/core/indexing.pyc\u001b[0m in \u001b[0;36m_getitem_lowerdim\u001b[1;34m(self, tup)\u001b[0m\n\u001b[0;32m    803\u001b[0m \u001b[1;33m\u001b[0m\u001b[0m\n\u001b[0;32m    804\u001b[0m                 \u001b[1;31m# This is an elided recursive call to iloc/loc/etc'\u001b[0m\u001b[1;33m\u001b[0m\u001b[1;33m\u001b[0m\u001b[0m\n\u001b[1;32m--> 805\u001b[1;33m                 \u001b[1;32mreturn\u001b[0m \u001b[0mgetattr\u001b[0m\u001b[1;33m(\u001b[0m\u001b[0msection\u001b[0m\u001b[1;33m,\u001b[0m \u001b[0mself\u001b[0m\u001b[1;33m.\u001b[0m\u001b[0mname\u001b[0m\u001b[1;33m)\u001b[0m\u001b[1;33m[\u001b[0m\u001b[0mnew_key\u001b[0m\u001b[1;33m]\u001b[0m\u001b[1;33m\u001b[0m\u001b[0m\n\u001b[0m\u001b[0;32m    806\u001b[0m \u001b[1;33m\u001b[0m\u001b[0m\n\u001b[0;32m    807\u001b[0m         \u001b[1;32mraise\u001b[0m \u001b[0mIndexingError\u001b[0m\u001b[1;33m(\u001b[0m\u001b[1;34m'not applicable'\u001b[0m\u001b[1;33m)\u001b[0m\u001b[1;33m\u001b[0m\u001b[0m\n",
        "\u001b[1;32m/home/bitnami/anaconda/lib/python2.7/site-packages/pandas/core/indexing.pyc\u001b[0m in \u001b[0;36m__getitem__\u001b[1;34m(self, key)\u001b[0m\n\u001b[0;32m     69\u001b[0m             \u001b[1;32mreturn\u001b[0m \u001b[0mself\u001b[0m\u001b[1;33m.\u001b[0m\u001b[0m_getitem_tuple\u001b[0m\u001b[1;33m(\u001b[0m\u001b[0mkey\u001b[0m\u001b[1;33m)\u001b[0m\u001b[1;33m\u001b[0m\u001b[0m\n\u001b[0;32m     70\u001b[0m         \u001b[1;32melse\u001b[0m\u001b[1;33m:\u001b[0m\u001b[1;33m\u001b[0m\u001b[0m\n\u001b[1;32m---> 71\u001b[1;33m             \u001b[1;32mreturn\u001b[0m \u001b[0mself\u001b[0m\u001b[1;33m.\u001b[0m\u001b[0m_getitem_axis\u001b[0m\u001b[1;33m(\u001b[0m\u001b[0mkey\u001b[0m\u001b[1;33m,\u001b[0m \u001b[0maxis\u001b[0m\u001b[1;33m=\u001b[0m\u001b[1;36m0\u001b[0m\u001b[1;33m)\u001b[0m\u001b[1;33m\u001b[0m\u001b[0m\n\u001b[0m\u001b[0;32m     72\u001b[0m \u001b[1;33m\u001b[0m\u001b[0m\n\u001b[0;32m     73\u001b[0m     \u001b[1;32mdef\u001b[0m \u001b[0m_get_label\u001b[0m\u001b[1;33m(\u001b[0m\u001b[0mself\u001b[0m\u001b[1;33m,\u001b[0m \u001b[0mlabel\u001b[0m\u001b[1;33m,\u001b[0m \u001b[0maxis\u001b[0m\u001b[1;33m=\u001b[0m\u001b[1;36m0\u001b[0m\u001b[1;33m)\u001b[0m\u001b[1;33m:\u001b[0m\u001b[1;33m\u001b[0m\u001b[0m\n",
        "\u001b[1;32m/home/bitnami/anaconda/lib/python2.7/site-packages/pandas/core/indexing.pyc\u001b[0m in \u001b[0;36m_getitem_axis\u001b[1;34m(self, key, axis, validate_iterable)\u001b[0m\n\u001b[0;32m    878\u001b[0m                 \u001b[1;31m# this is the fallback! (for a non-float, non-integer index)\u001b[0m\u001b[1;33m\u001b[0m\u001b[1;33m\u001b[0m\u001b[0m\n\u001b[0;32m    879\u001b[0m                 \u001b[1;32mif\u001b[0m \u001b[1;32mnot\u001b[0m \u001b[0mlabels\u001b[0m\u001b[1;33m.\u001b[0m\u001b[0mis_floating\u001b[0m\u001b[1;33m(\u001b[0m\u001b[1;33m)\u001b[0m \u001b[1;32mand\u001b[0m \u001b[1;32mnot\u001b[0m \u001b[0mlabels\u001b[0m\u001b[1;33m.\u001b[0m\u001b[0mis_integer\u001b[0m\u001b[1;33m(\u001b[0m\u001b[1;33m)\u001b[0m\u001b[1;33m:\u001b[0m\u001b[1;33m\u001b[0m\u001b[0m\n\u001b[1;32m--> 880\u001b[1;33m                     \u001b[1;32mreturn\u001b[0m \u001b[0mself\u001b[0m\u001b[1;33m.\u001b[0m\u001b[0m_get_loc\u001b[0m\u001b[1;33m(\u001b[0m\u001b[0mkey\u001b[0m\u001b[1;33m,\u001b[0m \u001b[0maxis\u001b[0m\u001b[1;33m=\u001b[0m\u001b[0maxis\u001b[0m\u001b[1;33m)\u001b[0m\u001b[1;33m\u001b[0m\u001b[0m\n\u001b[0m\u001b[0;32m    881\u001b[0m \u001b[1;33m\u001b[0m\u001b[0m\n\u001b[0;32m    882\u001b[0m             \u001b[1;32mreturn\u001b[0m \u001b[0mself\u001b[0m\u001b[1;33m.\u001b[0m\u001b[0m_get_label\u001b[0m\u001b[1;33m(\u001b[0m\u001b[0mkey\u001b[0m\u001b[1;33m,\u001b[0m \u001b[0maxis\u001b[0m\u001b[1;33m=\u001b[0m\u001b[0maxis\u001b[0m\u001b[1;33m)\u001b[0m\u001b[1;33m\u001b[0m\u001b[0m\n",
        "\u001b[1;32m/home/bitnami/anaconda/lib/python2.7/site-packages/pandas/core/indexing.pyc\u001b[0m in \u001b[0;36m_get_loc\u001b[1;34m(self, key, axis)\u001b[0m\n\u001b[0;32m     88\u001b[0m \u001b[1;33m\u001b[0m\u001b[0m\n\u001b[0;32m     89\u001b[0m     \u001b[1;32mdef\u001b[0m \u001b[0m_get_loc\u001b[0m\u001b[1;33m(\u001b[0m\u001b[0mself\u001b[0m\u001b[1;33m,\u001b[0m \u001b[0mkey\u001b[0m\u001b[1;33m,\u001b[0m \u001b[0maxis\u001b[0m\u001b[1;33m=\u001b[0m\u001b[1;36m0\u001b[0m\u001b[1;33m)\u001b[0m\u001b[1;33m:\u001b[0m\u001b[1;33m\u001b[0m\u001b[0m\n\u001b[1;32m---> 90\u001b[1;33m         \u001b[1;32mreturn\u001b[0m \u001b[0mself\u001b[0m\u001b[1;33m.\u001b[0m\u001b[0mobj\u001b[0m\u001b[1;33m.\u001b[0m\u001b[0m_ixs\u001b[0m\u001b[1;33m(\u001b[0m\u001b[0mkey\u001b[0m\u001b[1;33m,\u001b[0m \u001b[0maxis\u001b[0m\u001b[1;33m=\u001b[0m\u001b[0maxis\u001b[0m\u001b[1;33m)\u001b[0m\u001b[1;33m\u001b[0m\u001b[0m\n\u001b[0m\u001b[0;32m     91\u001b[0m \u001b[1;33m\u001b[0m\u001b[0m\n\u001b[0;32m     92\u001b[0m     \u001b[1;32mdef\u001b[0m \u001b[0m_slice\u001b[0m\u001b[1;33m(\u001b[0m\u001b[0mself\u001b[0m\u001b[1;33m,\u001b[0m \u001b[0mobj\u001b[0m\u001b[1;33m,\u001b[0m \u001b[0maxis\u001b[0m\u001b[1;33m=\u001b[0m\u001b[1;36m0\u001b[0m\u001b[1;33m,\u001b[0m \u001b[0mtyp\u001b[0m\u001b[1;33m=\u001b[0m\u001b[0mNone\u001b[0m\u001b[1;33m)\u001b[0m\u001b[1;33m:\u001b[0m\u001b[1;33m\u001b[0m\u001b[0m\n",
        "\u001b[1;32m/home/bitnami/anaconda/lib/python2.7/site-packages/pandas/core/series.pyc\u001b[0m in \u001b[0;36m_ixs\u001b[1;34m(self, i, axis)\u001b[0m\n\u001b[0;32m    458\u001b[0m         \"\"\"\n\u001b[0;32m    459\u001b[0m         \u001b[1;32mtry\u001b[0m\u001b[1;33m:\u001b[0m\u001b[1;33m\u001b[0m\u001b[0m\n\u001b[1;32m--> 460\u001b[1;33m             \u001b[1;32mreturn\u001b[0m \u001b[0m_index\u001b[0m\u001b[1;33m.\u001b[0m\u001b[0mget_value_at\u001b[0m\u001b[1;33m(\u001b[0m\u001b[0mself\u001b[0m\u001b[1;33m.\u001b[0m\u001b[0mvalues\u001b[0m\u001b[1;33m,\u001b[0m \u001b[0mi\u001b[0m\u001b[1;33m)\u001b[0m\u001b[1;33m\u001b[0m\u001b[0m\n\u001b[0m\u001b[0;32m    461\u001b[0m         \u001b[1;32mexcept\u001b[0m \u001b[0mIndexError\u001b[0m\u001b[1;33m:\u001b[0m\u001b[1;33m\u001b[0m\u001b[0m\n\u001b[0;32m    462\u001b[0m             \u001b[1;32mraise\u001b[0m\u001b[1;33m\u001b[0m\u001b[0m\n",
        "\u001b[1;32m/home/bitnami/anaconda/lib/python2.7/site-packages/pandas/index.so\u001b[0m in \u001b[0;36mpandas.index.get_value_at (pandas/index.c:2353)\u001b[1;34m()\u001b[0m\n",
        "\u001b[1;32m/home/bitnami/anaconda/lib/python2.7/site-packages/pandas/index.so\u001b[0m in \u001b[0;36mutil.get_value_at (pandas/index.c:14123)\u001b[1;34m()\u001b[0m\n",
        "\u001b[1;31mIndexError\u001b[0m: index out of bounds"
       ]
      }
     ],
     "prompt_number": 134
    },
    {
     "cell_type": "markdown",
     "metadata": {},
     "source": [
      "![alt text](https://raw.githubusercontent.com/shijbian/STA-663-Final-Project/master/April%2023/nodeGraph.png)\n"
     ]
    },
    {
     "cell_type": "markdown",
     "metadata": {},
     "source": [
      "### Self-design Algorithm\n",
      "\n",
      "+ **Select two pairs of points. Each of them are located separately in the two clusters.**\n",
      "\n",
      "+ **Define the function D_k**\n",
      "\n",
      "+ **Define the function hcluster:**\n",
      "    \n",
      "&nbsp;&nbsp;&nbsp;&nbsp;&nbsp;&nbsp; t_clust_0: initialized $T_i$  \n",
      "&nbsp;&nbsp;&nbsp;&nbsp;&nbsp;&nbsp; t_clust_1: initialized $T_j$  \n",
      "\n"
     ]
    },
    {
     "cell_type": "markdown",
     "metadata": {},
     "source": [
      "This function will take into the parameters below:  \n",
      "\n",
      "+ data: the entire data set;\n",
      "+ n: the number of data;\n",
      "+ pi_0: the probability of locating in the first cluster\n",
      "+ pi_1: the probability of locating in the second cluster\n",
      "+ init_index_0: the index of data that are initialized in the first cluster\n",
      "+ init_index_1: the index of data that are initialized in the second cluster\n",
      "+ clust0_v: data that are initialized in the first cluster\n",
      "+ clust1_v: data that are initialized in the second cluster"
     ]
    },
    {
     "cell_type": "markdown",
     "metadata": {},
     "source": [
      "Implement the integration:\n",
      "\n",
      "$$P(\\mathcal{D}|H_1)= \\int f(x|\\mu)f(\\mu) \\mathcal{d}\\mu = \\int_{-\\infty}^{\\infty} \\bigg[\\frac{1}{\\sigma_0 \\sqrt{2\\pi}}exp(-\\frac{(\\mu-\\mu_0)^2}{2\\sigma_0^2})\\bigg]\\bigg[(\\frac{1}{\\sigma \\sqrt{s\\pi}})^n exp(-\\frac{n(\\bar{x}-\\mu)^2}{2\\sigma^2})   \\bigg]\\mathcal{d}\\mu$$"
     ]
    },
    {
     "cell_type": "code",
     "collapsed": false,
     "input": [
      "from scipy.integrate import quad\n",
      "\n",
      "def mu_int(sigma_null, mu_null, sigma, N, X):\n",
      "    k1 = 1.0 / (sigma_null * math.sqrt(2*math.pi))\n",
      "    s1 = -1.0 / (2 * sigma_null * sigma_null)\n",
      "    \n",
      "    k2 = 1.0 / (sigma * math.sqrt(2*math.pi))\n",
      "    s2 = -1.0 / (2 * sigma * sigma)\n",
      "    \n",
      "    x_bar = X*1.0/N\n",
      "    \n",
      "    def f(mu):\n",
      "        return (k1 * math.exp(s1 * (mu - mu_null)*(mu - mu_null)))*(k2 * math.exp(s2 * N*(mu - x_bar)*(mu - x_bar)))\n",
      "    return f\n",
      "\n",
      "#quad(mu_int(10, 10, 10, 10, 105), -inf, inf)\n"
     ],
     "language": "python",
     "metadata": {},
     "outputs": [],
     "prompt_number": 27
    },
    {
     "cell_type": "code",
     "collapsed": false,
     "input": [
      "data[2]"
     ],
     "language": "python",
     "metadata": {},
     "outputs": [
      {
       "metadata": {},
       "output_type": "pyout",
       "prompt_number": 28,
       "text": [
        "array([-0.03921904])"
       ]
      }
     ],
     "prompt_number": 28
    },
    {
     "cell_type": "code",
     "collapsed": false,
     "input": [
      "init_index_0 = np.array([1,3])\n",
      "init_index_1 = np.array([2,4])\n",
      "\n",
      "clust0_v = np.array([data[1], data[3]])\n",
      "clust1_v = np.array([data[2], data[4]])\n",
      "\n",
      "clust0_v\n"
     ],
     "language": "python",
     "metadata": {},
     "outputs": [
      {
       "metadata": {},
       "output_type": "pyout",
       "prompt_number": 51,
       "text": [
        "array([[ 19.23746373],\n",
        "       [ 19.00630007]])"
       ]
      }
     ],
     "prompt_number": 51
    },
    {
     "cell_type": "code",
     "collapsed": false,
     "input": [
      "sigma_null = 1\n",
      "mu_null = 1\n",
      "sigma = 1\n",
      "N0 = clust0_v.size\n",
      "sum0 = sum(clust0_v)\n",
      "\n",
      "quad(mu_int(sigma_null, mu_null, sigma, N0, sum0), -inf, inf)"
     ],
     "language": "python",
     "metadata": {},
     "outputs": [
      {
       "metadata": {},
       "output_type": "pyout",
       "prompt_number": 40,
       "text": [
        "(2.0857091585517116e-49, 3.878056525127584e-49)"
       ]
      }
     ],
     "prompt_number": 40
    },
    {
     "cell_type": "code",
     "collapsed": false,
     "input": [
      "def hcluster(df, mu_0, mu_1, sigma, mu_null, sigma_null, pi, init_index_0, init_index_1, clust0_v, clust1_v):\n",
      "    closed = 0.0\n",
      "    # initialize the T_i for clust 0: 2 initial selected values\n",
      "    N0 = clust0_v.size\n",
      "    sumclust0 = sum(clust0_v)\n",
      "    t_clust_0 = quad(mu_int(sigma_null, mu_null, sigma, N0, sumclust0), -inf, inf)[1]\n",
      "    \n",
      "    # initialize the T_j for clust 1: 2 initial selected values\n",
      "    N1 = clust1_v.size\n",
      "    sumclust1 = sum(clust1_v)\n",
      "    t_clust_1 = quad(mu_int(sigma_null, mu_null, sigma, N1, sumclust1), -inf, inf)[1]\n",
      "    \n",
      "    n = df.shape[0]\n",
      "    # go through all the points\n",
      "    for j in range(n):\n",
      "            \n",
      "        closest_lik = 0.0\n",
      "            \n",
      "        clust_0 = dict()\n",
      "\n",
      "        clust_1 = dict()\n",
      "            \n",
      "        # traverse all the points and pick the one that makes the likelihood to be bigger than \n",
      "        # another\n",
      "        for i in range(n):            \n",
      "            # traverse of the left array\n",
      "            # i must not exist in the already exist init_index\n",
      "            if (i not in init_index_0 & i not in init_index_1):\n",
      "                # temp add the x value to the existing picked x\n",
      "                tempx_clust0_v = np.append([clust0_v], [df.ix[i,0]])\n",
      "                tempx_clust1_v = np.append([clust1_v], [df.ix[i,0]])\n",
      "                    \n",
      "                # likeli for alternative under clust 0\n",
      "                X = sum(tempx_clust0_v)\n",
      "                N0 = tempx_clust0_v.size\n",
      "                mu_int(sigma_null, mu_null, sigma, N0, X)\n",
      "                lik_alt_0 = pi_0 * D_k (sum(tempx_clust0_v),  mu_0 = 1, sigma_0=1, n = tempx_clust0_v.size)\n",
      "                    \n",
      "                # likeli for alternative under clust 1\n",
      "                lik_alt_1 = (1-pi_0) * D_k (sum(tempx_clust1_v),  mu_0 = 10, sigma_0=1, n = tempx_clust1_v.size)\n",
      "\n",
      "                    # likeli for null under clust 0\n",
      "                lik_null_1 = (1-pi_0) * t_clust_0 * lik_alt_1\n",
      "                    \n",
      "                if lik_alt_0 > lik_null_1:\n",
      "                    post = lik_alt_0 + lik_alt_1\n",
      "                    clust_0.update({j:post})\n",
      "                else:\n",
      "                    post = lik_alt_0 + lik_alt_1\n",
      "                    clust_1.update({j:post})\n",
      "                    \n",
      "                # select the max likelihood from the two lists\n",
      "                maxLik_0 = max(clust_0.iterkeys(), key=lambda k: stats[k])\n",
      "                maxLik_1 = max(clust_1.iterkeys(), key=lambda k: stats[k])\n",
      "                if (maxLik_0>maxLik_1):\n",
      "                    # updated tode number\n",
      "                    t_clust_0 = clust_0[maxLik_0]\n",
      "                    # add the x-value \n",
      "                    clust0_v.append(maxLik_0)\n",
      "                else:\n",
      "                    t_clust_1 = clust_1[maxLik_1]\n",
      "                    clust1_v.append(maxLik_1)\n",
      "\n",
      "\n"
     ],
     "language": "python",
     "metadata": {},
     "outputs": [
      {
       "metadata": {},
       "output_type": "pyout",
       "prompt_number": 166,
       "text": [
        "True"
       ]
      }
     ],
     "prompt_number": 166
    },
    {
     "cell_type": "code",
     "collapsed": false,
     "input": [
      "def hcluster(df, mu_0, mu_1, sigma, mu_null, sigma_null, pi, init_index_0, init_index_1, clust0_v, clust1_v):\n",
      "    closed = 0.0\n",
      "    # initialize the T_i for clust 0: 2 initial selected values\n",
      "    N0 = clust0_v.size\n",
      "    sumclust0 = sum(clust0_v)\n",
      "    t_clust_0 = quad(mu_int(sigma_null, mu_null, sigma, N0, sumclust0), -inf, inf)[1]\n",
      "    \n",
      "    # initialize the T_j for clust 1: 2 initial selected values\n",
      "    N1 = clust1_v.size\n",
      "    sumclust1 = sum(clust1_v)\n",
      "    t_clust_1 = quad(mu_int(sigma_null, mu_null, sigma, N1, sumclust1), -inf, inf)[1]\n",
      "    \n",
      "    n = df.shape[0]\n",
      "    # go through all the points\n",
      "    for j in range(n):\n",
      "\n",
      "        closest_lik = 0.0\n",
      "        clust_0 = dict()\n",
      "        clust_1 = dict()\n",
      "        for i in range(n):            \n",
      "            # traverse of the left array\n",
      "            # i must not exist in the already exist init_index\n",
      "            if (i not in init_index_0 & i not in init_index_1):\n",
      "                tempx_clust0_v = np.append([clust0_v], [df.ix[i,0]])\n",
      "                tempx_clust1_v = np.append([clust1_v], [df.ix[i,0]])\n",
      "                \n",
      "                # likeli for null under clust 0\n",
      "                X0 = sum(tempx_clust0_v)\n",
      "                N0 = tempx_clust0_v.size\n",
      "                lik_alt_0 = pi*quad(mu_int(sigma_null, mu_null, sigma, N0, X0), -inf, inf)[0]\n",
      "                \n",
      "                # likeli for alternative under clust 0\n",
      "                X1 = sum(tempx_clust0_v[:N0-1])\n",
      "                N1 = tempx_clust1_v.size\n",
      "                X2 = sum(tempx_clust1_v)\n",
      "                D_i = quad(mu_int(sigma_null, mu_null, sigma, N0-1, X1), -inf, inf)[0]\n",
      "                D_j = quad(mu_int(sigma_null, mu_null, sigma, N1, X2), -inf, inf)[0]\n",
      "                lik_alt_1 = (1 - pi)*D_i*D_j\n",
      "                \n",
      "                r_0 = lik_alt_0/(lik_alt_0+lik_alt_1)\n",
      "                \n",
      "                # likeli for null under cluster 1\n",
      "                X0_1 = sum(tempx_clust1_v)\n",
      "                N0_1 = tempx_clust1_v.size\n",
      "                lik_alt_0_1 = pi*quad(mu_int(sigma_null, mu_null, sigma, N0_1, X0_1), -inf, inf)[0]\n",
      "           \n",
      "                # likeli for alternative under cluster 0\n",
      "                X1_1 = sum(tempx_clust1_v[:N0_1-1])\n",
      "                N1_1 = tempx_clust0_v.size\n",
      "                X2_1 = sum(tempx_clust0_v)\n",
      "                D_i_1 = quad(mu_int(sigma_null, mu_null, sigma, N0_1-1, X1_1), -inf, inf)[0]\n",
      "                D_j_1 = quad(mu_int(sigma_null, mu_null, sigma, N1_1, X2_1), -inf, inf)[0]\n",
      "                lik_alt_1_1 = (1-pi) * D_i_1 * D_j_1\n",
      "                \n",
      "                r_0_1 = lik_alt_0_1/(lik_alt_0_1+lik_alt_1_1)\n",
      "                \n",
      "\n",
      "                \n",
      "#    for j in range(n):\n",
      "#            \n",
      "#        closest_lik = 0.0\n",
      "#            \n",
      "#        clust_0 = dict()\n",
      "#\n",
      "#        clust_1 = dict()\n",
      "\n",
      "hcluster(df, mu_0 = 1, mu_1 = 20, sigma = 1, mu_null=10, sigma_null=1, pi=0.5, init_index_0 = init_index_0, init_index_1 = init_index_1, clust0_v = clust0_v, clust1_v = clust1_v)"
     ],
     "language": "python",
     "metadata": {},
     "outputs": [
      {
       "output_type": "stream",
       "stream": "stdout",
       "text": [
        "1.0\n",
        "0.0958697062808\n",
        "1.0\n",
        "0.00354131477364\n",
        "1.0\n",
        "5.7712833844e-05\n",
        "1.0\n",
        "0.0958697062808\n",
        "1.0\n",
        "0.00354131477364\n",
        "1.0\n",
        "5.7712833844e-05\n",
        "1.0\n",
        "0.0958697062808\n",
        "1.0\n",
        "0.00354131477364\n",
        "1.0\n",
        "5.7712833844e-05\n",
        "1.0\n",
        "0.0958697062808\n",
        "1.0"
       ]
      },
      {
       "output_type": "stream",
       "stream": "stdout",
       "text": [
        "\n",
        "0.00354131477364\n",
        "1.0\n",
        "5.7712833844e-05\n",
        "1.0\n",
        "0.0958697062808\n",
        "1.0\n",
        "0.00354131477364\n",
        "1.0\n",
        "5.7712833844e-05\n",
        "1.0\n",
        "0.0958697062808\n",
        "1.0\n",
        "0.00354131477364\n",
        "1.0\n",
        "5.7712833844e-05\n",
        "1.0\n",
        "0.0958697062808\n",
        "1.0\n",
        "0.00354131477364"
       ]
      },
      {
       "output_type": "stream",
       "stream": "stdout",
       "text": [
        "\n",
        "1.0\n",
        "5.7712833844e-05\n",
        "1.0\n",
        "0.0958697062808\n",
        "1.0\n",
        "0.00354131477364\n",
        "1.0\n",
        "5.7712833844e-05\n",
        "1.0\n",
        "0.0958697062808\n",
        "1.0\n",
        "0.00354131477364\n",
        "1.0\n",
        "5.7712833844e-05\n",
        "1.0\n",
        "0.0958697062808\n",
        "1.0\n",
        "0.00354131477364\n",
        "1.0"
       ]
      },
      {
       "output_type": "stream",
       "stream": "stdout",
       "text": [
        "\n",
        "5.7712833844e-05\n"
       ]
      }
     ],
     "prompt_number": 60
    },
    {
     "cell_type": "code",
     "collapsed": false,
     "input": [
      "df"
     ],
     "language": "python",
     "metadata": {},
     "outputs": [
      {
       "html": [
        "<div style=\"max-height:1000px;max-width:1500px;overflow:auto;\">\n",
        "<table border=\"1\" class=\"dataframe\">\n",
        "  <thead>\n",
        "    <tr style=\"text-align: right;\">\n",
        "      <th></th>\n",
        "      <th>data</th>\n",
        "    </tr>\n",
        "  </thead>\n",
        "  <tbody>\n",
        "    <tr>\n",
        "      <th>0</th>\n",
        "      <td> -0.154607</td>\n",
        "    </tr>\n",
        "    <tr>\n",
        "      <th>1</th>\n",
        "      <td> 19.237464</td>\n",
        "    </tr>\n",
        "    <tr>\n",
        "      <th>2</th>\n",
        "      <td> -0.039219</td>\n",
        "    </tr>\n",
        "    <tr>\n",
        "      <th>3</th>\n",
        "      <td> 19.006300</td>\n",
        "    </tr>\n",
        "    <tr>\n",
        "      <th>4</th>\n",
        "      <td>  0.091062</td>\n",
        "    </tr>\n",
        "    <tr>\n",
        "      <th>5</th>\n",
        "      <td> 18.748630</td>\n",
        "    </tr>\n",
        "    <tr>\n",
        "      <th>6</th>\n",
        "      <td>  0.569354</td>\n",
        "    </tr>\n",
        "    <tr>\n",
        "      <th>7</th>\n",
        "      <td> 19.362493</td>\n",
        "    </tr>\n",
        "    <tr>\n",
        "      <th>8</th>\n",
        "      <td>  1.859324</td>\n",
        "    </tr>\n",
        "    <tr>\n",
        "      <th>9</th>\n",
        "      <td> 20.085493</td>\n",
        "    </tr>\n",
        "  </tbody>\n",
        "</table>\n",
        "</div>"
       ],
       "metadata": {},
       "output_type": "pyout",
       "prompt_number": 55,
       "text": [
        "        data\n",
        "0  -0.154607\n",
        "1  19.237464\n",
        "2  -0.039219\n",
        "3  19.006300\n",
        "4   0.091062\n",
        "5  18.748630\n",
        "6   0.569354\n",
        "7  19.362493\n",
        "8   1.859324\n",
        "9  20.085493"
       ]
      }
     ],
     "prompt_number": 55
    },
    {
     "cell_type": "code",
     "collapsed": false,
     "input": [],
     "language": "python",
     "metadata": {},
     "outputs": [
      {
       "ename": "NameError",
       "evalue": "name 'tempx_clust0_v' is not defined",
       "output_type": "pyerr",
       "traceback": [
        "\u001b[1;31m---------------------------------------------------------------------------\u001b[0m\n\u001b[1;31mNameError\u001b[0m                                 Traceback (most recent call last)",
        "\u001b[1;32m<ipython-input-17-8f0ea297c8c5>\u001b[0m in \u001b[0;36m<module>\u001b[1;34m()\u001b[0m\n\u001b[1;32m----> 1\u001b[1;33m \u001b[0mtempx_clust0_v\u001b[0m\u001b[1;33m.\u001b[0m\u001b[0msize\u001b[0m\u001b[1;33m\u001b[0m\u001b[0m\n\u001b[0m",
        "\u001b[1;31mNameError\u001b[0m: name 'tempx_clust0_v' is not defined"
       ]
      }
     ],
     "prompt_number": 17
    },
    {
     "cell_type": "code",
     "collapsed": false,
     "input": [
      "n=clust0_v.size\n",
      "clust0_v[:n-1]\n"
     ],
     "language": "python",
     "metadata": {},
     "outputs": [
      {
       "metadata": {},
       "output_type": "pyout",
       "prompt_number": 21,
       "text": [
        "array([[ 21.61254932]])"
       ]
      }
     ],
     "prompt_number": 21
    },
    {
     "cell_type": "code",
     "collapsed": false,
     "input": [],
     "language": "python",
     "metadata": {},
     "outputs": []
    }
   ],
   "metadata": {}
  }
 ]
}