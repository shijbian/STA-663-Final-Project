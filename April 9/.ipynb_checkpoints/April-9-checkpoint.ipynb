{
 "metadata": {
  "name": "",
  "signature": "sha256:667331f45a259e2268a5e202f75bdf322fec4dd1bbe0b2a004422753299a37d3"
 },
 "nbformat": 3,
 "nbformat_minor": 0,
 "worksheets": [
  {
   "cells": [
    {
     "cell_type": "markdown",
     "metadata": {},
     "source": [
      "For this week's progress, I apologize that I did not do a lot, but I talked to professor about the basic structure of the final project I am going to write. The algorithm in the BHC paper is very general, it is an overall introduction to the BHC. From the perspective of coding background, it is very difficult for me to build up a very general BHC package from this paper. So I decide to do a specific example that use BHC to solve the problem. \n",
      "\n",
      "I choose to use the example from <http://journals.plos.org/plosone/article?id=10.1371/journal.pone.0075748#pone.0075748.s001>. Then I can simulate the data set to test if the model works well for the simulated data set. The I can answer the questions:\n",
      "- does it work (i.e. does it produce correct results when given known data sets, possibly simulated)\n",
      "- is the code professional and readable?\n",
      "- has it been optimized?\n",
      "- has it been evaluated properly (i.e. comparative analysis as you describe)?\n"
     ]
    },
    {
     "cell_type": "code",
     "collapsed": false,
     "input": [],
     "language": "python",
     "metadata": {},
     "outputs": []
    }
   ],
   "metadata": {}
  }
 ]
}