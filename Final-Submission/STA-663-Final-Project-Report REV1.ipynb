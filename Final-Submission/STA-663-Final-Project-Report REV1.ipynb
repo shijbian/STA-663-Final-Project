{
 "metadata": {
  "name": "",
  "signature": "sha256:a9166737cb66368e6929595c36c0109cfbefd401a08952c56f7214c5261be627"
 },
 "nbformat": 3,
 "nbformat_minor": 0,
 "worksheets": [
  {
   "cells": [
    {
     "cell_type": "markdown",
     "metadata": {},
     "source": [
      "Bayesian Hierarchical Clustering \n",
      "=============\n",
      "\n",
      "#### STA 663 Computational Statistics in Python Final Project\n",
      "\n",
      "#### Shijia Bian\n",
      "\n"
     ]
    },
    {
     "cell_type": "markdown",
     "metadata": {},
     "source": [
      "### Abstract\n"
     ]
    },
    {
     "cell_type": "markdown",
     "metadata": {},
     "source": [
      "### Outline  \n",
      "\n",
      "+ #### Background  \n",
      "\n",
      "+ #### Traditional Hierarchical Clustering  \n",
      "\n",
      "    + Algorithm\n",
      "    + Four Main Types of Linkage\n",
      "    + Example of Traditional Hierarchical Clustering Model\n",
      "\n",
      "+ #### BHC Algorithm Debrief  \n",
      "\n",
      "    + Diagram\n",
      "    + Notation\n",
      "    + Hypothesis Testing\n",
      "    + Marginal Likelihood for the Hypothesis\n",
      "    + Posterial Likelihood for the Hypothesis\n",
      "    + Pseudocode for General Implementation\n",
      "\n",
      "+ #### Case Study: One Dimensional Gaussian Distribution with Unknown Mean and Known Variance\n",
      "    + Case Study on BHC Model;\n",
      "        + Step 1: Data Simulation\n",
      "        + Step 2: Data Visualization\n",
      "        + Step 3: Initialization\n",
      "        + Step 4: Implement the Function for the Integration of the Likelihood: mu_int\n",
      "        + Step 5: The Main Function: hcluster\n",
      "        + Step 6: Run the Main Function: hcluster\n",
      "        + Step 7: Algorithm Performance and Code Test\n",
      "        \n",
      "    + Case Study on Traditional Hierarchical Model.\n",
      "\n",
      "+ #### Limitation of Implemented Algorithm\n",
      "\n",
      "+ #### Further Improvement and Explanation of the Difficulty\n",
      "\n",
      "+ #### Conclusion \n",
      "\n",
      "+ #### Citation\n"
     ]
    },
    {
     "cell_type": "markdown",
     "metadata": {},
     "source": [
      "### Background\n",
      "\n",
      "This final project is largly based on the paper *Bayesian Hierarchical Clustering* by Katherine A. Heller and Zoubin Ghahramani. This paper is to introduce the new Agglomerative Hierarchical Clustering Algorithm from the perspective of Bayesian. This project is to dig into the paper and explain the paper in layman's term. The main part of this project is to give a specific example by applying the algorithm in the paper on this topic. \n",
      "\n",
      "Agglomerative Hierarchical Algorithm is an important method in unsupervised learning: a useful technique for visualizing and discovering groups in a data set by analyzing the data to be a nested tree dendrogram with nodes. Both the traditional hierarchical model and the Bayesian Hierarchical Clustering(BHC) are Agglomerative Hierarchical trees. Agglomerative Hierarchical tree are grown from the bottom to up. The clusters that are most similar to each other will fused to be a branches. The branches will become a new clusters that will continue to be fused with other most similar branches, so there will be new clusters being fused. The steps will continue till all the clusters are merged to become a single tree. Similar to the traditional hierarchical clustering methods, this new method starts each data point in its own cluster and iteratively merges pair of clusters. The BHC has advantages overcomming many issues that cannot be handled properly through traditional Agglomerative Hierarchical Algorithm methods. The BHC applies hypothesis testing to decide which data should be merged together or not. Different from the traditional hierarchical model, the BHC will return the probability that two nodes can be merged together. \n",
      "\n",
      "In this final project, we will look deep into both the traditional hierarchical model and BHC by providing examples."
     ]
    },
    {
     "cell_type": "markdown",
     "metadata": {},
     "source": [
      "### Traditional Hierarchical Clustering  \n",
      "\n",
      "#### Algorithm\n",
      "\n",
      "+ Start with n observations. Consider each of the observation is a cluster, therefore, we have n clusters. Apply a measure, commonly Euclidean distance, of all the $\\binom{n}{2}=n(n-1)/2$ to measure pairwise dissimilarities.\n",
      "\n",
      "+ For $i = 1, \\dots, n$  \n",
      "  + (a) Examine all pairs, and fuse the pair that has the most similarity among the i clusters. The measurements for the cluster similarity is commonly meansured by the four types of Linkage that is listed below.\n",
      "  + (b) Iterate on conputing the inter-cluster similarity among the $i-1$ remaining clusters. \n",
      "  \n",
      "#### Four Main Types of Linkage\n",
      "+ Complete: maximal intercluster dissimilarity;\n",
      "+ Single: minimal intercluster dissimilarity;\n",
      "+ Average: mean intercluster dissimilarity;\n",
      "+ Centroid: dissimilarity between the centroid for cluster A and the centroid for cluster B.\n",
      "\n",
      "#### Example of Traditional Hierarchical Clustering Model\n",
      "\n",
      "Below is an example of the traditional hierarchical clustering model. Here are the data set we use for this example:\n",
      "\n",
      "| x_1 | x_2 |\n",
      "|-----|-----|\n",
      "| 0   | 0   |\n",
      "|   1 | 0   |\n",
      "| 0   | 1   |\n",
      "| 1   | 1   |\n",
      "| 0.5 | 0   |\n",
      "| 0   | 0.5 |\n",
      "| 0.5 | 0.5 |\n",
      "| 2   | 2   |\n",
      "| 2   | 3   |\n",
      "| 3   | 2   |\n",
      "| 3   | 3   |\n",
      "\n",
      "\n",
      "The first plot is a hierarchical clustering dendrogram by complete linkage. The second plot is a 2-dimensional visualization of the same data that we use for the dendrogram. We can see that the points 5 and 6 are closed to each other by visualizaed distance in the \"2-Dimensional Visualization of the Data\", and the 2 points are also fused together according to the dendrogram. Here are few points that we need pay attention to the tradistional hiercarchical clustering:  \n",
      "\n",
      "+ This is a hierarchical model we use complete linkage. Different linkage methods can gennerate different types of hierarchical clustering dendrogram, complete linkage is generally preferred in tems of interpretation;\n",
      "+ The points 0 and 2 that are linked together in the dendrogram are not closed to each other in terms of euclidean distance. Actually, points 0 and 4 are more closed to each other by visualization the 2-dimensional plots. This is because 0 and 2 are closed in terms of horizontal distance that is almost 0;\n",
      "+ The number of clustering is not unique. In the hierarchical clustering dendrogram, there are 2 clusters if we use the black dashed line to slice the original cluster; We have four clusters if we use the blue line to slice the cluster; We can even get eight clusters by using the red dashed line. \n",
      "\n"
     ]
    },
    {
     "cell_type": "code",
     "collapsed": false,
     "input": [
      "import numpy as np\n",
      "import numpy as np\n",
      "import matplotlib.pyplot as plt\n",
      "from scipy.spatial.distance import pdist, squareform\n",
      "from scipy.cluster.hierarchy import linkage, dendrogram"
     ],
     "language": "python",
     "metadata": {},
     "outputs": [],
     "prompt_number": 1
    },
    {
     "cell_type": "code",
     "collapsed": false,
     "input": [
      "# Here is the prepared dataset\n",
      "data_array = np.array([[0,   0  ],\n",
      "              [1,   0  ],\n",
      "              [0,   1  ],\n",
      "              [1,   1  ], \n",
      "              [0.5, 0  ],\n",
      "              [0,   0.5],\n",
      "              [0.5, 0.5],\n",
      "              [2,   2  ],\n",
      "              [2,   3  ],\n",
      "              [3,   2  ],\n",
      "              [3,   3  ]])\n",
      "\n",
      "plt.title('Dendrogram of Traditional Hierarchical Clustering')\n",
      "z = linkage(data_array, method='complete')\n",
      "d = dendrogram(z)\n",
      "\n",
      "plt.axhline(y=2.,color='k',ls='dashed')\n",
      "plt.axhline(y=1.25,color='b',ls='dashed')\n",
      "plt.axhline(y=0.8,color='r',ls='dashed')\n",
      "\n",
      "plt.show()"
     ],
     "language": "python",
     "metadata": {},
     "outputs": [
      {
       "metadata": {},
       "output_type": "display_data",
       "png": "[encoded data removed]",
       "text": [
        "<matplotlib.figure.Figure at 0x7fbfe410f2d0>"
       ]
      }
     ],
     "prompt_number": 2
    },
    {
     "cell_type": "code",
     "collapsed": false,
     "input": [
      "figsize(6, 6)\n",
      "import numpy as np\n",
      "import matplotlib.pyplot as plt\n",
      "\n",
      "n = range(0,11)\n",
      "fig, ax = plt.subplots()\n",
      "plt.title('2-Dimensional Visualization of the Data')\n",
      "ax.scatter(data_array[:,0], data_array[:,1])\n",
      "\n",
      "for i, txt in enumerate(n):\n",
      "    ax.annotate(txt, (data_array[:,0][i],data_array[:,1][i]))\n",
      " "
     ],
     "language": "python",
     "metadata": {},
     "outputs": [
      {
       "metadata": {},
       "output_type": "display_data",
       "png": "[encoded data removed]",
       "text": [
        "<matplotlib.figure.Figure at 0x7fbfe403e210>"
       ]
      }
     ],
     "prompt_number": 3
    },
    {
     "cell_type": "markdown",
     "metadata": {},
     "source": [
      "### Bayesian Hierarchical Clustering (BHC)\n",
      "\n",
      "#### Diagram\n",
      "Below is the graphical illustration of how nodes is fused in the Bayesian Hierarchical clustering.\n",
      "\n",
      "![alt text](https://raw.githubusercontent.com/shijbian/STA-663-Final-Project/master/April%2023/nodeGraph.png)\n",
      "\n",
      "#### Notation  \n",
      "\n",
      "&nbsp;&nbsp;&nbsp;&nbsp;&nbsp;&nbsp; $\\mathcal{D} = \\{\\bf{x}^{(1)}, \\ldots, \\bf{x}^{(n)} \\}$: entire data set.\n",
      "\n",
      "&nbsp;&nbsp;&nbsp;&nbsp;&nbsp;&nbsp; $T_i$: subtree $i$.  \n",
      "\n",
      "&nbsp;&nbsp;&nbsp;&nbsp;&nbsp;&nbsp; $\\mathcal{D}_i$: data set in subtree $i$.\n",
      "\n",
      "&nbsp;&nbsp;&nbsp;&nbsp;&nbsp;&nbsp; $T_i \\cup T_j \\Rightarrow T_k \\rightarrow \\mathcal{D}_i \\cup \\mathcal{D}_j$: tree $T_i$ and tree $T_j$ merge to become a new tree $T_k$. \n",
      "\n",
      "#### Hypothesis Testing\n",
      "\n",
      "&nbsp;&nbsp;&nbsp;&nbsp;&nbsp;&nbsp; **Null Hypothesis $\\mathcal{H}_1^k$**: all data in $\\mathcal{D}_k$ are i.i.d generated from the same probabilistic model $P(\\bf{x}|\\theta)$.  \n",
      "\n",
      "&nbsp;&nbsp;&nbsp;&nbsp;&nbsp;&nbsp; **Alternative Hypothesis $\\mathcal{H}_2^k$**: data in $\\mathcal{D}_k$ are from two or more clusters.\n",
      "\n",
      "#### Marginal Likelihood for the Hypothesis\n",
      "\n",
      "&nbsp;&nbsp;&nbsp;&nbsp;&nbsp;&nbsp; **Likelihood for Null Hypothesis:** data at tree $\\mathcal{D}_k$ is generated from the same cluster\n",
      "\n",
      "&nbsp;&nbsp;&nbsp;&nbsp;&nbsp;&nbsp;&nbsp;&nbsp;&nbsp;&nbsp;&nbsp;&nbsp;  $P(\\mathcal{D}_k|H_1^k)= \\int P(\\mathcal{D}_k|\\theta) P(\\theta|\\beta) \\mathcal{d}\\theta$\n",
      "\n",
      "&nbsp;&nbsp;&nbsp;&nbsp;&nbsp;&nbsp; **Likelihood for Alternative Hypothesis:** data at tree $\\mathcal{D}_k$ is generated from different cluster\n",
      "\n",
      "&nbsp;&nbsp;&nbsp;&nbsp;&nbsp;&nbsp;&nbsp;&nbsp;&nbsp;&nbsp;&nbsp;&nbsp;  $P(\\mathcal{D}_k|H_2^k)=P(\\mathcal{D}_i|T_i)P(\\mathcal{D}_j|T_j)$  \n",
      "\n",
      "&nbsp;&nbsp;&nbsp;&nbsp;&nbsp;&nbsp;  **Marginal Probability of the Data in Tree $T_k$:**\n",
      "\n",
      "&nbsp;&nbsp;&nbsp;&nbsp;&nbsp;&nbsp;&nbsp;&nbsp;&nbsp;&nbsp;&nbsp;&nbsp;  $P(\\mathcal{D}_k|T_k)=\\pi_kP(\\mathcal{D}_k|H^k_1)+(1-\\pi_k)P(\\mathcal{D}_k|H^k_2)$  \n",
      "\n",
      "&nbsp;&nbsp;&nbsp;&nbsp;&nbsp;&nbsp;&nbsp;&nbsp;&nbsp;&nbsp;&nbsp;&nbsp;  $\\pi_k = P(H^k_1)$\n",
      "\n",
      "#### Posterial Likelihood for the Hypothesis\n",
      "\n",
      "&nbsp;&nbsp;&nbsp;&nbsp;&nbsp;&nbsp; **$r_k=\\frac{\\pi_kp(\\mathcal{D}_k)|\\mathcal{H}_1^k}{\\pi_kP(\\mathcal{D}_k|H^k_1)+(1-\\pi_k)P(\\mathcal{D}_k|H^k_2)}$**\n",
      "\n",
      "#### Pseudocode for General Implementation\n",
      "\n",
      "&nbsp;&nbsp;&nbsp;&nbsp;&nbsp;&nbsp; **input** data $\\mathcal{D} = {x^{(1)}, x^{(2)}, \\ldots, x^{(n)}}$, model $p(x|\\theta)$, prior $p(\\theta|\\beta)$\n",
      "\n",
      "&nbsp;&nbsp;&nbsp;&nbsp;&nbsp;&nbsp; **initialize: ** number of clusters $\\mathcal{c}=\\mathcal{n}$ for $i = 1, \\ldots, n$\n",
      "\n",
      "&nbsp;&nbsp;&nbsp;&nbsp;&nbsp;&nbsp; **while** $\\mathcal{c}>1$ **do**:\n",
      "\n",
      "&nbsp;&nbsp;&nbsp;&nbsp;&nbsp;&nbsp;&nbsp;&nbsp;&nbsp;&nbsp;&nbsp;&nbsp;  Find the pair $\\mathcal{D}_i$ and $\\mathcal{D}_j$ with the highest probability of the merged hypothesis:\n",
      " $$\\mathcal{r}_k = \\frac{\\pi_k p(\\mathcal{D}_k|\\mathcal{H}_1^k)}{p(\\mathcal{D}_k|\\mathcal{T}_k)}$$\n",
      "&nbsp;&nbsp;&nbsp;&nbsp;&nbsp;&nbsp;&nbsp;&nbsp;&nbsp;&nbsp;&nbsp;&nbsp; Merge $\\mathcal{D}_k \\leftarrow \\mathcal{D}_i \\cup \\mathcal{D}_j$, $\\mathcal{T}_k \\leftarrow (\\mathcal{T}_i, \\mathcal{T}_j)$  \n",
      "&nbsp;&nbsp;&nbsp;&nbsp;&nbsp;&nbsp;&nbsp;&nbsp;&nbsp;&nbsp;&nbsp;&nbsp; Delete $\\mathcal{D}_i$ and $\\mathcal{D}_j$, $c \\leftarrow c-1$\n",
      "\n",
      "&nbsp;&nbsp;&nbsp;&nbsp;&nbsp;&nbsp; **end while**\n",
      "\n",
      "&nbsp;&nbsp;&nbsp;&nbsp;&nbsp;&nbsp; **output: ** Bayesian mixture model where each tree node is a mixture component  \n",
      "&nbsp;&nbsp;&nbsp;&nbsp;&nbsp;&nbsp; The tree can be cut at points where $\\mathcal{r}_k<0.5$"
     ]
    },
    {
     "cell_type": "markdown",
     "metadata": {},
     "source": [
      "### Case Study: One Dimensional Gaussion Distribution with Unknown Mean and Known Precision\n",
      "\n",
      "#### Case Study on Designed BHC Model  \n",
      "\n",
      "\n",
      "In this case study, assume that the data are from two normal distributions with unknown mean and known variance.  \n",
      "\n",
      "$$X_1 \\sim \\mathcal{N}(\\mu_1,1) \\text{ and } X_2 \\sim \\mathcal{N}(\\mu_2,1)$$\n",
      "\n",
      "The prior for $\\mu_1$ and $\\mu_2$ is:  \n",
      "\n",
      "$$\\mu_1,\\mu_2 \\sim N(\\mu_0,\\sigma_0)$$\n",
      "\n",
      "There are some assumptions before carrying out the algorithm:\n",
      "\n",
      "+ The data are restricted from two distinguished normal distribution;\n",
      "+ the dataset can be normalized through the formula for the standard normal, i.e. it has mean zero and a unit variance;\n",
      "+ each observation $x^{(i)}$ is independnt and generated from different Gaussian distributions, therefore, the covariance is 0 between the two distribution;\n",
      "+ the realizations of each variable, $x^{(i)}$ in cluster $\\mathcal{D}_j$ are independent and identically distributed and drawn from Gaussian distribution with unknown mean $\\mu_j$ and precision $\\sigma_j^2$, and the prior on $(\\mu_j,\\sigma_j^{-2})$ is a normal-gamma distribution with hyperparameter $\\mu_0,\\sigma_0$."
     ]
    },
    {
     "cell_type": "markdown",
     "metadata": {},
     "source": [
      "\n",
      "\n",
      "$$P(\\mathcal{D}|H_1)= \\int f(x|\\mu)f(\\mu) \\mathcal{d}\\mu = \\int_{-\\infty}^{\\infty} \\bigg[\\frac{1}{\\sigma_0 \\sqrt{2\\pi}}exp(-\\frac{(\\mu-\\mu_0)^2}{2\\sigma_0^2})\\bigg]\\bigg[(\\frac{1}{\\sigma \\sqrt{2\\pi}})^n exp(-\\frac{n(\\bar{x}_0-\\mu)^2}{2\\sigma^2})   \\bigg]\\mathcal{d}\\mu$$\n",
      "\n",
      "\n",
      "$$P(\\mathcal{D}|H_2)= \\int f(x|\\mu)f(\\mu) \\mathcal{d}\\mu = \\int_{-\\infty}^{\\infty} \\bigg[\\frac{1}{\\sigma_0 \\sqrt{2\\pi}}exp(-\\frac{(\\mu-\\mu_0)^2}{2\\sigma_0^2})\\bigg]\\bigg[(\\frac{1}{\\sigma \\sqrt{2\\pi}})^n exp(-\\frac{n(\\bar{x}_1-\\mu)^2}{2\\sigma^2})   \\bigg]\\mathcal{d}\\mu$$\n"
     ]
    },
    {
     "cell_type": "markdown",
     "metadata": {},
     "source": [
      "**GOAL of the CASE STUDY:** In the next step of data simulation, the data that are odd indexed are from the different clusters as the data that are even indexed. Therefore, we want out algorithm to distinguish the odd index from the even index. The out put of the algorithm should return a cluster with 2 sets: one set has only odd number, and another set only has even number."
     ]
    },
    {
     "cell_type": "markdown",
     "metadata": {},
     "source": [
      "First, we need install all the packages we need for this demonstration:"
     ]
    },
    {
     "cell_type": "code",
     "collapsed": false,
     "input": [
      "%matplotlib inline\n",
      "import scipy.stats as stats\n",
      "from IPython.core.pylabtools import figsize\n",
      "import numpy as np\n",
      "figsize(12.5, 4)\n",
      "\n",
      "import matplotlib.pyplot as plt\n",
      "from mpl_toolkits.mplot3d import Axes3D\n",
      "\n",
      "%matplotlib inline\n",
      "import scipy.stats as stats\n",
      "from IPython.core.pylabtools import figsize\n",
      "import numpy as np\n",
      "figsize(12.5, 4)\n",
      "\n",
      "import matplotlib.pyplot as plt\n",
      "from mpl_toolkits.mplot3d import Axes3D\n",
      "\n",
      "import itertools\n",
      "\n",
      "import numpy as np\n",
      "from scipy import linalg\n",
      "import matplotlib.pyplot as plt\n",
      "import matplotlib as mpl\n",
      "\n",
      "from sklearn import mixture\n",
      "\n",
      "import operator"
     ],
     "language": "python",
     "metadata": {},
     "outputs": [],
     "prompt_number": 4
    },
    {
     "cell_type": "markdown",
     "metadata": {},
     "source": [
      "+ **Step 1: Data Simulation: ** simulate 20 data from two normal distribution: N(0, 1) and N(20, 1). \n",
      "$$X_1 \\sim \\mathcal{N}(1,1) \\text{ and } X_2 \\sim \\mathcal{N}(20,1)$$\n",
      "We call the data set **data**. These two clusters are distinguishable from each other. Our simulation assumes that 50% of the data are from the cluster 0 and 50% are from the cluster 1. \n",
      "\n",
      "The first 5 data are shown below:"
     ]
    },
    {
     "cell_type": "code",
     "collapsed": false,
     "input": [
      "# Mean\n",
      "np.random.seed(1343)\n",
      "mean = (1,20)\n",
      "# Variance and covariance\n",
      "cov = [[1,0],[0,1]]\n",
      "n=10\n",
      "dat = np.random.multivariate_normal(mean,cov,n)\n",
      "# this is the simulated one-dimensional data set from normal distribution\n",
      "# normal \n",
      "data = dat.reshape(n*2, 1)\n",
      "data[:5]"
     ],
     "language": "python",
     "metadata": {},
     "outputs": [
      {
       "metadata": {},
       "output_type": "pyout",
       "prompt_number": 5,
       "text": [
        "array([[  1.43377916],\n",
        "       [ 21.40567211],\n",
        "       [ -0.38878923],\n",
        "       [ 20.77828656],\n",
        "       [  1.18450975]])"
       ]
      }
     ],
     "prompt_number": 5
    },
    {
     "cell_type": "markdown",
     "metadata": {},
     "source": [
      "+ **Step 2: Data Visualization** Visualize the data set and save the data as data frame in Pandas for easy accessing: assume that we have no idea about the mean of the data set. By abserving the graphical distribution, we think that one cluster is around 0, and another cluster is around 20. Because the data set is large enough, so it is reasonable to have the same prior distirbution for the two clusters;"
     ]
    },
    {
     "cell_type": "code",
     "collapsed": false,
     "input": [
      "plt.hist(data, bins=20, color=\"k\", histtype=\"stepfilled\", alpha=0.8)\n",
      "plt.title(\"Histogram of the dataset\")\n",
      "plt.ylim([0, None])\n",
      "#print data[:10], \"...\""
     ],
     "language": "python",
     "metadata": {},
     "outputs": [
      {
       "metadata": {},
       "output_type": "pyout",
       "prompt_number": 6,
       "text": [
        "(0, 7.0)"
       ]
      },
      {
       "metadata": {},
       "output_type": "display_data",
       "png": "[encoded data removed]",
       "text": [
        "<matplotlib.figure.Figure at 0x7fbfe4048f90>"
       ]
      }
     ],
     "prompt_number": 6
    },
    {
     "cell_type": "code",
     "collapsed": false,
     "input": [
      "import pandas as pd\n",
      "# save the data as a data frame in pandas\n",
      "df = pd.DataFrame({'data': data.reshape(-1)})\n",
      "df.head()"
     ],
     "language": "python",
     "metadata": {},
     "outputs": [
      {
       "html": [
        "<div style=\"max-height:1000px;max-width:1500px;overflow:auto;\">\n",
        "<table border=\"1\" class=\"dataframe\">\n",
        "  <thead>\n",
        "    <tr style=\"text-align: right;\">\n",
        "      <th></th>\n",
        "      <th>data</th>\n",
        "    </tr>\n",
        "  </thead>\n",
        "  <tbody>\n",
        "    <tr>\n",
        "      <th>0</th>\n",
        "      <td>  1.433779</td>\n",
        "    </tr>\n",
        "    <tr>\n",
        "      <th>1</th>\n",
        "      <td> 21.405672</td>\n",
        "    </tr>\n",
        "    <tr>\n",
        "      <th>2</th>\n",
        "      <td> -0.388789</td>\n",
        "    </tr>\n",
        "    <tr>\n",
        "      <th>3</th>\n",
        "      <td> 20.778287</td>\n",
        "    </tr>\n",
        "    <tr>\n",
        "      <th>4</th>\n",
        "      <td>  1.184510</td>\n",
        "    </tr>\n",
        "  </tbody>\n",
        "</table>\n",
        "</div>"
       ],
       "metadata": {},
       "output_type": "pyout",
       "prompt_number": 7,
       "text": [
        "        data\n",
        "0   1.433779\n",
        "1  21.405672\n",
        "2  -0.388789\n",
        "3  20.778287\n",
        "4   1.184510"
       ]
      }
     ],
     "prompt_number": 7
    },
    {
     "cell_type": "markdown",
     "metadata": {},
     "source": [
      "+ **Step 3: Initialization:**  \n",
      "Initialize the data by extracting two points. These two points are from the two clusters respectively. \n",
      "\n",
      "&nbsp;&nbsp;&nbsp;&nbsp;&nbsp;&nbsp; t_clust_0: initialized $T_i$  \n",
      "&nbsp;&nbsp;&nbsp;&nbsp;&nbsp;&nbsp; t_clust_1: initialized $T_j$   \n",
      "\n",
      "&nbsp;&nbsp;&nbsp;&nbsp;&nbsp;&nbsp; **Important assumption in this designed algorithm:** we assume that we are able to extract two data points that are from different clusters from the data set.\n",
      "\n",
      "&nbsp;&nbsp;&nbsp;&nbsp;&nbsp;&nbsp; According to the visualization above, we can extract the point 1 and point 2 as initial value. \n",
      "\n",
      "&nbsp;&nbsp;&nbsp;&nbsp;&nbsp;&nbsp; The information we need store are the two points are:   \n",
      "\n",
      "   + the index of the point 2: stored into two arrays: init_index_0 and init_index_1;\n",
      "   + the corresponding value for the two points: stored into two arrays: clust0_v and clust1_v.\n",
      "  "
     ]
    },
    {
     "cell_type": "code",
     "collapsed": false,
     "input": [
      "# The initial index for cluster 0 is stroed into array init_index_0\n",
      "init_index_0 = np.array([1])\n",
      "\n",
      "# The initial index for cluster 1 is stroed into array init_index_1\n",
      "init_index_1 = np.array([2])\n",
      "\n",
      "# The initial value for cluster 0 is stroed into array clust0_v\n",
      "clust0_v = np.array([data[1]])\n",
      "\n",
      "# The initial value for cluster 1 is stroed into array clust1_v\n",
      "clust1_v = np.array([data[2]])"
     ],
     "language": "python",
     "metadata": {},
     "outputs": [],
     "prompt_number": 8
    },
    {
     "cell_type": "markdown",
     "metadata": {},
     "source": [
      "+ **Step 4: Implement the Function: Computing the Integration of the Liklihood Function\uff1a**\n",
      "\n",
      "\n",
      "\n",
      "$$P(\\mathcal{D}|H_k)= \\int f(x|\\mu)f(\\mu) \\mathcal{d}\\mu = \\int_{-\\infty}^{\\infty} \\bigg[\\frac{1}{\\sigma_0 \\sqrt{2\\pi}}exp(-\\frac{(\\mu-\\mu_0)^2}{2\\sigma_0^2})\\bigg]\\bigg[(\\frac{1}{\\sigma \\sqrt{2\\pi}})^n exp(-\\frac{n(\\bar{x}-\\mu)^2}{2\\sigma^2})   \\bigg]\\mathcal{d}\\mu$$"
     ]
    },
    {
     "cell_type": "code",
     "collapsed": false,
     "input": [
      "from scipy.integrate import quad\n",
      "\n",
      "def mu_int(sigma_null, mu_null, sigma, N, X):\n",
      "    k1 = 1.0 / (sigma_null * math.sqrt(2*math.pi))\n",
      "    s1 = -1.0 / (2 * sigma_null * sigma_null)\n",
      "    \n",
      "    k2 = 1.0 / (sigma * math.sqrt(2*math.pi))\n",
      "    s2 = -1.0 / (2 * sigma * sigma)\n",
      "    \n",
      "    x_bar = X*1.0/N\n",
      "    \n",
      "    def f(mu):\n",
      "        return (k1 * math.exp(s1 * (mu - mu_null)*(mu - mu_null)))*(k2 * math.exp(s2 * N*(mu - x_bar)*(mu - x_bar)))\n",
      "    return f\n",
      "\n",
      "# The \"quad\" command below is to run the gaussian distribution \n",
      "# integration function:\n",
      "# quad(mu_int(10, 10, 10, 10, 105), -inf, inf)"
     ],
     "language": "python",
     "metadata": {},
     "outputs": [],
     "prompt_number": 9
    },
    {
     "cell_type": "markdown",
     "metadata": {},
     "source": [
      "+ **Step 5: The Main Function: hcluster\uff1a**\n",
      "    \n",
      "The main function hcluster is designed specifically to accomodate the BHC algorith for one-dimensional data from 2 distinct normal distributions with unknown mean and know variance. \n",
      "\n",
      "In addition, we also have the two points initialized from the two clusters generated from the logic above:\n",
      "\n",
      "&nbsp;&nbsp;&nbsp;&nbsp;&nbsp;&nbsp; t_clust_0: initialized $T_i$  \n",
      "&nbsp;&nbsp;&nbsp;&nbsp;&nbsp;&nbsp; t_clust_1: initialized $T_j$   \n",
      "\n",
      "This function follows the description of the algorith in the original paper.  \n",
      "\n",
      "+   This function will take into the parameters below:  \n",
      "\n",
      "    + df: the one dimensional data set;\n",
      "    + mu_null: the prior mean\n",
      "    + sigma_null: the prior variance\n",
      "    + pi: the probability that select the first cluster;\n",
      "    + init_index_0: the index of data that are initialized in the first cluster\n",
      "    + init_index_1: the index of data that are initialized in the second cluster\n",
      "    + clust0_v: data that are initialized in the first cluster\n",
      "    + clust1_v: data that are initialized in the second cluster\n"
     ]
    },
    {
     "cell_type": "code",
     "collapsed": false,
     "input": [
      "import operator\n",
      "np.random.seed(134)\n",
      "def hcluster(df, sigma, mu_null, sigma_null, pi, init_index_0, init_index_1, clust0_v, clust1_v):\n",
      "    closed = 0.0\n",
      "    # initialize the T_i for clust 0: 2 initial selected values\n",
      "    N0 = clust0_v.size\n",
      "    sumclust0 = sum(clust0_v)\n",
      "    t_clust_0 = quad(mu_int(sigma_null, mu_null, sigma, N0, sumclust0), -inf, inf)[1]\n",
      "    \n",
      "    # initialize the T_j for clust 1: 2 initial selected values\n",
      "    N1 = clust1_v.size\n",
      "    sumclust1 = sum(clust1_v)\n",
      "    t_clust_1 = quad(mu_int(sigma_null, mu_null, sigma, N1, sumclust1), -inf, inf)[1]\n",
      "    \n",
      "    n = df.shape[0]\n",
      "    # go through all the points\n",
      "    c = 10\n",
      "    while c > 0:\n",
      "        for j in range(n):\n",
      "\n",
      "            closest_lik = 0.0\n",
      "            clust_0 = dict()\n",
      "            clust_1 = dict()\n",
      "            for i in range(n):            \n",
      "                # traverse of the left array\n",
      "                # i must not exist in the already exist init_index\n",
      "                if (i not in init_index_0 and i not in init_index_1):\n",
      "                    tempx_clust0_v = np.append([clust0_v], [df.ix[i,0]])\n",
      "                    tempx_clust1_v = np.append([clust1_v], [df.ix[i,0]])\n",
      "                \n",
      "                    # likeli for null under clust 0\n",
      "                    X0 = sum(tempx_clust0_v)\n",
      "                    N0 = tempx_clust0_v.size\n",
      "                    lik_alt_0 = pi*quad(mu_int(sigma_null, mu_null, sigma, N0, X0), -inf, inf)[0]\n",
      "                \n",
      "                    # likeli for alternative under clust 0\n",
      "                    X1 = sum(tempx_clust0_v[:N0-1])\n",
      "                    N1 = tempx_clust1_v.size\n",
      "                    X2 = sum(tempx_clust1_v)\n",
      "                    D_i = quad(mu_int(sigma_null, mu_null, sigma, N0-1, X1), -inf, inf)[0]\n",
      "                    D_j = quad(mu_int(sigma_null, mu_null, sigma, N1, X2), -inf, inf)[0]\n",
      "                    lik_alt_1 = (1 - pi)*D_i*D_j\n",
      "                    # the ratio under the 1st cluster\n",
      "                    r_0 = lik_alt_0/(lik_alt_0+lik_alt_1)\n",
      "                \n",
      "                    # likeli for null under cluster 1\n",
      "                    X0_1 = sum(tempx_clust1_v)\n",
      "                    N0_1 = tempx_clust1_v.size\n",
      "                    lik_alt_0_1 = pi*quad(mu_int(sigma_null, mu_null, sigma, N0_1, X0_1), -inf, inf)[0]\n",
      "           \n",
      "                    # likeli for alternative under cluster 0\n",
      "                    X1_1 = sum(tempx_clust1_v[:N0_1-1])\n",
      "                    N1_1 = tempx_clust0_v.size\n",
      "                    X2_1 = sum(tempx_clust0_v)\n",
      "                    D_i_1 = quad(mu_int(sigma_null, mu_null, sigma, N0_1-1, X1_1), -inf, inf)[0]\n",
      "                    D_j_1 = quad(mu_int(sigma_null, mu_null, sigma, N1_1, X2_1), -inf, inf)[0]\n",
      "                    lik_alt_1_1 = (1-pi) * D_i_1 * D_j_1\n",
      "                    # the ratio under the 2nd cluster \n",
      "                    r_0_1 = lik_alt_0_1/(lik_alt_0_1+lik_alt_1_1)\n",
      "                \n",
      "                    if r_0 < r_0_1:\n",
      "                        post = lik_alt_0\n",
      "                        clust_0.update({i:post})\n",
      "                    else:\n",
      "                        post1 = lik_alt_0_1\n",
      "                        clust_1.update({i:post1})\n",
      "      \n",
      "\n",
      "\n",
      "            # select the max likelihood from the two lists\n",
      "            if (bool(clust_0) == True):\n",
      "                key_0,maxLik_0 = max(clust_0.iteritems(), key=lambda x:x[1])\n",
      "                clust0_v = np.append(clust0_v,df.ix[key_0,0])\n",
      "                init_index_0 = np.append(init_index_0,key_0)\n",
      "            if (bool(clust_1) == True):\n",
      "                key_1,maxLik_1 = max(clust_1.iteritems(), key=lambda x:x[1])\n",
      "                clust1_v = np.append(clust1_v,df.ix[key_1,0])\n",
      "                init_index_1 = np.append(init_index_1,key_1)\n",
      "\n",
      "            c = c-1\n",
      "        print init_index_0,init_index_1"
     ],
     "language": "python",
     "metadata": {},
     "outputs": [],
     "prompt_number": 10
    },
    {
     "cell_type": "markdown",
     "metadata": {},
     "source": [
      "To run the main function, we need first specify some of the parameter:\n",
      "\n",
      "+ df: this is the proposed dataset the algorithm will take through;\n",
      "+ sigma = 1, sigma is assumed to be known;\n",
      "+ mu_null: prior mean. We set this to be 10, because the mean of the data is around 10;\n",
      "+ sigma_null: prior variance, we set this to be 10, this is a a very diffused prior distribution;\n",
      "+ pi: the probability to select from the first cluster;\n",
      "+ init_index_0, init_index_1, clust0_v, clust1_v have been initialized."
     ]
    },
    {
     "cell_type": "markdown",
     "metadata": {},
     "source": [
      "+ ** Step 6: Run the Main Function: hcluster\uff1a**"
     ]
    },
    {
     "cell_type": "code",
     "collapsed": false,
     "input": [
      "# calculate the mean of the data\n",
      "np.mean(df,axis=0)"
     ],
     "language": "python",
     "metadata": {},
     "outputs": [
      {
       "metadata": {},
       "output_type": "pyout",
       "prompt_number": 11,
       "text": [
        "data    10.565698\n",
        "dtype: float64"
       ]
      }
     ],
     "prompt_number": 11
    },
    {
     "cell_type": "code",
     "collapsed": false,
     "input": [
      "# run the main function\n",
      "hcluster(df, sigma = 1, mu_null=10, sigma_null=10, pi=0.5, init_index_0 = init_index_0, init_index_1 = init_index_1, clust0_v = clust0_v, clust1_v = clust1_v)"
     ],
     "language": "python",
     "metadata": {},
     "outputs": [
      {
       "output_type": "stream",
       "stream": "stdout",
       "text": [
        "[ 1 15 11 13 19  9  5  3  7 17] [ 2 14  6  0 10  4 16  8 18 12]\n"
       ]
      }
     ],
     "prompt_number": 18
    },
    {
     "cell_type": "markdown",
     "metadata": {},
     "source": [
      "The output shows that there are two clusters like below (due to randomness, the output might not be the same everytime):\n",
      "\n",
      "$$[1,5,3,9,7,17,11,13,19,15] \\text{ and } [ 2,10,18,0,12,16,14,4,8,6]$$  \n",
      "\n",
      "According to our set up, the samples with the odd index are from the differnet cluster that the samples with the even index do.  Therefore, our algorithm is really strong in clustering the points to the correct clusters.\n",
      "\n",
      "The tree is grown from bottom to the up for each cluster. For the cluster 0, 5 is grouped with the initial point 1, then this new cluster is grouped with 3, etc. Similarly, in the cluster 1, 10 is grouped with the initial point 2 in cluster 10, then the new cluster will be grouped with 18 to become a new cluster, etc. We also can take a look at another example that has 80 data. We can see that the output is also well clustered:\n"
     ]
    },
    {
     "cell_type": "code",
     "collapsed": false,
     "input": [
      "# try hcluster on 80 data\n",
      "np.random.seed(1343)\n",
      "mean = (1,20)\n",
      "# Variance and covariance\n",
      "cov = [[1,0],[0,1]]\n",
      "n=40\n",
      "dat = np.random.multivariate_normal(mean,cov,n)\n",
      "# this is the simulated one-dimensional data set from normal distribution\n",
      "\n",
      "data = dat.reshape(n*2, 1)\n",
      "data = pd.DataFrame({'data': data.reshape(-1)})\n",
      "\n",
      "hcluster(data, sigma = 1, mu_null=10, sigma_null=1, pi=0.5, init_index_0 = init_index_0, init_index_1 = init_index_1, clust0_v = clust0_v, clust1_v = clust1_v)\n"
     ],
     "language": "python",
     "metadata": {},
     "outputs": [
      {
       "output_type": "stream",
       "stream": "stdout",
       "text": [
        "[ 1 15 55 53 73 11 29 25 57 13 77 61 19 43 71 41 49 35 69 21 51 63 47 79 45\n",
        " 31 75 59 65  9 33 67  5  3 39 23 37  7 17 27] [ 2 20 36 14 42 74 70 78  6  0 68 24 10  4 26 60 56 16 62 76  8 50 32 54 66\n",
        " 30 48 44 58 18 52 40 38 46 12 28 22 64 34 72]\n"
       ]
      }
     ],
     "prompt_number": 13
    },
    {
     "cell_type": "markdown",
     "metadata": {},
     "source": [
      "+ ** Step 7: Algorithm Performance and Code Test\uff1a**\n",
      "\n",
      "The function hcluster successfully distinguished the two clusters in the one-dimensional data set.  \n",
      "\n",
      "In addition, we also want to run a py.test. The test below is to test if the value computed by mu_int is a positive number. We writte the mu_int function into a file called integral.py. Then the test is written into a file called test_integral.py. All tests is passed."
     ]
    },
    {
     "cell_type": "code",
     "collapsed": false,
     "input": [
      " %%file integral.py\n",
      "\n",
      "from scipy.integrate import quad\n",
      "import math\n",
      "\n",
      "def mu_int(sigma_null, mu_null, sigma, N, X):\n",
      "    k1 = 1.0 / (sigma_null * math.sqrt(2*math.pi))\n",
      "    s1 = -1.0 / (2 * sigma_null * sigma_null)\n",
      "    \n",
      "    k2 = 1.0 / (sigma * math.sqrt(2*math.pi))\n",
      "    s2 = -1.0 / (2 * sigma * sigma)\n",
      "    \n",
      "    x_bar = X*1.0/N\n",
      "    \n",
      "    def f(mu):\n",
      "        return (k1 * math.exp(s1 * (mu - mu_null)*(mu - mu_null)))*(k2 * math.exp(s2 * N*(mu - x_bar)*(mu - x_bar)))\n",
      "    return f\n",
      "\n",
      "# The \"quad\" command below is to run the gaussian distribution \n",
      "# integration function:\n",
      "# quad(mu_int(10, 10, 10, 10, 105), -inf, inf)"
     ],
     "language": "python",
     "metadata": {},
     "outputs": [
      {
       "output_type": "stream",
       "stream": "stdout",
       "text": [
        "Writing integral.py\n"
       ]
      }
     ],
     "prompt_number": 14
    },
    {
     "cell_type": "code",
     "collapsed": false,
     "input": [
      "%%file test_integral.py\n",
      "\n",
      "import numpy as np\n",
      "from numpy.testing import assert_almost_equal\n",
      "from integral import mu_int\n",
      "import numpy.random\n",
      "\n",
      "\n",
      "def test_non_negativity():\n",
      "    for i in range(10):\n",
      "        # u, v, w are the values that match the pre-condition of the mu_int\n",
      "        u = np.random.uniform(1)\n",
      "        v = np.random.uniform(1)\n",
      "        w = np.random.uniform(1)\n",
      "        N = 3\n",
      "        x = np.random.normal(N)\n",
      "        assert mu_int(sigma_null = u, mu_null = v, sigma = w, N = N, X = x) >= 0"
     ],
     "language": "python",
     "metadata": {},
     "outputs": [
      {
       "output_type": "stream",
       "stream": "stdout",
       "text": [
        "Writing test_integral.py\n"
       ]
      }
     ],
     "prompt_number": 15
    },
    {
     "cell_type": "code",
     "collapsed": false,
     "input": [
      "! py.test"
     ],
     "language": "python",
     "metadata": {},
     "outputs": [
      {
       "output_type": "stream",
       "stream": "stdout",
       "text": [
        "\u001b[1m============================= test session starts ==============================\u001b[0m\r\n",
        "platform linux2 -- Python 2.7.9 -- py-1.4.25 -- pytest-2.6.3\r\n",
        "\u001b[1m\r",
        "collecting 0 items\u001b[0m"
       ]
      },
      {
       "output_type": "stream",
       "stream": "stdout",
       "text": [
        "\u001b[1m\r",
        "collecting 1 items\u001b[0m\u001b[1m\r",
        "collected 1 items \r\n",
        "\u001b[0m\r\n",
        "test_integral.py .\r\n",
        "\r\n",
        "\u001b[32m\u001b[1m=========================== 1 passed in 0.13 seconds ===========================\u001b[0m\r\n"
       ]
      }
     ],
     "prompt_number": 16
    },
    {
     "cell_type": "markdown",
     "metadata": {},
     "source": [
      "#### Case Study on Traditional Hierarchical Clustering Model\n",
      "\n",
      "Apply the traditional hierarchical clustering model to the data set **data**. We use four methods and draw 4 dendrograms:\n",
      "\n",
      "+ Complete\n",
      "+ Single\n",
      "+ Average\n",
      "+ Weighted\n",
      "\n",
      "We can compare the difference of the four dendrograms from the dendrogram we draw by using the BHC model. According to the dendrograms below, the dendrograms by using single and complete methods are most similar to what we do for the BHC model. Especially, the complete linkage is more distinguishable, because the heights of the clustering change more dramatically than the single linkage. \n",
      "\n",
      "First, we use *Single*:"
     ]
    },
    {
     "cell_type": "code",
     "collapsed": false,
     "input": [
      "# the seed will get the same data as the data we use for the case study\n",
      "np.random.seed(1343)\n",
      "mean = (1,20)\n",
      "# Variance and covariance\n",
      "cov = [[1,0],[0,1]]\n",
      "n=10\n",
      "dat = np.random.multivariate_normal(mean,cov,n)\n",
      "# this is the simulated one-dimensional data set from normal distribution\n",
      "# normal \n",
      "data = dat.reshape(n*2, 1)\n",
      "\n",
      "data_dist = pdist(data) # computing the distance\n",
      "data_link = linkage(data_dist,method='single') # computing the linkage\n",
      "dendrogram(data_link,labels=data.dtype.names)\n",
      "plt.xlabel('Samples')\n",
      "plt.ylabel('Distance')\n",
      "plt.suptitle('Samples clustering', fontweight='bold', fontsize=14);"
     ],
     "language": "python",
     "metadata": {},
     "outputs": [
      {
       "metadata": {},
       "output_type": "display_data",
       "png": "[encoded data removed]",
       "text": [
        "<matplotlib.figure.Figure at 0x7fbfcf8ad390>"
       ]
      }
     ],
     "prompt_number": 22
    },
    {
     "cell_type": "markdown",
     "metadata": {},
     "source": [
      "Second, we use *Complete*:"
     ]
    },
    {
     "cell_type": "code",
     "collapsed": false,
     "input": [
      "data_dist = pdist(data) # computing the distance\n",
      "data_link = linkage(data_dist,method='complete') # computing the linkage\n",
      "dendrogram(data_link,labels=data.dtype.names)\n",
      "plt.xlabel('Samples')\n",
      "plt.ylabel('Distance')\n",
      "plt.suptitle('Samples clustering', fontweight='bold', fontsize=14);"
     ],
     "language": "python",
     "metadata": {},
     "outputs": [
      {
       "metadata": {},
       "output_type": "display_data",
       "png": "[encoded data removed]",
       "text": [
        "<matplotlib.figure.Figure at 0x7fbfcf71a710>"
       ]
      }
     ],
     "prompt_number": 24
    },
    {
     "cell_type": "markdown",
     "metadata": {},
     "source": [
      "Third, we use *average*:"
     ]
    },
    {
     "cell_type": "code",
     "collapsed": false,
     "input": [
      "data_dist = pdist(data) # computing the distance\n",
      "data_link = linkage(data_dist,method='average') # computing the linkage\n",
      "dendrogram(data_link,labels=data.dtype.names)\n",
      "plt.xlabel('Samples')\n",
      "plt.ylabel('Distance')\n",
      "plt.suptitle('Samples clustering', fontweight='bold', fontsize=14);"
     ],
     "language": "python",
     "metadata": {},
     "outputs": [
      {
       "metadata": {},
       "output_type": "display_data",
       "png": "[encoded data removed]",
       "text": [
        "<matplotlib.figure.Figure at 0x7fbfcf8adcd0>"
       ]
      }
     ],
     "prompt_number": 25
    },
    {
     "cell_type": "markdown",
     "metadata": {},
     "source": [
      "Fourth, we use *weighted*:"
     ]
    },
    {
     "cell_type": "code",
     "collapsed": false,
     "input": [
      "data_dist = pdist(data) # computing the distance\n",
      "data_link = linkage(data_dist,method='weighted') # computing the linkage\n",
      "dendrogram(data_link,labels=data.dtype.names)\n",
      "plt.xlabel('Samples')\n",
      "plt.ylabel('Distance')\n",
      "plt.suptitle('Samples clustering', fontweight='bold', fontsize=14);"
     ],
     "language": "python",
     "metadata": {},
     "outputs": [
      {
       "metadata": {},
       "output_type": "display_data",
       "png": "[encoded data removed]",
       "text": [
        "<matplotlib.figure.Figure at 0x7fbfcf726a10>"
       ]
      }
     ],
     "prompt_number": 26
    },
    {
     "cell_type": "markdown",
     "metadata": {},
     "source": [
      "### Limitation of Implemented Algorithm\n",
      "\n",
      "The algorithm in the case study above is for one-dimensinal data from two distinct normal distribution. For further implememntaion:\n",
      "\n",
      "+ The initialization process of choosing the two initial points need to be more automatic. The only algorithm I can think of currently is the greedy algorithm that choose the 2 initial points pairwise, like the traditional hierarchical clustering algorithm does.\n",
      "+ When the sample size is larger than 100, there is possible an integration error;\n",
      "+ make the algorithm to accomodate the multinomial distribution;\n",
      "+ withough given the exact number of clusters the data are from, the algorithm can learn the number of clusters the data from through the iteraion;\n",
      "+ Without given the conjugate distribution, the algorithm can find the optimal likelihood through the EM optimization."
     ]
    },
    {
     "cell_type": "markdown",
     "metadata": {},
     "source": [
      "### Further Improvement and Explanation of the Difficulty"
     ]
    },
    {
     "cell_type": "markdown",
     "metadata": {},
     "source": [
      "For the next step, we want to implement a two dimensional clustering model. The function hcluster should be similar to that of the one-dimensional clustering model. The main difficult part is the integration of the marginal likelihood function.  \n",
      "\n",
      "Assume that the data is bivariate normal distribution:\n",
      "\n",
      "$ x = \n",
      "\\begin{bmatrix}\n",
      "    X_1\\\\ \n",
      "    X_2\n",
      "\\end{bmatrix}\n",
      "$\n",
      "\n",
      "$ \\mu = \n",
      "\\begin{bmatrix}\n",
      "    \\mu_1\\\\ \n",
      "    \\mu_2\n",
      "\\end{bmatrix}\n",
      "$\n",
      "\n",
      "$ \\Sigma = \n",
      "\\begin{bmatrix}\n",
      "    \\sigma^2_1 & \\sigma^2_{X_1 X_2}\\\\ \n",
      "    \\sigma^2_{X_1 X_2} &\\sigma^2_2\n",
      "\\end{bmatrix}\n",
      "$\n",
      "\n",
      "The prior distribution for $\\mu$ is:  \n",
      "\n",
      "$ \\mu_0 = \n",
      "\\begin{bmatrix}\n",
      "    \\mu_{10}\\\\ \n",
      "    \\mu_{20}\n",
      "\\end{bmatrix}\n",
      "$\n",
      "\n",
      "$ \\Sigma = \n",
      "\\begin{bmatrix}\n",
      "    \\sigma^2_{10} & \\sigma^2_{X_{10} X_{20}}\\\\ \n",
      "    \\sigma^2_{X_{10} X_{20}} &\\sigma^2_{20}\n",
      "\\end{bmatrix}\n",
      "$\n",
      "\n",
      "\n",
      "Assume that the next considered data is from the first clustering, the marginal likelihood $P(\\mathcal{D}|H_1)$ becomes:\n",
      "\n",
      "$$P(\\mathcal{D}|H_1) = \\int f(x|\\mu)f(\\mu) \\mathcal{d}\\mu = \\int_{-\\infty}^{\\infty} \\int_{-\\infty}^{\\infty} \\bigg[ \\bigg(\\frac{1}{2\\pi\\sigma_1\\sigma_2}\\bigg)^n exp \\bigg(-\\frac{1}{2(1-\\rho^2)} \\sum_{i=1}^n \\bigg[\\frac{(x_{1i}-\\mu_1)^2}{\\sigma_1^2} -\\frac{2\\rho(x_{1i} - \\mu_1)(x_{i2}-\\mu_2)}{\\sigma_1 \\sigma_2}+ \\frac{(x_{2i}-\\mu_2)^2}{\\sigma_2^2} \\bigg] \\bigg)\\bigg]\n",
      "\\bigg[\\bigg(\\frac{1}{\\sigma_{10} \\sigma_{20} \\sqrt{2\\pi}}\\bigg) exp \\bigg(\\frac{1}{2(1-\\rho_0^2)}\\bigg[\\frac{(\\mu_1-\\mu_{10})^2}{\\sigma_{10}^2} -\\frac{2\\rho_0(\\mu_{1} - \\mu_{10})(\\mu_2-\\mu_{20})}{\\sigma_{10} \\sigma_{20}}+ \\frac{(\\mu_{2}-\\mu_{20})^2}{\\sigma_{20}^2} \\bigg] \\bigg)   \\bigg]\\mathcal{d}\\mu_1\\mathcal{d}\\mu_2 $$\n",
      "\n",
      "This computation is very complicated to compute: it does not have closed form. Even we know that it can conjugate to become a normal posterior, but we have to consider the normalizer term, otherwise, all the integration will become 1, there is no points to run the iteration on the marginal likelihood.\n",
      "\n",
      "But after solve the problem, we can disinguish the two groups in the graph below by BHC:"
     ]
    },
    {
     "cell_type": "code",
     "collapsed": false,
     "input": [
      "# Sample a set of bivariate normal data that are from two distinct clusters\n",
      "import matplotlib.pyplot as plt\n",
      "\n",
      "mean = [0,0]\n",
      "cov = [[1,0],[0,1]] # diagonal covariance, points lie on x or y-axis\n",
      "\n",
      "mean2 = [20,20]\n",
      "cov2 = [[1,0],[0,1]] # diagonal covariance, points lie on x or y-axis\n",
      "\n",
      "x1,y1 = np.random.multivariate_normal(mean,cov,50).T\n",
      "x2,y2 = np.random.multivariate_normal(mean2,cov2,50).T\n",
      "x = np.array([x1,x2])\n",
      "y = np.array([y1,y2])\n",
      "plt.title('2-dimensonal Data with Two distinguished Clusters')\n",
      "plt.plot(x,y,'o'); plt.axis('equal'); plt.show()\n"
     ],
     "language": "python",
     "metadata": {},
     "outputs": [
      {
       "metadata": {},
       "output_type": "display_data",
       "png": "[encoded data removed]",
       "text": [
        "<matplotlib.figure.Figure at 0x7f141d6857d0>"
       ]
      }
     ],
     "prompt_number": 71
    },
    {
     "cell_type": "markdown",
     "metadata": {},
     "source": [
      "### Conclusion\n",
      "\n",
      "Before wrapping up this project, we can see that BHC has more advantages over the traditional algorithm. The traditional Agglomerative Hierarchical Algorithm has limitations. There is no certain rubric to decide the number of clusters to choose: there are generally only four types of linkages to choose from according to similarity measures: complete, single, average and centroid. The \u201cgood\u201d or \u201cbad\u201d model can just be decided by intuition. Over-fitting issues are always involved, and there is no proper way to evaluate the degree of over-fitting. Instead, the BHC builds up a probabilistic model by computing marginal probability: the probability that the data merging together. This probabilistic model can be easily applied when evaluate the over-fitting and compute the predictive model. The Bayesian hypothesis testing can be also used to decide to the depth of the dendrogram, this is a more resonable way to than the traditional hierarchical model does. \n",
      "\n",
      "However, the BHC model also has its shortage, for example, the likelihood function does not have the closed form under the integration. Like what we illustrate in the further improvement session. This requires a high computation complexity and delicated derivation. "
     ]
    },
    {
     "cell_type": "markdown",
     "metadata": {},
     "source": [
      "### Citation"
     ]
    },
    {
     "cell_type": "markdown",
     "metadata": {},
     "source": [
      "*Bayesian Hierarchical Clustering*, Katherine A. Heller, Zoubin Ghahramani\n",
      "\n",
      "*Bayesian Hierarchical Clustering in Class Slides* http://cs.brown.edu/courses/csci2950-p/fall2011/lectures/2011-10-13_ghosh.pdf\n",
      "\n",
      "*Bayesian Hierarchical Clustering for Studying Cancer Gene Expression Data with Unknown Statistics.* Ed. Ferdinando Di Cunto. PLoS ONE 8.10 (2013): e75748. PMC. Web. 30 Apr. 2015.\n",
      "\n",
      "*An Introduction to Statistical Learning with Applications in R* Gareth J., Daniela Witten, Trevor H, Robert T.\n"
     ]
    }
   ],
   "metadata": {}
  }
 ]
}